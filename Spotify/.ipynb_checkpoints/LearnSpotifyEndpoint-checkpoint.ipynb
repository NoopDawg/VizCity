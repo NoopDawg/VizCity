{
 "cells": [
  {
   "cell_type": "code",
   "execution_count": 125,
   "metadata": {},
   "outputs": [],
   "source": [
    "import spotipy\n",
    "import pandas as pd\n",
    "import numpy as np\n",
    "from spotipy.oauth2 import SpotifyClientCredentials\n",
    "import json\n",
    "from pandas.io.json import json_normalize\n",
    "\n",
    "#pd.set_option('display.height', 1000)\n",
    "#pd.set_option('display.max_rows', 500)\n",
    "#pd.set_option('display.max_columns', 500)\n",
    "#pd.set_option('display.width', 1000)\n",
    "\n",
    "#personal developer key from dev.spotify.com\n",
    "cid =\"cf4404fee2774e0da9efde8b60101fac\" \n",
    "secret = \"77b298babf78448ca28364684ac892df\"\n",
    "\n",
    "client_credentials_manager = SpotifyClientCredentials(client_id=cid, client_secret=secret)\n",
    "sp = spotipy.Spotify(client_credentials_manager=client_credentials_manager)"
   ]
  },
  {
   "cell_type": "code",
   "execution_count": 73,
   "metadata": {
    "scrolled": false
   },
   "outputs": [],
   "source": [
    "#spotify = spotipy.Spotify()\n",
    "results = sp.search(q='artist:' + 'Frank Ocean', type='artist')\n",
    "#print(json.dumps(res, sort_keys=True, indent=4))\n",
    "#print(json.dumps(results, sort_keys=True, indent=4))\n",
    "#print(json.dumps(stream_history, sort_keys=True, indent=4))\n",
    "\n",
    "import glob\n",
    "file = 'MyData/StreamingHistory0.json'\n",
    "StreamingFiles = glob.iglob('MyData/StreamingHistory[0-9].json')\n",
    "\n",
    "data = pd.DataFrame()\n",
    "\n",
    "for file in StreamingFiles:\n",
    "    with open(file) as f:\n",
    "        #print(file)\n",
    "        stream_history = json.load(f)\n",
    "        table = json_normalize(stream_history)\n",
    "        #print(len(table))\n",
    "        data = data.append(table)"
   ]
  },
  {
   "cell_type": "code",
   "execution_count": 75,
   "metadata": {},
   "outputs": [],
   "source": [
    "data = data.sort_values(by=['artistName'])\n",
    "\n",
    "artist_list = data.artistName.unique()\n",
    "\n",
    "len(artist_list)"
   ]
  },
  {
   "cell_type": "code",
   "execution_count": 132,
   "metadata": {},
   "outputs": [],
   "source": [
    "artist_counts = data.artistName.value_counts()\n",
    "#display(artist_counts)"
   ]
  },
  {
   "cell_type": "code",
   "execution_count": 79,
   "metadata": {},
   "outputs": [],
   "source": [
    "data2 = data.join(artist_counts, on=['artistName'], how='left', lsuffix='', rsuffix='_counts', sort=True)"
   ]
  },
  {
   "cell_type": "code",
   "execution_count": 131,
   "metadata": {},
   "outputs": [],
   "source": [
    "data2 = data2.sort_values(by=['artistName_counts'], ascending=False)"
   ]
  },
  {
   "cell_type": "code",
   "execution_count": 81,
   "metadata": {},
   "outputs": [],
   "source": [
    "play10 = artist_counts.loc[artist_counts > 100]"
   ]
  },
  {
   "cell_type": "code",
   "execution_count": 83,
   "metadata": {
    "collapsed": true
   },
   "outputs": [
    {
     "data": {
      "text/plain": [
       "<matplotlib.axes._subplots.AxesSubplot at 0x11c708b20>"
      ]
     },
     "execution_count": 83,
     "metadata": {},
     "output_type": "execute_result"
    },
    {
     "data": {
      "image/png": "[encoded data removed]",
      "text/plain": [
       "<Figure size 432x288 with 1 Axes>"
      ]
     },
     "metadata": {
      "needs_background": "light"
     },
     "output_type": "display_data"
    }
   ],
   "source": [
    "play10.plot.bar()"
   ]
  },
  {
   "cell_type": "code",
   "execution_count": 84,
   "metadata": {},
   "outputs": [],
   "source": [
    "data2.to_csv('StreamingHistory.txt', sep='\\t')"
   ]
  },
  {
   "cell_type": "code",
   "execution_count": 85,
   "metadata": {
    "scrolled": true
   },
   "outputs": [],
   "source": [
    "results = sp.search(q='Walk Away' + ' - '+ '(Sandy) Alex G')\n",
    "#print(json.dumps(results, sort_keys=True, indent=4))\n",
    "name = results['tracks']['items'][0]\n",
    "#print(json.dumps(name, sort_keys=True, indent=4))\n",
    "tab = json_normalize(name)"
   ]
  },
  {
   "cell_type": "code",
   "execution_count": 86,
   "metadata": {
    "scrolled": true
   },
   "outputs": [],
   "source": [
    "data_subset = data.iloc[0:len(data)]"
   ]
  },
  {
   "cell_type": "code",
   "execution_count": 128,
   "metadata": {},
   "outputs": [],
   "source": [
    "#data_subset.loc[\"genres\"] = \"\"\n",
    "genre_list = [];\n",
    "for ii in range(0, 2): # len(artist_counts)):\n",
    "    artist_name = artist_counts.index[ii]\n",
    "    #display(artist_name)\n",
    "    searchResult = sp.search(artist_name, limit=1, type='artist')\n",
    "    if (len(searchResult['artists']['items']) > 0): \n",
    "        artist = searchResult['artists']['items'][0]\n",
    "    else:\n",
    "        genre_list.append('null')\n",
    "        pass\n",
    "    #display(artist)\n",
    "    if len(artist['genres']) > 0:   \n",
    "        #display(artist['genres'][0])\n",
    "        genre_list.append(artist['genres'])\n",
    "        #data_subset.iloc[ii,5] = artist['genres'][0]\n",
    "    else:\n",
    "        genre_list.append('null')\n",
    "        pass\n",
    "        #data_subset.iloc[ii]['genres'] = 'none'"
   ]
  },
  {
   "cell_type": "code",
   "execution_count": 96,
   "metadata": {},
   "outputs": [],
   "source": [
    "artists_series = pd.Series(genre_list)"
   ]
  },
  {
   "cell_type": "code",
   "execution_count": 103,
   "metadata": {},
   "outputs": [],
   "source": [
    "len(artists_series)\n",
    "series_index = artist_counts.index[0:len(genre_list)]\n",
    "\n",
    "artists_series = pd.Series(genre_list, index=series_index)"
   ]
  },
  {
   "cell_type": "code",
   "execution_count": 106,
   "metadata": {},
   "outputs": [],
   "source": [
    "idx = data2['artistName'].isin(series_index)"
   ]
  },
  {
   "cell_type": "code",
   "execution_count": 113,
   "metadata": {},
   "outputs": [],
   "source": [
    "s = pd.DataFrame(artists_series)\n",
    "\n",
    "s.columns = ['genre']\n",
    "\n",
    "data_table = data2.join(s, on='artistName', how='left')\n",
    "\n",
    "display(data_table)"
   ]
  },
  {
   "cell_type": "code",
   "execution_count": 127,
   "metadata": {},
   "outputs": [],
   "source": [
    "data_table.to_csv('StreamingHistory.txt', sep='\\t')"
   ]
  },
  {
   "cell_type": "code",
   "execution_count": 129,
   "metadata": {},
   "outputs": [
    {
     "data": {
      "text/plain": [
       "[['escape room', 'hip hop', 'rap'], ['hip hop', 'lgbtq+ hip hop', 'rap']]"
      ]
     },
     "execution_count": 129,
     "metadata": {},
     "output_type": "execute_result"
    }
   ],
   "source": [
    "genre_list"
   ]
  },
  {
   "cell_type": "code",
   "execution_count": null,
   "metadata": {},
   "outputs": [],
   "source": []
  }
 ],
 "metadata": {
  "kernelspec": {
   "display_name": "Python 3",
   "language": "python",
   "name": "python3"
  },
  "language_info": {
   "codemirror_mode": {
    "name": "ipython",
    "version": 3
   },
   "file_extension": ".py",
   "mimetype": "text/x-python",
   "name": "python",
   "nbconvert_exporter": "python",
   "pygments_lexer": "ipython3",
   "version": "3.8.0"
  }
 },
 "nbformat": 4,
 "nbformat_minor": 2
}
