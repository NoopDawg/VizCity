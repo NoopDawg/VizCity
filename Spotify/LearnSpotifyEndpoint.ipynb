{
 "cells": [
  {
   "cell_type": "code",
   "execution_count": 1,
   "metadata": {},
   "outputs": [],
   "source": [
    "import spotipy\n",
    "import pandas as pd\n",
    "import numpy as np\n",
    "from spotipy.oauth2 import SpotifyClientCredentials\n",
    "import json\n",
    "from pandas.io.json import json_normalize\n",
    "\n",
    "cid =\"cf4404fee2774e0da9efde8b60101fac\" \n",
    "secret = \"77b298babf78448ca28364684ac892df\"\n",
    "\n",
    "client_credentials_manager = SpotifyClientCredentials(client_id=cid, client_secret=secret)\n",
    "sp = spotipy.Spotify(client_credentials_manager=client_credentials_manager)"
   ]
  },
  {
   "cell_type": "code",
   "execution_count": 2,
   "metadata": {
    "scrolled": false
   },
   "outputs": [],
   "source": [
    "#spotify = spotipy.Spotify()\n",
    "results = sp.search(q='artist:' + 'Frank Ocean', type='artist')\n",
    "#print(json.dumps(res, sort_keys=True, indent=4))\n",
    "#print(json.dumps(results, sort_keys=True, indent=4))\n",
    "#print(json.dumps(stream_history, sort_keys=True, indent=4))"
   ]
  },
  {
   "cell_type": "code",
   "execution_count": 3,
   "metadata": {
    "scrolled": true
   },
   "outputs": [],
   "source": [
    "import glob\n",
    "file = 'MyData/StreamingHistory0.json'\n",
    "StreamingFiles = glob.iglob('MyData/StreamingHistory[0-9].json')\n",
    "\n",
    "data = pd.DataFrame()\n",
    "\n",
    "for file in StreamingFiles:\n",
    "    with open(file) as f:\n",
    "        #print(file)\n",
    "        stream_history = json.load(f)\n",
    "        table = json_normalize(stream_history)\n",
    "        #print(len(table))\n",
    "        data = data.append(table)"
   ]
  },
  {
   "cell_type": "code",
   "execution_count": 4,
   "metadata": {},
   "outputs": [],
   "source": [
    "data = data.sort_values(by=['artistName'])"
   ]
  },
  {
   "cell_type": "code",
   "execution_count": 5,
   "metadata": {},
   "outputs": [],
   "source": [
    "artist_list = data.artistName.unique()"
   ]
  },
  {
   "cell_type": "code",
   "execution_count": 9,
   "metadata": {},
   "outputs": [
    {
     "data": {
      "text/plain": [
       "1939"
      ]
     },
     "execution_count": 9,
     "metadata": {},
     "output_type": "execute_result"
    }
   ],
   "source": [
    "len(artist_list)"
   ]
  },
  {
   "cell_type": "code",
   "execution_count": 10,
   "metadata": {},
   "outputs": [
    {
     "data": {
      "text/html": [
       "<div>\n",
       "<style scoped>\n",
       "    .dataframe tbody tr th:only-of-type {\n",
       "        vertical-align: middle;\n",
       "    }\n",
       "\n",
       "    .dataframe tbody tr th {\n",
       "        vertical-align: top;\n",
       "    }\n",
       "\n",
       "    .dataframe thead th {\n",
       "        text-align: right;\n",
       "    }\n",
       "</style>\n",
       "<table border=\"1\" class=\"dataframe\">\n",
       "  <thead>\n",
       "    <tr style=\"text-align: right;\">\n",
       "      <th></th>\n",
       "      <th>artistName</th>\n",
       "      <th>endTime</th>\n",
       "      <th>msPlayed</th>\n",
       "      <th>trackName</th>\n",
       "    </tr>\n",
       "  </thead>\n",
       "  <tbody>\n",
       "    <tr>\n",
       "      <th>8580</th>\n",
       "      <td>!!!</td>\n",
       "      <td>2019-10-25 17:36</td>\n",
       "      <td>243626</td>\n",
       "      <td>One Girl / One Boy</td>\n",
       "    </tr>\n",
       "    <tr>\n",
       "      <th>9188</th>\n",
       "      <td>$ilkMoney</td>\n",
       "      <td>2019-11-05 22:13</td>\n",
       "      <td>117995</td>\n",
       "      <td>Naga</td>\n",
       "    </tr>\n",
       "    <tr>\n",
       "      <th>5880</th>\n",
       "      <td>(Sandy) Alex G</td>\n",
       "      <td>2019-09-17 13:24</td>\n",
       "      <td>0</td>\n",
       "      <td>Walk Away</td>\n",
       "    </tr>\n",
       "    <tr>\n",
       "      <th>329</th>\n",
       "      <td>(Sandy) Alex G</td>\n",
       "      <td>2019-06-15 16:13</td>\n",
       "      <td>190218</td>\n",
       "      <td>Gretel</td>\n",
       "    </tr>\n",
       "    <tr>\n",
       "      <th>214</th>\n",
       "      <td>(Sandy) Alex G</td>\n",
       "      <td>2019-06-13 16:21</td>\n",
       "      <td>140630</td>\n",
       "      <td>Gretel</td>\n",
       "    </tr>\n",
       "    <tr>\n",
       "      <th>439</th>\n",
       "      <td>(Sandy) Alex G</td>\n",
       "      <td>2019-06-19 17:14</td>\n",
       "      <td>0</td>\n",
       "      <td>Gretel</td>\n",
       "    </tr>\n",
       "    <tr>\n",
       "      <th>5881</th>\n",
       "      <td>(Sandy) Alex G</td>\n",
       "      <td>2019-09-17 13:51</td>\n",
       "      <td>37610</td>\n",
       "      <td>Walk Away</td>\n",
       "    </tr>\n",
       "    <tr>\n",
       "      <th>5878</th>\n",
       "      <td>(Sandy) Alex G</td>\n",
       "      <td>2019-09-17 13:23</td>\n",
       "      <td>0</td>\n",
       "      <td>Walk Away</td>\n",
       "    </tr>\n",
       "    <tr>\n",
       "      <th>415</th>\n",
       "      <td>(Sandy) Alex G</td>\n",
       "      <td>2019-06-19 16:45</td>\n",
       "      <td>190218</td>\n",
       "      <td>Gretel</td>\n",
       "    </tr>\n",
       "    <tr>\n",
       "      <th>49</th>\n",
       "      <td>(Sandy) Alex G</td>\n",
       "      <td>2019-06-10 04:06</td>\n",
       "      <td>8680</td>\n",
       "      <td>Gretel</td>\n",
       "    </tr>\n",
       "    <tr>\n",
       "      <th>800</th>\n",
       "      <td>(Sandy) Alex G</td>\n",
       "      <td>2019-06-28 18:11</td>\n",
       "      <td>655</td>\n",
       "      <td>Gretel</td>\n",
       "    </tr>\n",
       "    <tr>\n",
       "      <th>573</th>\n",
       "      <td>(Sandy) Alex G</td>\n",
       "      <td>2019-06-21 23:14</td>\n",
       "      <td>39891</td>\n",
       "      <td>Gretel</td>\n",
       "    </tr>\n",
       "    <tr>\n",
       "      <th>2415</th>\n",
       "      <td>*NSYNC</td>\n",
       "      <td>2019-07-23 00:41</td>\n",
       "      <td>42004</td>\n",
       "      <td>Bye Bye Bye</td>\n",
       "    </tr>\n",
       "    <tr>\n",
       "      <th>2413</th>\n",
       "      <td>*NSYNC</td>\n",
       "      <td>2019-07-23 00:37</td>\n",
       "      <td>9682</td>\n",
       "      <td>Bye Bye Bye</td>\n",
       "    </tr>\n",
       "    <tr>\n",
       "      <th>5311</th>\n",
       "      <td>0171</td>\n",
       "      <td>2019-02-21 01:56</td>\n",
       "      <td>239456</td>\n",
       "      <td>1000 Words</td>\n",
       "    </tr>\n",
       "    <tr>\n",
       "      <th>7986</th>\n",
       "      <td>0171</td>\n",
       "      <td>2019-10-17 02:43</td>\n",
       "      <td>239455</td>\n",
       "      <td>1000 Words</td>\n",
       "    </tr>\n",
       "    <tr>\n",
       "      <th>5001</th>\n",
       "      <td>0171</td>\n",
       "      <td>2019-02-14 23:52</td>\n",
       "      <td>239456</td>\n",
       "      <td>1000 Words</td>\n",
       "    </tr>\n",
       "    <tr>\n",
       "      <th>4998</th>\n",
       "      <td>0171</td>\n",
       "      <td>2019-02-14 23:06</td>\n",
       "      <td>240292</td>\n",
       "      <td>1000 Words</td>\n",
       "    </tr>\n",
       "    <tr>\n",
       "      <th>4969</th>\n",
       "      <td>0171</td>\n",
       "      <td>2019-02-14 01:53</td>\n",
       "      <td>239455</td>\n",
       "      <td>1000 Words</td>\n",
       "    </tr>\n",
       "    <tr>\n",
       "      <th>5339</th>\n",
       "      <td>0171</td>\n",
       "      <td>2019-02-21 03:23</td>\n",
       "      <td>239456</td>\n",
       "      <td>1000 Words</td>\n",
       "    </tr>\n",
       "    <tr>\n",
       "      <th>5365</th>\n",
       "      <td>0171</td>\n",
       "      <td>2019-02-21 05:07</td>\n",
       "      <td>239456</td>\n",
       "      <td>1000 Words</td>\n",
       "    </tr>\n",
       "    <tr>\n",
       "      <th>6133</th>\n",
       "      <td>0171</td>\n",
       "      <td>2019-03-15 18:12</td>\n",
       "      <td>239455</td>\n",
       "      <td>1000 Words</td>\n",
       "    </tr>\n",
       "    <tr>\n",
       "      <th>9009</th>\n",
       "      <td>0171</td>\n",
       "      <td>2019-11-03 19:31</td>\n",
       "      <td>239455</td>\n",
       "      <td>1000 Words</td>\n",
       "    </tr>\n",
       "    <tr>\n",
       "      <th>5753</th>\n",
       "      <td>0171</td>\n",
       "      <td>2019-02-25 23:22</td>\n",
       "      <td>239455</td>\n",
       "      <td>1000 Words</td>\n",
       "    </tr>\n",
       "    <tr>\n",
       "      <th>5443</th>\n",
       "      <td>0171</td>\n",
       "      <td>2019-02-21 10:16</td>\n",
       "      <td>239456</td>\n",
       "      <td>1000 Words</td>\n",
       "    </tr>\n",
       "    <tr>\n",
       "      <th>5469</th>\n",
       "      <td>0171</td>\n",
       "      <td>2019-02-21 11:59</td>\n",
       "      <td>239456</td>\n",
       "      <td>1000 Words</td>\n",
       "    </tr>\n",
       "    <tr>\n",
       "      <th>5633</th>\n",
       "      <td>0171</td>\n",
       "      <td>2019-02-23 02:03</td>\n",
       "      <td>239455</td>\n",
       "      <td>1000 Words</td>\n",
       "    </tr>\n",
       "    <tr>\n",
       "      <th>5492</th>\n",
       "      <td>0171</td>\n",
       "      <td>2019-02-21 23:53</td>\n",
       "      <td>239455</td>\n",
       "      <td>1000 Words</td>\n",
       "    </tr>\n",
       "    <tr>\n",
       "      <th>5966</th>\n",
       "      <td>0171</td>\n",
       "      <td>2019-03-06 16:55</td>\n",
       "      <td>239455</td>\n",
       "      <td>1000 Words</td>\n",
       "    </tr>\n",
       "    <tr>\n",
       "      <th>5391</th>\n",
       "      <td>0171</td>\n",
       "      <td>2019-02-21 06:50</td>\n",
       "      <td>239456</td>\n",
       "      <td>1000 Words</td>\n",
       "    </tr>\n",
       "    <tr>\n",
       "      <th>...</th>\n",
       "      <td>...</td>\n",
       "      <td>...</td>\n",
       "      <td>...</td>\n",
       "      <td>...</td>\n",
       "    </tr>\n",
       "    <tr>\n",
       "      <th>4242</th>\n",
       "      <td>trentemøller</td>\n",
       "      <td>2019-01-28 20:29</td>\n",
       "      <td>311054</td>\n",
       "      <td>While The Cold Winter Waiting</td>\n",
       "    </tr>\n",
       "    <tr>\n",
       "      <th>5835</th>\n",
       "      <td>trentemøller</td>\n",
       "      <td>2019-09-16 17:11</td>\n",
       "      <td>311054</td>\n",
       "      <td>While The Cold Winter Waiting</td>\n",
       "    </tr>\n",
       "    <tr>\n",
       "      <th>5843</th>\n",
       "      <td>trentemøller</td>\n",
       "      <td>2019-09-16 17:48</td>\n",
       "      <td>450562</td>\n",
       "      <td>Take Me Into Your Skin</td>\n",
       "    </tr>\n",
       "    <tr>\n",
       "      <th>6928</th>\n",
       "      <td>trentemøller</td>\n",
       "      <td>2019-10-04 20:57</td>\n",
       "      <td>309265</td>\n",
       "      <td>Blue September</td>\n",
       "    </tr>\n",
       "    <tr>\n",
       "      <th>4233</th>\n",
       "      <td>trentemøller</td>\n",
       "      <td>2019-01-28 19:46</td>\n",
       "      <td>450562</td>\n",
       "      <td>Take Me Into Your Skin</td>\n",
       "    </tr>\n",
       "    <tr>\n",
       "      <th>1509</th>\n",
       "      <td>w00ds</td>\n",
       "      <td>2018-12-10 19:12</td>\n",
       "      <td>143777</td>\n",
       "      <td>Electric Soul</td>\n",
       "    </tr>\n",
       "    <tr>\n",
       "      <th>6359</th>\n",
       "      <td>weird inside</td>\n",
       "      <td>2019-09-23 17:58</td>\n",
       "      <td>173846</td>\n",
       "      <td>just ask</td>\n",
       "    </tr>\n",
       "    <tr>\n",
       "      <th>7803</th>\n",
       "      <td>weird inside</td>\n",
       "      <td>2019-10-14 06:03</td>\n",
       "      <td>173328</td>\n",
       "      <td>just ask</td>\n",
       "    </tr>\n",
       "    <tr>\n",
       "      <th>6325</th>\n",
       "      <td>weird inside</td>\n",
       "      <td>2019-09-23 16:24</td>\n",
       "      <td>173846</td>\n",
       "      <td>just ask</td>\n",
       "    </tr>\n",
       "    <tr>\n",
       "      <th>8857</th>\n",
       "      <td>weird inside</td>\n",
       "      <td>2019-10-31 18:00</td>\n",
       "      <td>173846</td>\n",
       "      <td>just ask</td>\n",
       "    </tr>\n",
       "    <tr>\n",
       "      <th>5986</th>\n",
       "      <td>weird inside</td>\n",
       "      <td>2019-09-19 18:19</td>\n",
       "      <td>173846</td>\n",
       "      <td>just ask</td>\n",
       "    </tr>\n",
       "    <tr>\n",
       "      <th>1092</th>\n",
       "      <td>weird inside</td>\n",
       "      <td>2019-07-03 17:27</td>\n",
       "      <td>173846</td>\n",
       "      <td>just ask</td>\n",
       "    </tr>\n",
       "    <tr>\n",
       "      <th>7756</th>\n",
       "      <td>weird inside</td>\n",
       "      <td>2019-10-14 04:13</td>\n",
       "      <td>1670</td>\n",
       "      <td>just ask</td>\n",
       "    </tr>\n",
       "    <tr>\n",
       "      <th>6369</th>\n",
       "      <td>weird inside</td>\n",
       "      <td>2019-09-23 18:07</td>\n",
       "      <td>2218</td>\n",
       "      <td>just ask</td>\n",
       "    </tr>\n",
       "    <tr>\n",
       "      <th>8827</th>\n",
       "      <td>weird inside</td>\n",
       "      <td>2019-10-31 15:11</td>\n",
       "      <td>173846</td>\n",
       "      <td>just ask</td>\n",
       "    </tr>\n",
       "    <tr>\n",
       "      <th>8892</th>\n",
       "      <td>weird inside</td>\n",
       "      <td>2019-10-31 19:46</td>\n",
       "      <td>173846</td>\n",
       "      <td>just ask</td>\n",
       "    </tr>\n",
       "    <tr>\n",
       "      <th>2555</th>\n",
       "      <td>weird inside</td>\n",
       "      <td>2019-07-24 18:49</td>\n",
       "      <td>173846</td>\n",
       "      <td>just ask</td>\n",
       "    </tr>\n",
       "    <tr>\n",
       "      <th>7059</th>\n",
       "      <td>weird inside</td>\n",
       "      <td>2019-10-07 14:40</td>\n",
       "      <td>173846</td>\n",
       "      <td>just ask</td>\n",
       "    </tr>\n",
       "    <tr>\n",
       "      <th>8343</th>\n",
       "      <td>yeule</td>\n",
       "      <td>2019-10-23 19:53</td>\n",
       "      <td>260685</td>\n",
       "      <td>Poison Arrow</td>\n",
       "    </tr>\n",
       "    <tr>\n",
       "      <th>6196</th>\n",
       "      <td>yeule</td>\n",
       "      <td>2019-09-21 14:22</td>\n",
       "      <td>870</td>\n",
       "      <td>Pocky Boy</td>\n",
       "    </tr>\n",
       "    <tr>\n",
       "      <th>8768</th>\n",
       "      <td>yeule</td>\n",
       "      <td>2019-10-29 18:55</td>\n",
       "      <td>241388</td>\n",
       "      <td>Pocky Boy</td>\n",
       "    </tr>\n",
       "    <tr>\n",
       "      <th>2442</th>\n",
       "      <td>zack villere</td>\n",
       "      <td>2018-12-23 07:59</td>\n",
       "      <td>191984</td>\n",
       "      <td>Bloo</td>\n",
       "    </tr>\n",
       "    <tr>\n",
       "      <th>9877</th>\n",
       "      <td>Ólafur Arnalds</td>\n",
       "      <td>2019-11-19 17:00</td>\n",
       "      <td>194319</td>\n",
       "      <td>brot (lisboa) - live</td>\n",
       "    </tr>\n",
       "    <tr>\n",
       "      <th>6771</th>\n",
       "      <td>ØDYSSEE</td>\n",
       "      <td>2019-10-01 17:42</td>\n",
       "      <td>147002</td>\n",
       "      <td>Common'</td>\n",
       "    </tr>\n",
       "    <tr>\n",
       "      <th>6790</th>\n",
       "      <td>ØDYSSEE</td>\n",
       "      <td>2019-10-01 18:40</td>\n",
       "      <td>73248</td>\n",
       "      <td>Fallin' in Love</td>\n",
       "    </tr>\n",
       "    <tr>\n",
       "      <th>6785</th>\n",
       "      <td>ØDYSSEE</td>\n",
       "      <td>2019-10-01 18:29</td>\n",
       "      <td>120740</td>\n",
       "      <td>Let Me Sink</td>\n",
       "    </tr>\n",
       "    <tr>\n",
       "      <th>6778</th>\n",
       "      <td>ØDYSSEE</td>\n",
       "      <td>2019-10-01 18:10</td>\n",
       "      <td>147002</td>\n",
       "      <td>Common'</td>\n",
       "    </tr>\n",
       "    <tr>\n",
       "      <th>2778</th>\n",
       "      <td>ØDYSSEE</td>\n",
       "      <td>2019-07-29 18:02</td>\n",
       "      <td>179469</td>\n",
       "      <td>Midnight Romance</td>\n",
       "    </tr>\n",
       "    <tr>\n",
       "      <th>7038</th>\n",
       "      <td>박혜진 park hye jin</td>\n",
       "      <td>2019-04-03 13:42</td>\n",
       "      <td>176729</td>\n",
       "      <td>ABC</td>\n",
       "    </tr>\n",
       "    <tr>\n",
       "      <th>7196</th>\n",
       "      <td>박혜진 park hye jin</td>\n",
       "      <td>2019-04-05 11:39</td>\n",
       "      <td>242000</td>\n",
       "      <td>ABC</td>\n",
       "    </tr>\n",
       "  </tbody>\n",
       "</table>\n",
       "<p>20001 rows × 4 columns</p>\n",
       "</div>"
      ],
      "text/plain": [
       "            artistName           endTime  msPlayed  \\\n",
       "8580               !!!  2019-10-25 17:36    243626   \n",
       "9188         $ilkMoney  2019-11-05 22:13    117995   \n",
       "5880    (Sandy) Alex G  2019-09-17 13:24         0   \n",
       "329     (Sandy) Alex G  2019-06-15 16:13    190218   \n",
       "214     (Sandy) Alex G  2019-06-13 16:21    140630   \n",
       "439     (Sandy) Alex G  2019-06-19 17:14         0   \n",
       "5881    (Sandy) Alex G  2019-09-17 13:51     37610   \n",
       "5878    (Sandy) Alex G  2019-09-17 13:23         0   \n",
       "415     (Sandy) Alex G  2019-06-19 16:45    190218   \n",
       "49      (Sandy) Alex G  2019-06-10 04:06      8680   \n",
       "800     (Sandy) Alex G  2019-06-28 18:11       655   \n",
       "573     (Sandy) Alex G  2019-06-21 23:14     39891   \n",
       "2415            *NSYNC  2019-07-23 00:41     42004   \n",
       "2413            *NSYNC  2019-07-23 00:37      9682   \n",
       "5311              0171  2019-02-21 01:56    239456   \n",
       "7986              0171  2019-10-17 02:43    239455   \n",
       "5001              0171  2019-02-14 23:52    239456   \n",
       "4998              0171  2019-02-14 23:06    240292   \n",
       "4969              0171  2019-02-14 01:53    239455   \n",
       "5339              0171  2019-02-21 03:23    239456   \n",
       "5365              0171  2019-02-21 05:07    239456   \n",
       "6133              0171  2019-03-15 18:12    239455   \n",
       "9009              0171  2019-11-03 19:31    239455   \n",
       "5753              0171  2019-02-25 23:22    239455   \n",
       "5443              0171  2019-02-21 10:16    239456   \n",
       "5469              0171  2019-02-21 11:59    239456   \n",
       "5633              0171  2019-02-23 02:03    239455   \n",
       "5492              0171  2019-02-21 23:53    239455   \n",
       "5966              0171  2019-03-06 16:55    239455   \n",
       "5391              0171  2019-02-21 06:50    239456   \n",
       "...                ...               ...       ...   \n",
       "4242      trentemøller  2019-01-28 20:29    311054   \n",
       "5835      trentemøller  2019-09-16 17:11    311054   \n",
       "5843      trentemøller  2019-09-16 17:48    450562   \n",
       "6928      trentemøller  2019-10-04 20:57    309265   \n",
       "4233      trentemøller  2019-01-28 19:46    450562   \n",
       "1509             w00ds  2018-12-10 19:12    143777   \n",
       "6359      weird inside  2019-09-23 17:58    173846   \n",
       "7803      weird inside  2019-10-14 06:03    173328   \n",
       "6325      weird inside  2019-09-23 16:24    173846   \n",
       "8857      weird inside  2019-10-31 18:00    173846   \n",
       "5986      weird inside  2019-09-19 18:19    173846   \n",
       "1092      weird inside  2019-07-03 17:27    173846   \n",
       "7756      weird inside  2019-10-14 04:13      1670   \n",
       "6369      weird inside  2019-09-23 18:07      2218   \n",
       "8827      weird inside  2019-10-31 15:11    173846   \n",
       "8892      weird inside  2019-10-31 19:46    173846   \n",
       "2555      weird inside  2019-07-24 18:49    173846   \n",
       "7059      weird inside  2019-10-07 14:40    173846   \n",
       "8343             yeule  2019-10-23 19:53    260685   \n",
       "6196             yeule  2019-09-21 14:22       870   \n",
       "8768             yeule  2019-10-29 18:55    241388   \n",
       "2442      zack villere  2018-12-23 07:59    191984   \n",
       "9877    Ólafur Arnalds  2019-11-19 17:00    194319   \n",
       "6771           ØDYSSEE  2019-10-01 17:42    147002   \n",
       "6790           ØDYSSEE  2019-10-01 18:40     73248   \n",
       "6785           ØDYSSEE  2019-10-01 18:29    120740   \n",
       "6778           ØDYSSEE  2019-10-01 18:10    147002   \n",
       "2778           ØDYSSEE  2019-07-29 18:02    179469   \n",
       "7038  박혜진 park hye jin  2019-04-03 13:42    176729   \n",
       "7196  박혜진 park hye jin  2019-04-05 11:39    242000   \n",
       "\n",
       "                          trackName  \n",
       "8580             One Girl / One Boy  \n",
       "9188                           Naga  \n",
       "5880                      Walk Away  \n",
       "329                          Gretel  \n",
       "214                          Gretel  \n",
       "439                          Gretel  \n",
       "5881                      Walk Away  \n",
       "5878                      Walk Away  \n",
       "415                          Gretel  \n",
       "49                           Gretel  \n",
       "800                          Gretel  \n",
       "573                          Gretel  \n",
       "2415                    Bye Bye Bye  \n",
       "2413                    Bye Bye Bye  \n",
       "5311                     1000 Words  \n",
       "7986                     1000 Words  \n",
       "5001                     1000 Words  \n",
       "4998                     1000 Words  \n",
       "4969                     1000 Words  \n",
       "5339                     1000 Words  \n",
       "5365                     1000 Words  \n",
       "6133                     1000 Words  \n",
       "9009                     1000 Words  \n",
       "5753                     1000 Words  \n",
       "5443                     1000 Words  \n",
       "5469                     1000 Words  \n",
       "5633                     1000 Words  \n",
       "5492                     1000 Words  \n",
       "5966                     1000 Words  \n",
       "5391                     1000 Words  \n",
       "...                             ...  \n",
       "4242  While The Cold Winter Waiting  \n",
       "5835  While The Cold Winter Waiting  \n",
       "5843         Take Me Into Your Skin  \n",
       "6928                 Blue September  \n",
       "4233         Take Me Into Your Skin  \n",
       "1509                  Electric Soul  \n",
       "6359                       just ask  \n",
       "7803                       just ask  \n",
       "6325                       just ask  \n",
       "8857                       just ask  \n",
       "5986                       just ask  \n",
       "1092                       just ask  \n",
       "7756                       just ask  \n",
       "6369                       just ask  \n",
       "8827                       just ask  \n",
       "8892                       just ask  \n",
       "2555                       just ask  \n",
       "7059                       just ask  \n",
       "8343                   Poison Arrow  \n",
       "6196                      Pocky Boy  \n",
       "8768                      Pocky Boy  \n",
       "2442                           Bloo  \n",
       "9877           brot (lisboa) - live  \n",
       "6771                        Common'  \n",
       "6790                Fallin' in Love  \n",
       "6785                    Let Me Sink  \n",
       "6778                        Common'  \n",
       "2778               Midnight Romance  \n",
       "7038                            ABC  \n",
       "7196                            ABC  \n",
       "\n",
       "[20001 rows x 4 columns]"
      ]
     },
     "metadata": {},
     "output_type": "display_data"
    }
   ],
   "source": []
  },
  {
   "cell_type": "code",
   "execution_count": 8,
   "metadata": {},
   "outputs": [
    {
     "data": {
      "text/plain": [
       "Anderson .Paak            567\n",
       "Kevin Abstract            553\n",
       "Sleepless                 536\n",
       "Dreamville                446\n",
       "JID                       369\n",
       "James Blake               329\n",
       "Nilüfer Yanya             329\n",
       "Frank Ocean               316\n",
       "Tyler, The Creator        271\n",
       "JPEGMAFIA                 266\n",
       "Saba                      258\n",
       "BROCKHAMPTON              218\n",
       "Jacob Collier             215\n",
       "Daniel Caesar             206\n",
       "Moses Sumney              195\n",
       "IDK                       182\n",
       "KIDS SEE GHOSTS           169\n",
       "Johann Sebastian Bach     167\n",
       "J. Cole                   157\n",
       "Barrie                    150\n",
       "Ezra Collective           138\n",
       "Tom Misch                 130\n",
       "Noname                    128\n",
       "Pusha T                   121\n",
       "Rich Brian                118\n",
       "Kacey Musgraves           106\n",
       "Capital Cities            106\n",
       "billy woods               104\n",
       "Men I Trust               101\n",
       "YBN Cordae                 99\n",
       "                         ... \n",
       "The Daydream Club           1\n",
       "Iceage                      1\n",
       "Lexie Liu                   1\n",
       "Tony Bennett                1\n",
       "Diplo                       1\n",
       "Equateur                    1\n",
       "Jason Nolan                 1\n",
       "Bobby Helms                 1\n",
       "José Feliciano              1\n",
       "Solomonophonic              1\n",
       "Tim Hecker                  1\n",
       "Grace Lightman              1\n",
       "Pixies                      1\n",
       "Point Point                 1\n",
       "Esperanza Spalding          1\n",
       "Barns Courtney              1\n",
       "!!!                         1\n",
       "Thirty Seconds To Mars      1\n",
       "Raury                       1\n",
       "ROLE MODEL                  1\n",
       "Scallops Hotel              1\n",
       "Shawn Mendes                1\n",
       "Giorgio Di Campo            1\n",
       "Rhiannon Bannenberg         1\n",
       "Morat                       1\n",
       "Cory Wong                   1\n",
       "Digitalism                  1\n",
       "Carl Easterling             1\n",
       "SPC ECO                     1\n",
       "Nimbus                      1\n",
       "Name: artistName, Length: 1939, dtype: int64"
      ]
     },
     "metadata": {},
     "output_type": "display_data"
    }
   ],
   "source": [
    "artist_counts = data.artistName.value_counts()\n",
    "display(artist_counts)"
   ]
  },
  {
   "cell_type": "code",
   "execution_count": 14,
   "metadata": {},
   "outputs": [],
   "source": [
    "play10 = artist_counts.loc[artist_counts > 100]"
   ]
  },
  {
   "cell_type": "code",
   "execution_count": 15,
   "metadata": {
    "scrolled": false
   },
   "outputs": [
    {
     "data": {
      "text/plain": [
       "<matplotlib.axes._subplots.AxesSubplot at 0x11fdfdcf8>"
      ]
     },
     "execution_count": 15,
     "metadata": {},
     "output_type": "execute_result"
    }
   ],
   "source": [
    "play10.plot.bar()"
   ]
  },
  {
   "cell_type": "code",
   "execution_count": 16,
   "metadata": {},
   "outputs": [],
   "source": [
    "data.to_csv('StreamingHistory.csv', sep='\\t')"
   ]
  },
  {
   "cell_type": "code",
   "execution_count": 15,
   "metadata": {},
   "outputs": [
    {
     "data": {
      "text/html": [
       "<div>\n",
       "<style scoped>\n",
       "    .dataframe tbody tr th:only-of-type {\n",
       "        vertical-align: middle;\n",
       "    }\n",
       "\n",
       "    .dataframe tbody tr th {\n",
       "        vertical-align: top;\n",
       "    }\n",
       "\n",
       "    .dataframe thead th {\n",
       "        text-align: right;\n",
       "    }\n",
       "</style>\n",
       "<table border=\"1\" class=\"dataframe\">\n",
       "  <thead>\n",
       "    <tr style=\"text-align: right;\">\n",
       "      <th></th>\n",
       "      <th>artistName</th>\n",
       "      <th>endTime</th>\n",
       "      <th>msPlayed</th>\n",
       "      <th>trackName</th>\n",
       "    </tr>\n",
       "  </thead>\n",
       "  <tbody>\n",
       "    <tr>\n",
       "      <th>8580</th>\n",
       "      <td>!!!</td>\n",
       "      <td>2019-10-25 17:36</td>\n",
       "      <td>243626</td>\n",
       "      <td>One Girl / One Boy</td>\n",
       "    </tr>\n",
       "    <tr>\n",
       "      <th>9188</th>\n",
       "      <td>!!!$ilkMoney</td>\n",
       "      <td>2019-10-25 17:362019-11-05 22:13</td>\n",
       "      <td>361621</td>\n",
       "      <td>One Girl / One BoyNaga</td>\n",
       "    </tr>\n",
       "    <tr>\n",
       "      <th>5880</th>\n",
       "      <td>!!!$ilkMoney(Sandy) Alex G</td>\n",
       "      <td>2019-10-25 17:362019-11-05 22:132019-09-17 13:24</td>\n",
       "      <td>361621</td>\n",
       "      <td>One Girl / One BoyNagaWalk Away</td>\n",
       "    </tr>\n",
       "    <tr>\n",
       "      <th>329</th>\n",
       "      <td>!!!$ilkMoney(Sandy) Alex G(Sandy) Alex G</td>\n",
       "      <td>2019-10-25 17:362019-11-05 22:132019-09-17 13:...</td>\n",
       "      <td>551839</td>\n",
       "      <td>One Girl / One BoyNagaWalk AwayGretel</td>\n",
       "    </tr>\n",
       "    <tr>\n",
       "      <th>214</th>\n",
       "      <td>!!!$ilkMoney(Sandy) Alex G(Sandy) Alex G(Sandy...</td>\n",
       "      <td>2019-10-25 17:362019-11-05 22:132019-09-17 13:...</td>\n",
       "      <td>692469</td>\n",
       "      <td>One Girl / One BoyNagaWalk AwayGretelGretel</td>\n",
       "    </tr>\n",
       "    <tr>\n",
       "      <th>439</th>\n",
       "      <td>!!!$ilkMoney(Sandy) Alex G(Sandy) Alex G(Sandy...</td>\n",
       "      <td>2019-10-25 17:362019-11-05 22:132019-09-17 13:...</td>\n",
       "      <td>692469</td>\n",
       "      <td>One Girl / One BoyNagaWalk AwayGretelGretelGretel</td>\n",
       "    </tr>\n",
       "    <tr>\n",
       "      <th>5881</th>\n",
       "      <td>!!!$ilkMoney(Sandy) Alex G(Sandy) Alex G(Sandy...</td>\n",
       "      <td>2019-10-25 17:362019-11-05 22:132019-09-17 13:...</td>\n",
       "      <td>730079</td>\n",
       "      <td>One Girl / One BoyNagaWalk AwayGretelGretelGre...</td>\n",
       "    </tr>\n",
       "    <tr>\n",
       "      <th>5878</th>\n",
       "      <td>!!!$ilkMoney(Sandy) Alex G(Sandy) Alex G(Sandy...</td>\n",
       "      <td>2019-10-25 17:362019-11-05 22:132019-09-17 13:...</td>\n",
       "      <td>730079</td>\n",
       "      <td>One Girl / One BoyNagaWalk AwayGretelGretelGre...</td>\n",
       "    </tr>\n",
       "    <tr>\n",
       "      <th>415</th>\n",
       "      <td>!!!$ilkMoney(Sandy) Alex G(Sandy) Alex G(Sandy...</td>\n",
       "      <td>2019-10-25 17:362019-11-05 22:132019-09-17 13:...</td>\n",
       "      <td>920297</td>\n",
       "      <td>One Girl / One BoyNagaWalk AwayGretelGretelGre...</td>\n",
       "    </tr>\n",
       "    <tr>\n",
       "      <th>49</th>\n",
       "      <td>!!!$ilkMoney(Sandy) Alex G(Sandy) Alex G(Sandy...</td>\n",
       "      <td>2019-10-25 17:362019-11-05 22:132019-09-17 13:...</td>\n",
       "      <td>928977</td>\n",
       "      <td>One Girl / One BoyNagaWalk AwayGretelGretelGre...</td>\n",
       "    </tr>\n",
       "    <tr>\n",
       "      <th>800</th>\n",
       "      <td>!!!$ilkMoney(Sandy) Alex G(Sandy) Alex G(Sandy...</td>\n",
       "      <td>2019-10-25 17:362019-11-05 22:132019-09-17 13:...</td>\n",
       "      <td>929632</td>\n",
       "      <td>One Girl / One BoyNagaWalk AwayGretelGretelGre...</td>\n",
       "    </tr>\n",
       "    <tr>\n",
       "      <th>573</th>\n",
       "      <td>!!!$ilkMoney(Sandy) Alex G(Sandy) Alex G(Sandy...</td>\n",
       "      <td>2019-10-25 17:362019-11-05 22:132019-09-17 13:...</td>\n",
       "      <td>969523</td>\n",
       "      <td>One Girl / One BoyNagaWalk AwayGretelGretelGre...</td>\n",
       "    </tr>\n",
       "    <tr>\n",
       "      <th>2415</th>\n",
       "      <td>!!!$ilkMoney(Sandy) Alex G(Sandy) Alex G(Sandy...</td>\n",
       "      <td>2019-10-25 17:362019-11-05 22:132019-09-17 13:...</td>\n",
       "      <td>1011527</td>\n",
       "      <td>One Girl / One BoyNagaWalk AwayGretelGretelGre...</td>\n",
       "    </tr>\n",
       "    <tr>\n",
       "      <th>2413</th>\n",
       "      <td>!!!$ilkMoney(Sandy) Alex G(Sandy) Alex G(Sandy...</td>\n",
       "      <td>2019-10-25 17:362019-11-05 22:132019-09-17 13:...</td>\n",
       "      <td>1021209</td>\n",
       "      <td>One Girl / One BoyNagaWalk AwayGretelGretelGre...</td>\n",
       "    </tr>\n",
       "    <tr>\n",
       "      <th>5311</th>\n",
       "      <td>!!!$ilkMoney(Sandy) Alex G(Sandy) Alex G(Sandy...</td>\n",
       "      <td>2019-10-25 17:362019-11-05 22:132019-09-17 13:...</td>\n",
       "      <td>1260665</td>\n",
       "      <td>One Girl / One BoyNagaWalk AwayGretelGretelGre...</td>\n",
       "    </tr>\n",
       "    <tr>\n",
       "      <th>7986</th>\n",
       "      <td>!!!$ilkMoney(Sandy) Alex G(Sandy) Alex G(Sandy...</td>\n",
       "      <td>2019-10-25 17:362019-11-05 22:132019-09-17 13:...</td>\n",
       "      <td>1500120</td>\n",
       "      <td>One Girl / One BoyNagaWalk AwayGretelGretelGre...</td>\n",
       "    </tr>\n",
       "    <tr>\n",
       "      <th>5001</th>\n",
       "      <td>!!!$ilkMoney(Sandy) Alex G(Sandy) Alex G(Sandy...</td>\n",
       "      <td>2019-10-25 17:362019-11-05 22:132019-09-17 13:...</td>\n",
       "      <td>1739576</td>\n",
       "      <td>One Girl / One BoyNagaWalk AwayGretelGretelGre...</td>\n",
       "    </tr>\n",
       "    <tr>\n",
       "      <th>4998</th>\n",
       "      <td>!!!$ilkMoney(Sandy) Alex G(Sandy) Alex G(Sandy...</td>\n",
       "      <td>2019-10-25 17:362019-11-05 22:132019-09-17 13:...</td>\n",
       "      <td>1979868</td>\n",
       "      <td>One Girl / One BoyNagaWalk AwayGretelGretelGre...</td>\n",
       "    </tr>\n",
       "    <tr>\n",
       "      <th>4969</th>\n",
       "      <td>!!!$ilkMoney(Sandy) Alex G(Sandy) Alex G(Sandy...</td>\n",
       "      <td>2019-10-25 17:362019-11-05 22:132019-09-17 13:...</td>\n",
       "      <td>2219323</td>\n",
       "      <td>One Girl / One BoyNagaWalk AwayGretelGretelGre...</td>\n",
       "    </tr>\n",
       "    <tr>\n",
       "      <th>5339</th>\n",
       "      <td>!!!$ilkMoney(Sandy) Alex G(Sandy) Alex G(Sandy...</td>\n",
       "      <td>2019-10-25 17:362019-11-05 22:132019-09-17 13:...</td>\n",
       "      <td>2458779</td>\n",
       "      <td>One Girl / One BoyNagaWalk AwayGretelGretelGre...</td>\n",
       "    </tr>\n",
       "    <tr>\n",
       "      <th>5365</th>\n",
       "      <td>!!!$ilkMoney(Sandy) Alex G(Sandy) Alex G(Sandy...</td>\n",
       "      <td>2019-10-25 17:362019-11-05 22:132019-09-17 13:...</td>\n",
       "      <td>2698235</td>\n",
       "      <td>One Girl / One BoyNagaWalk AwayGretelGretelGre...</td>\n",
       "    </tr>\n",
       "    <tr>\n",
       "      <th>6133</th>\n",
       "      <td>!!!$ilkMoney(Sandy) Alex G(Sandy) Alex G(Sandy...</td>\n",
       "      <td>2019-10-25 17:362019-11-05 22:132019-09-17 13:...</td>\n",
       "      <td>2937690</td>\n",
       "      <td>One Girl / One BoyNagaWalk AwayGretelGretelGre...</td>\n",
       "    </tr>\n",
       "    <tr>\n",
       "      <th>9009</th>\n",
       "      <td>!!!$ilkMoney(Sandy) Alex G(Sandy) Alex G(Sandy...</td>\n",
       "      <td>2019-10-25 17:362019-11-05 22:132019-09-17 13:...</td>\n",
       "      <td>3177145</td>\n",
       "      <td>One Girl / One BoyNagaWalk AwayGretelGretelGre...</td>\n",
       "    </tr>\n",
       "    <tr>\n",
       "      <th>5753</th>\n",
       "      <td>!!!$ilkMoney(Sandy) Alex G(Sandy) Alex G(Sandy...</td>\n",
       "      <td>2019-10-25 17:362019-11-05 22:132019-09-17 13:...</td>\n",
       "      <td>3416600</td>\n",
       "      <td>One Girl / One BoyNagaWalk AwayGretelGretelGre...</td>\n",
       "    </tr>\n",
       "    <tr>\n",
       "      <th>5443</th>\n",
       "      <td>!!!$ilkMoney(Sandy) Alex G(Sandy) Alex G(Sandy...</td>\n",
       "      <td>2019-10-25 17:362019-11-05 22:132019-09-17 13:...</td>\n",
       "      <td>3656056</td>\n",
       "      <td>One Girl / One BoyNagaWalk AwayGretelGretelGre...</td>\n",
       "    </tr>\n",
       "    <tr>\n",
       "      <th>5469</th>\n",
       "      <td>!!!$ilkMoney(Sandy) Alex G(Sandy) Alex G(Sandy...</td>\n",
       "      <td>2019-10-25 17:362019-11-05 22:132019-09-17 13:...</td>\n",
       "      <td>3895512</td>\n",
       "      <td>One Girl / One BoyNagaWalk AwayGretelGretelGre...</td>\n",
       "    </tr>\n",
       "    <tr>\n",
       "      <th>5633</th>\n",
       "      <td>!!!$ilkMoney(Sandy) Alex G(Sandy) Alex G(Sandy...</td>\n",
       "      <td>2019-10-25 17:362019-11-05 22:132019-09-17 13:...</td>\n",
       "      <td>4134967</td>\n",
       "      <td>One Girl / One BoyNagaWalk AwayGretelGretelGre...</td>\n",
       "    </tr>\n",
       "    <tr>\n",
       "      <th>5492</th>\n",
       "      <td>!!!$ilkMoney(Sandy) Alex G(Sandy) Alex G(Sandy...</td>\n",
       "      <td>2019-10-25 17:362019-11-05 22:132019-09-17 13:...</td>\n",
       "      <td>4374422</td>\n",
       "      <td>One Girl / One BoyNagaWalk AwayGretelGretelGre...</td>\n",
       "    </tr>\n",
       "    <tr>\n",
       "      <th>5966</th>\n",
       "      <td>!!!$ilkMoney(Sandy) Alex G(Sandy) Alex G(Sandy...</td>\n",
       "      <td>2019-10-25 17:362019-11-05 22:132019-09-17 13:...</td>\n",
       "      <td>4613877</td>\n",
       "      <td>One Girl / One BoyNagaWalk AwayGretelGretelGre...</td>\n",
       "    </tr>\n",
       "    <tr>\n",
       "      <th>5391</th>\n",
       "      <td>!!!$ilkMoney(Sandy) Alex G(Sandy) Alex G(Sandy...</td>\n",
       "      <td>2019-10-25 17:362019-11-05 22:132019-09-17 13:...</td>\n",
       "      <td>4853333</td>\n",
       "      <td>One Girl / One BoyNagaWalk AwayGretelGretelGre...</td>\n",
       "    </tr>\n",
       "    <tr>\n",
       "      <th>...</th>\n",
       "      <td>...</td>\n",
       "      <td>...</td>\n",
       "      <td>...</td>\n",
       "      <td>...</td>\n",
       "    </tr>\n",
       "    <tr>\n",
       "      <th>4242</th>\n",
       "      <td>!!!$ilkMoney(Sandy) Alex G(Sandy) Alex G(Sandy...</td>\n",
       "      <td>2019-10-25 17:362019-11-05 22:132019-09-17 13:...</td>\n",
       "      <td>3539538859</td>\n",
       "      <td>One Girl / One BoyNagaWalk AwayGretelGretelGre...</td>\n",
       "    </tr>\n",
       "    <tr>\n",
       "      <th>5835</th>\n",
       "      <td>!!!$ilkMoney(Sandy) Alex G(Sandy) Alex G(Sandy...</td>\n",
       "      <td>2019-10-25 17:362019-11-05 22:132019-09-17 13:...</td>\n",
       "      <td>3539849913</td>\n",
       "      <td>One Girl / One BoyNagaWalk AwayGretelGretelGre...</td>\n",
       "    </tr>\n",
       "    <tr>\n",
       "      <th>5843</th>\n",
       "      <td>!!!$ilkMoney(Sandy) Alex G(Sandy) Alex G(Sandy...</td>\n",
       "      <td>2019-10-25 17:362019-11-05 22:132019-09-17 13:...</td>\n",
       "      <td>3540300475</td>\n",
       "      <td>One Girl / One BoyNagaWalk AwayGretelGretelGre...</td>\n",
       "    </tr>\n",
       "    <tr>\n",
       "      <th>6928</th>\n",
       "      <td>!!!$ilkMoney(Sandy) Alex G(Sandy) Alex G(Sandy...</td>\n",
       "      <td>2019-10-25 17:362019-11-05 22:132019-09-17 13:...</td>\n",
       "      <td>3540609740</td>\n",
       "      <td>One Girl / One BoyNagaWalk AwayGretelGretelGre...</td>\n",
       "    </tr>\n",
       "    <tr>\n",
       "      <th>4233</th>\n",
       "      <td>!!!$ilkMoney(Sandy) Alex G(Sandy) Alex G(Sandy...</td>\n",
       "      <td>2019-10-25 17:362019-11-05 22:132019-09-17 13:...</td>\n",
       "      <td>3541060302</td>\n",
       "      <td>One Girl / One BoyNagaWalk AwayGretelGretelGre...</td>\n",
       "    </tr>\n",
       "    <tr>\n",
       "      <th>1509</th>\n",
       "      <td>!!!$ilkMoney(Sandy) Alex G(Sandy) Alex G(Sandy...</td>\n",
       "      <td>2019-10-25 17:362019-11-05 22:132019-09-17 13:...</td>\n",
       "      <td>3541204079</td>\n",
       "      <td>One Girl / One BoyNagaWalk AwayGretelGretelGre...</td>\n",
       "    </tr>\n",
       "    <tr>\n",
       "      <th>6359</th>\n",
       "      <td>!!!$ilkMoney(Sandy) Alex G(Sandy) Alex G(Sandy...</td>\n",
       "      <td>2019-10-25 17:362019-11-05 22:132019-09-17 13:...</td>\n",
       "      <td>3541377925</td>\n",
       "      <td>One Girl / One BoyNagaWalk AwayGretelGretelGre...</td>\n",
       "    </tr>\n",
       "    <tr>\n",
       "      <th>7803</th>\n",
       "      <td>!!!$ilkMoney(Sandy) Alex G(Sandy) Alex G(Sandy...</td>\n",
       "      <td>2019-10-25 17:362019-11-05 22:132019-09-17 13:...</td>\n",
       "      <td>3541551253</td>\n",
       "      <td>One Girl / One BoyNagaWalk AwayGretelGretelGre...</td>\n",
       "    </tr>\n",
       "    <tr>\n",
       "      <th>6325</th>\n",
       "      <td>!!!$ilkMoney(Sandy) Alex G(Sandy) Alex G(Sandy...</td>\n",
       "      <td>2019-10-25 17:362019-11-05 22:132019-09-17 13:...</td>\n",
       "      <td>3541725099</td>\n",
       "      <td>One Girl / One BoyNagaWalk AwayGretelGretelGre...</td>\n",
       "    </tr>\n",
       "    <tr>\n",
       "      <th>8857</th>\n",
       "      <td>!!!$ilkMoney(Sandy) Alex G(Sandy) Alex G(Sandy...</td>\n",
       "      <td>2019-10-25 17:362019-11-05 22:132019-09-17 13:...</td>\n",
       "      <td>3541898945</td>\n",
       "      <td>One Girl / One BoyNagaWalk AwayGretelGretelGre...</td>\n",
       "    </tr>\n",
       "    <tr>\n",
       "      <th>5986</th>\n",
       "      <td>!!!$ilkMoney(Sandy) Alex G(Sandy) Alex G(Sandy...</td>\n",
       "      <td>2019-10-25 17:362019-11-05 22:132019-09-17 13:...</td>\n",
       "      <td>3542072791</td>\n",
       "      <td>One Girl / One BoyNagaWalk AwayGretelGretelGre...</td>\n",
       "    </tr>\n",
       "    <tr>\n",
       "      <th>1092</th>\n",
       "      <td>!!!$ilkMoney(Sandy) Alex G(Sandy) Alex G(Sandy...</td>\n",
       "      <td>2019-10-25 17:362019-11-05 22:132019-09-17 13:...</td>\n",
       "      <td>3542246637</td>\n",
       "      <td>One Girl / One BoyNagaWalk AwayGretelGretelGre...</td>\n",
       "    </tr>\n",
       "    <tr>\n",
       "      <th>7756</th>\n",
       "      <td>!!!$ilkMoney(Sandy) Alex G(Sandy) Alex G(Sandy...</td>\n",
       "      <td>2019-10-25 17:362019-11-05 22:132019-09-17 13:...</td>\n",
       "      <td>3542248307</td>\n",
       "      <td>One Girl / One BoyNagaWalk AwayGretelGretelGre...</td>\n",
       "    </tr>\n",
       "    <tr>\n",
       "      <th>6369</th>\n",
       "      <td>!!!$ilkMoney(Sandy) Alex G(Sandy) Alex G(Sandy...</td>\n",
       "      <td>2019-10-25 17:362019-11-05 22:132019-09-17 13:...</td>\n",
       "      <td>3542250525</td>\n",
       "      <td>One Girl / One BoyNagaWalk AwayGretelGretelGre...</td>\n",
       "    </tr>\n",
       "    <tr>\n",
       "      <th>8827</th>\n",
       "      <td>!!!$ilkMoney(Sandy) Alex G(Sandy) Alex G(Sandy...</td>\n",
       "      <td>2019-10-25 17:362019-11-05 22:132019-09-17 13:...</td>\n",
       "      <td>3542424371</td>\n",
       "      <td>One Girl / One BoyNagaWalk AwayGretelGretelGre...</td>\n",
       "    </tr>\n",
       "    <tr>\n",
       "      <th>8892</th>\n",
       "      <td>!!!$ilkMoney(Sandy) Alex G(Sandy) Alex G(Sandy...</td>\n",
       "      <td>2019-10-25 17:362019-11-05 22:132019-09-17 13:...</td>\n",
       "      <td>3542598217</td>\n",
       "      <td>One Girl / One BoyNagaWalk AwayGretelGretelGre...</td>\n",
       "    </tr>\n",
       "    <tr>\n",
       "      <th>2555</th>\n",
       "      <td>!!!$ilkMoney(Sandy) Alex G(Sandy) Alex G(Sandy...</td>\n",
       "      <td>2019-10-25 17:362019-11-05 22:132019-09-17 13:...</td>\n",
       "      <td>3542772063</td>\n",
       "      <td>One Girl / One BoyNagaWalk AwayGretelGretelGre...</td>\n",
       "    </tr>\n",
       "    <tr>\n",
       "      <th>7059</th>\n",
       "      <td>!!!$ilkMoney(Sandy) Alex G(Sandy) Alex G(Sandy...</td>\n",
       "      <td>2019-10-25 17:362019-11-05 22:132019-09-17 13:...</td>\n",
       "      <td>3542945909</td>\n",
       "      <td>One Girl / One BoyNagaWalk AwayGretelGretelGre...</td>\n",
       "    </tr>\n",
       "    <tr>\n",
       "      <th>8343</th>\n",
       "      <td>!!!$ilkMoney(Sandy) Alex G(Sandy) Alex G(Sandy...</td>\n",
       "      <td>2019-10-25 17:362019-11-05 22:132019-09-17 13:...</td>\n",
       "      <td>3543206594</td>\n",
       "      <td>One Girl / One BoyNagaWalk AwayGretelGretelGre...</td>\n",
       "    </tr>\n",
       "    <tr>\n",
       "      <th>6196</th>\n",
       "      <td>!!!$ilkMoney(Sandy) Alex G(Sandy) Alex G(Sandy...</td>\n",
       "      <td>2019-10-25 17:362019-11-05 22:132019-09-17 13:...</td>\n",
       "      <td>3543207464</td>\n",
       "      <td>One Girl / One BoyNagaWalk AwayGretelGretelGre...</td>\n",
       "    </tr>\n",
       "    <tr>\n",
       "      <th>8768</th>\n",
       "      <td>!!!$ilkMoney(Sandy) Alex G(Sandy) Alex G(Sandy...</td>\n",
       "      <td>2019-10-25 17:362019-11-05 22:132019-09-17 13:...</td>\n",
       "      <td>3543448852</td>\n",
       "      <td>One Girl / One BoyNagaWalk AwayGretelGretelGre...</td>\n",
       "    </tr>\n",
       "    <tr>\n",
       "      <th>2442</th>\n",
       "      <td>!!!$ilkMoney(Sandy) Alex G(Sandy) Alex G(Sandy...</td>\n",
       "      <td>2019-10-25 17:362019-11-05 22:132019-09-17 13:...</td>\n",
       "      <td>3543640836</td>\n",
       "      <td>One Girl / One BoyNagaWalk AwayGretelGretelGre...</td>\n",
       "    </tr>\n",
       "    <tr>\n",
       "      <th>9877</th>\n",
       "      <td>!!!$ilkMoney(Sandy) Alex G(Sandy) Alex G(Sandy...</td>\n",
       "      <td>2019-10-25 17:362019-11-05 22:132019-09-17 13:...</td>\n",
       "      <td>3543835155</td>\n",
       "      <td>One Girl / One BoyNagaWalk AwayGretelGretelGre...</td>\n",
       "    </tr>\n",
       "    <tr>\n",
       "      <th>6771</th>\n",
       "      <td>!!!$ilkMoney(Sandy) Alex G(Sandy) Alex G(Sandy...</td>\n",
       "      <td>2019-10-25 17:362019-11-05 22:132019-09-17 13:...</td>\n",
       "      <td>3543982157</td>\n",
       "      <td>One Girl / One BoyNagaWalk AwayGretelGretelGre...</td>\n",
       "    </tr>\n",
       "    <tr>\n",
       "      <th>6790</th>\n",
       "      <td>!!!$ilkMoney(Sandy) Alex G(Sandy) Alex G(Sandy...</td>\n",
       "      <td>2019-10-25 17:362019-11-05 22:132019-09-17 13:...</td>\n",
       "      <td>3544055405</td>\n",
       "      <td>One Girl / One BoyNagaWalk AwayGretelGretelGre...</td>\n",
       "    </tr>\n",
       "    <tr>\n",
       "      <th>6785</th>\n",
       "      <td>!!!$ilkMoney(Sandy) Alex G(Sandy) Alex G(Sandy...</td>\n",
       "      <td>2019-10-25 17:362019-11-05 22:132019-09-17 13:...</td>\n",
       "      <td>3544176145</td>\n",
       "      <td>One Girl / One BoyNagaWalk AwayGretelGretelGre...</td>\n",
       "    </tr>\n",
       "    <tr>\n",
       "      <th>6778</th>\n",
       "      <td>!!!$ilkMoney(Sandy) Alex G(Sandy) Alex G(Sandy...</td>\n",
       "      <td>2019-10-25 17:362019-11-05 22:132019-09-17 13:...</td>\n",
       "      <td>3544323147</td>\n",
       "      <td>One Girl / One BoyNagaWalk AwayGretelGretelGre...</td>\n",
       "    </tr>\n",
       "    <tr>\n",
       "      <th>2778</th>\n",
       "      <td>!!!$ilkMoney(Sandy) Alex G(Sandy) Alex G(Sandy...</td>\n",
       "      <td>2019-10-25 17:362019-11-05 22:132019-09-17 13:...</td>\n",
       "      <td>3544502616</td>\n",
       "      <td>One Girl / One BoyNagaWalk AwayGretelGretelGre...</td>\n",
       "    </tr>\n",
       "    <tr>\n",
       "      <th>7038</th>\n",
       "      <td>!!!$ilkMoney(Sandy) Alex G(Sandy) Alex G(Sandy...</td>\n",
       "      <td>2019-10-25 17:362019-11-05 22:132019-09-17 13:...</td>\n",
       "      <td>3544679345</td>\n",
       "      <td>One Girl / One BoyNagaWalk AwayGretelGretelGre...</td>\n",
       "    </tr>\n",
       "    <tr>\n",
       "      <th>7196</th>\n",
       "      <td>!!!$ilkMoney(Sandy) Alex G(Sandy) Alex G(Sandy...</td>\n",
       "      <td>2019-10-25 17:362019-11-05 22:132019-09-17 13:...</td>\n",
       "      <td>3544921345</td>\n",
       "      <td>One Girl / One BoyNagaWalk AwayGretelGretelGre...</td>\n",
       "    </tr>\n",
       "  </tbody>\n",
       "</table>\n",
       "<p>20001 rows × 4 columns</p>\n",
       "</div>"
      ],
      "text/plain": [
       "                                             artistName  \\\n",
       "8580                                                !!!   \n",
       "9188                                       !!!$ilkMoney   \n",
       "5880                         !!!$ilkMoney(Sandy) Alex G   \n",
       "329            !!!$ilkMoney(Sandy) Alex G(Sandy) Alex G   \n",
       "214   !!!$ilkMoney(Sandy) Alex G(Sandy) Alex G(Sandy...   \n",
       "439   !!!$ilkMoney(Sandy) Alex G(Sandy) Alex G(Sandy...   \n",
       "5881  !!!$ilkMoney(Sandy) Alex G(Sandy) Alex G(Sandy...   \n",
       "5878  !!!$ilkMoney(Sandy) Alex G(Sandy) Alex G(Sandy...   \n",
       "415   !!!$ilkMoney(Sandy) Alex G(Sandy) Alex G(Sandy...   \n",
       "49    !!!$ilkMoney(Sandy) Alex G(Sandy) Alex G(Sandy...   \n",
       "800   !!!$ilkMoney(Sandy) Alex G(Sandy) Alex G(Sandy...   \n",
       "573   !!!$ilkMoney(Sandy) Alex G(Sandy) Alex G(Sandy...   \n",
       "2415  !!!$ilkMoney(Sandy) Alex G(Sandy) Alex G(Sandy...   \n",
       "2413  !!!$ilkMoney(Sandy) Alex G(Sandy) Alex G(Sandy...   \n",
       "5311  !!!$ilkMoney(Sandy) Alex G(Sandy) Alex G(Sandy...   \n",
       "7986  !!!$ilkMoney(Sandy) Alex G(Sandy) Alex G(Sandy...   \n",
       "5001  !!!$ilkMoney(Sandy) Alex G(Sandy) Alex G(Sandy...   \n",
       "4998  !!!$ilkMoney(Sandy) Alex G(Sandy) Alex G(Sandy...   \n",
       "4969  !!!$ilkMoney(Sandy) Alex G(Sandy) Alex G(Sandy...   \n",
       "5339  !!!$ilkMoney(Sandy) Alex G(Sandy) Alex G(Sandy...   \n",
       "5365  !!!$ilkMoney(Sandy) Alex G(Sandy) Alex G(Sandy...   \n",
       "6133  !!!$ilkMoney(Sandy) Alex G(Sandy) Alex G(Sandy...   \n",
       "9009  !!!$ilkMoney(Sandy) Alex G(Sandy) Alex G(Sandy...   \n",
       "5753  !!!$ilkMoney(Sandy) Alex G(Sandy) Alex G(Sandy...   \n",
       "5443  !!!$ilkMoney(Sandy) Alex G(Sandy) Alex G(Sandy...   \n",
       "5469  !!!$ilkMoney(Sandy) Alex G(Sandy) Alex G(Sandy...   \n",
       "5633  !!!$ilkMoney(Sandy) Alex G(Sandy) Alex G(Sandy...   \n",
       "5492  !!!$ilkMoney(Sandy) Alex G(Sandy) Alex G(Sandy...   \n",
       "5966  !!!$ilkMoney(Sandy) Alex G(Sandy) Alex G(Sandy...   \n",
       "5391  !!!$ilkMoney(Sandy) Alex G(Sandy) Alex G(Sandy...   \n",
       "...                                                 ...   \n",
       "4242  !!!$ilkMoney(Sandy) Alex G(Sandy) Alex G(Sandy...   \n",
       "5835  !!!$ilkMoney(Sandy) Alex G(Sandy) Alex G(Sandy...   \n",
       "5843  !!!$ilkMoney(Sandy) Alex G(Sandy) Alex G(Sandy...   \n",
       "6928  !!!$ilkMoney(Sandy) Alex G(Sandy) Alex G(Sandy...   \n",
       "4233  !!!$ilkMoney(Sandy) Alex G(Sandy) Alex G(Sandy...   \n",
       "1509  !!!$ilkMoney(Sandy) Alex G(Sandy) Alex G(Sandy...   \n",
       "6359  !!!$ilkMoney(Sandy) Alex G(Sandy) Alex G(Sandy...   \n",
       "7803  !!!$ilkMoney(Sandy) Alex G(Sandy) Alex G(Sandy...   \n",
       "6325  !!!$ilkMoney(Sandy) Alex G(Sandy) Alex G(Sandy...   \n",
       "8857  !!!$ilkMoney(Sandy) Alex G(Sandy) Alex G(Sandy...   \n",
       "5986  !!!$ilkMoney(Sandy) Alex G(Sandy) Alex G(Sandy...   \n",
       "1092  !!!$ilkMoney(Sandy) Alex G(Sandy) Alex G(Sandy...   \n",
       "7756  !!!$ilkMoney(Sandy) Alex G(Sandy) Alex G(Sandy...   \n",
       "6369  !!!$ilkMoney(Sandy) Alex G(Sandy) Alex G(Sandy...   \n",
       "8827  !!!$ilkMoney(Sandy) Alex G(Sandy) Alex G(Sandy...   \n",
       "8892  !!!$ilkMoney(Sandy) Alex G(Sandy) Alex G(Sandy...   \n",
       "2555  !!!$ilkMoney(Sandy) Alex G(Sandy) Alex G(Sandy...   \n",
       "7059  !!!$ilkMoney(Sandy) Alex G(Sandy) Alex G(Sandy...   \n",
       "8343  !!!$ilkMoney(Sandy) Alex G(Sandy) Alex G(Sandy...   \n",
       "6196  !!!$ilkMoney(Sandy) Alex G(Sandy) Alex G(Sandy...   \n",
       "8768  !!!$ilkMoney(Sandy) Alex G(Sandy) Alex G(Sandy...   \n",
       "2442  !!!$ilkMoney(Sandy) Alex G(Sandy) Alex G(Sandy...   \n",
       "9877  !!!$ilkMoney(Sandy) Alex G(Sandy) Alex G(Sandy...   \n",
       "6771  !!!$ilkMoney(Sandy) Alex G(Sandy) Alex G(Sandy...   \n",
       "6790  !!!$ilkMoney(Sandy) Alex G(Sandy) Alex G(Sandy...   \n",
       "6785  !!!$ilkMoney(Sandy) Alex G(Sandy) Alex G(Sandy...   \n",
       "6778  !!!$ilkMoney(Sandy) Alex G(Sandy) Alex G(Sandy...   \n",
       "2778  !!!$ilkMoney(Sandy) Alex G(Sandy) Alex G(Sandy...   \n",
       "7038  !!!$ilkMoney(Sandy) Alex G(Sandy) Alex G(Sandy...   \n",
       "7196  !!!$ilkMoney(Sandy) Alex G(Sandy) Alex G(Sandy...   \n",
       "\n",
       "                                                endTime    msPlayed  \\\n",
       "8580                                   2019-10-25 17:36      243626   \n",
       "9188                   2019-10-25 17:362019-11-05 22:13      361621   \n",
       "5880   2019-10-25 17:362019-11-05 22:132019-09-17 13:24      361621   \n",
       "329   2019-10-25 17:362019-11-05 22:132019-09-17 13:...      551839   \n",
       "214   2019-10-25 17:362019-11-05 22:132019-09-17 13:...      692469   \n",
       "439   2019-10-25 17:362019-11-05 22:132019-09-17 13:...      692469   \n",
       "5881  2019-10-25 17:362019-11-05 22:132019-09-17 13:...      730079   \n",
       "5878  2019-10-25 17:362019-11-05 22:132019-09-17 13:...      730079   \n",
       "415   2019-10-25 17:362019-11-05 22:132019-09-17 13:...      920297   \n",
       "49    2019-10-25 17:362019-11-05 22:132019-09-17 13:...      928977   \n",
       "800   2019-10-25 17:362019-11-05 22:132019-09-17 13:...      929632   \n",
       "573   2019-10-25 17:362019-11-05 22:132019-09-17 13:...      969523   \n",
       "2415  2019-10-25 17:362019-11-05 22:132019-09-17 13:...     1011527   \n",
       "2413  2019-10-25 17:362019-11-05 22:132019-09-17 13:...     1021209   \n",
       "5311  2019-10-25 17:362019-11-05 22:132019-09-17 13:...     1260665   \n",
       "7986  2019-10-25 17:362019-11-05 22:132019-09-17 13:...     1500120   \n",
       "5001  2019-10-25 17:362019-11-05 22:132019-09-17 13:...     1739576   \n",
       "4998  2019-10-25 17:362019-11-05 22:132019-09-17 13:...     1979868   \n",
       "4969  2019-10-25 17:362019-11-05 22:132019-09-17 13:...     2219323   \n",
       "5339  2019-10-25 17:362019-11-05 22:132019-09-17 13:...     2458779   \n",
       "5365  2019-10-25 17:362019-11-05 22:132019-09-17 13:...     2698235   \n",
       "6133  2019-10-25 17:362019-11-05 22:132019-09-17 13:...     2937690   \n",
       "9009  2019-10-25 17:362019-11-05 22:132019-09-17 13:...     3177145   \n",
       "5753  2019-10-25 17:362019-11-05 22:132019-09-17 13:...     3416600   \n",
       "5443  2019-10-25 17:362019-11-05 22:132019-09-17 13:...     3656056   \n",
       "5469  2019-10-25 17:362019-11-05 22:132019-09-17 13:...     3895512   \n",
       "5633  2019-10-25 17:362019-11-05 22:132019-09-17 13:...     4134967   \n",
       "5492  2019-10-25 17:362019-11-05 22:132019-09-17 13:...     4374422   \n",
       "5966  2019-10-25 17:362019-11-05 22:132019-09-17 13:...     4613877   \n",
       "5391  2019-10-25 17:362019-11-05 22:132019-09-17 13:...     4853333   \n",
       "...                                                 ...         ...   \n",
       "4242  2019-10-25 17:362019-11-05 22:132019-09-17 13:...  3539538859   \n",
       "5835  2019-10-25 17:362019-11-05 22:132019-09-17 13:...  3539849913   \n",
       "5843  2019-10-25 17:362019-11-05 22:132019-09-17 13:...  3540300475   \n",
       "6928  2019-10-25 17:362019-11-05 22:132019-09-17 13:...  3540609740   \n",
       "4233  2019-10-25 17:362019-11-05 22:132019-09-17 13:...  3541060302   \n",
       "1509  2019-10-25 17:362019-11-05 22:132019-09-17 13:...  3541204079   \n",
       "6359  2019-10-25 17:362019-11-05 22:132019-09-17 13:...  3541377925   \n",
       "7803  2019-10-25 17:362019-11-05 22:132019-09-17 13:...  3541551253   \n",
       "6325  2019-10-25 17:362019-11-05 22:132019-09-17 13:...  3541725099   \n",
       "8857  2019-10-25 17:362019-11-05 22:132019-09-17 13:...  3541898945   \n",
       "5986  2019-10-25 17:362019-11-05 22:132019-09-17 13:...  3542072791   \n",
       "1092  2019-10-25 17:362019-11-05 22:132019-09-17 13:...  3542246637   \n",
       "7756  2019-10-25 17:362019-11-05 22:132019-09-17 13:...  3542248307   \n",
       "6369  2019-10-25 17:362019-11-05 22:132019-09-17 13:...  3542250525   \n",
       "8827  2019-10-25 17:362019-11-05 22:132019-09-17 13:...  3542424371   \n",
       "8892  2019-10-25 17:362019-11-05 22:132019-09-17 13:...  3542598217   \n",
       "2555  2019-10-25 17:362019-11-05 22:132019-09-17 13:...  3542772063   \n",
       "7059  2019-10-25 17:362019-11-05 22:132019-09-17 13:...  3542945909   \n",
       "8343  2019-10-25 17:362019-11-05 22:132019-09-17 13:...  3543206594   \n",
       "6196  2019-10-25 17:362019-11-05 22:132019-09-17 13:...  3543207464   \n",
       "8768  2019-10-25 17:362019-11-05 22:132019-09-17 13:...  3543448852   \n",
       "2442  2019-10-25 17:362019-11-05 22:132019-09-17 13:...  3543640836   \n",
       "9877  2019-10-25 17:362019-11-05 22:132019-09-17 13:...  3543835155   \n",
       "6771  2019-10-25 17:362019-11-05 22:132019-09-17 13:...  3543982157   \n",
       "6790  2019-10-25 17:362019-11-05 22:132019-09-17 13:...  3544055405   \n",
       "6785  2019-10-25 17:362019-11-05 22:132019-09-17 13:...  3544176145   \n",
       "6778  2019-10-25 17:362019-11-05 22:132019-09-17 13:...  3544323147   \n",
       "2778  2019-10-25 17:362019-11-05 22:132019-09-17 13:...  3544502616   \n",
       "7038  2019-10-25 17:362019-11-05 22:132019-09-17 13:...  3544679345   \n",
       "7196  2019-10-25 17:362019-11-05 22:132019-09-17 13:...  3544921345   \n",
       "\n",
       "                                              trackName  \n",
       "8580                                 One Girl / One Boy  \n",
       "9188                             One Girl / One BoyNaga  \n",
       "5880                    One Girl / One BoyNagaWalk Away  \n",
       "329               One Girl / One BoyNagaWalk AwayGretel  \n",
       "214         One Girl / One BoyNagaWalk AwayGretelGretel  \n",
       "439   One Girl / One BoyNagaWalk AwayGretelGretelGretel  \n",
       "5881  One Girl / One BoyNagaWalk AwayGretelGretelGre...  \n",
       "5878  One Girl / One BoyNagaWalk AwayGretelGretelGre...  \n",
       "415   One Girl / One BoyNagaWalk AwayGretelGretelGre...  \n",
       "49    One Girl / One BoyNagaWalk AwayGretelGretelGre...  \n",
       "800   One Girl / One BoyNagaWalk AwayGretelGretelGre...  \n",
       "573   One Girl / One BoyNagaWalk AwayGretelGretelGre...  \n",
       "2415  One Girl / One BoyNagaWalk AwayGretelGretelGre...  \n",
       "2413  One Girl / One BoyNagaWalk AwayGretelGretelGre...  \n",
       "5311  One Girl / One BoyNagaWalk AwayGretelGretelGre...  \n",
       "7986  One Girl / One BoyNagaWalk AwayGretelGretelGre...  \n",
       "5001  One Girl / One BoyNagaWalk AwayGretelGretelGre...  \n",
       "4998  One Girl / One BoyNagaWalk AwayGretelGretelGre...  \n",
       "4969  One Girl / One BoyNagaWalk AwayGretelGretelGre...  \n",
       "5339  One Girl / One BoyNagaWalk AwayGretelGretelGre...  \n",
       "5365  One Girl / One BoyNagaWalk AwayGretelGretelGre...  \n",
       "6133  One Girl / One BoyNagaWalk AwayGretelGretelGre...  \n",
       "9009  One Girl / One BoyNagaWalk AwayGretelGretelGre...  \n",
       "5753  One Girl / One BoyNagaWalk AwayGretelGretelGre...  \n",
       "5443  One Girl / One BoyNagaWalk AwayGretelGretelGre...  \n",
       "5469  One Girl / One BoyNagaWalk AwayGretelGretelGre...  \n",
       "5633  One Girl / One BoyNagaWalk AwayGretelGretelGre...  \n",
       "5492  One Girl / One BoyNagaWalk AwayGretelGretelGre...  \n",
       "5966  One Girl / One BoyNagaWalk AwayGretelGretelGre...  \n",
       "5391  One Girl / One BoyNagaWalk AwayGretelGretelGre...  \n",
       "...                                                 ...  \n",
       "4242  One Girl / One BoyNagaWalk AwayGretelGretelGre...  \n",
       "5835  One Girl / One BoyNagaWalk AwayGretelGretelGre...  \n",
       "5843  One Girl / One BoyNagaWalk AwayGretelGretelGre...  \n",
       "6928  One Girl / One BoyNagaWalk AwayGretelGretelGre...  \n",
       "4233  One Girl / One BoyNagaWalk AwayGretelGretelGre...  \n",
       "1509  One Girl / One BoyNagaWalk AwayGretelGretelGre...  \n",
       "6359  One Girl / One BoyNagaWalk AwayGretelGretelGre...  \n",
       "7803  One Girl / One BoyNagaWalk AwayGretelGretelGre...  \n",
       "6325  One Girl / One BoyNagaWalk AwayGretelGretelGre...  \n",
       "8857  One Girl / One BoyNagaWalk AwayGretelGretelGre...  \n",
       "5986  One Girl / One BoyNagaWalk AwayGretelGretelGre...  \n",
       "1092  One Girl / One BoyNagaWalk AwayGretelGretelGre...  \n",
       "7756  One Girl / One BoyNagaWalk AwayGretelGretelGre...  \n",
       "6369  One Girl / One BoyNagaWalk AwayGretelGretelGre...  \n",
       "8827  One Girl / One BoyNagaWalk AwayGretelGretelGre...  \n",
       "8892  One Girl / One BoyNagaWalk AwayGretelGretelGre...  \n",
       "2555  One Girl / One BoyNagaWalk AwayGretelGretelGre...  \n",
       "7059  One Girl / One BoyNagaWalk AwayGretelGretelGre...  \n",
       "8343  One Girl / One BoyNagaWalk AwayGretelGretelGre...  \n",
       "6196  One Girl / One BoyNagaWalk AwayGretelGretelGre...  \n",
       "8768  One Girl / One BoyNagaWalk AwayGretelGretelGre...  \n",
       "2442  One Girl / One BoyNagaWalk AwayGretelGretelGre...  \n",
       "9877  One Girl / One BoyNagaWalk AwayGretelGretelGre...  \n",
       "6771  One Girl / One BoyNagaWalk AwayGretelGretelGre...  \n",
       "6790  One Girl / One BoyNagaWalk AwayGretelGretelGre...  \n",
       "6785  One Girl / One BoyNagaWalk AwayGretelGretelGre...  \n",
       "6778  One Girl / One BoyNagaWalk AwayGretelGretelGre...  \n",
       "2778  One Girl / One BoyNagaWalk AwayGretelGretelGre...  \n",
       "7038  One Girl / One BoyNagaWalk AwayGretelGretelGre...  \n",
       "7196  One Girl / One BoyNagaWalk AwayGretelGretelGre...  \n",
       "\n",
       "[20001 rows x 4 columns]"
      ]
     },
     "execution_count": 15,
     "metadata": {},
     "output_type": "execute_result"
    }
   ],
   "source": [
    "data.cumsum()"
   ]
  },
  {
   "cell_type": "code",
   "execution_count": 53,
   "metadata": {
    "scrolled": true
   },
   "outputs": [
    {
     "name": "stdout",
     "output_type": "stream",
     "text": [
      "{\n",
      "    \"tracks\": {\n",
      "        \"href\": \"https://api.spotify.com/v1/search?query=Walk+Away+-+%28Sandy%29+Alex+G&type=track&offset=0&limit=10\",\n",
      "        \"items\": [\n",
      "            {\n",
      "                \"album\": {\n",
      "                    \"album_type\": \"album\",\n",
      "                    \"artists\": [\n",
      "                        {\n",
      "                            \"external_urls\": {\n",
      "                                \"spotify\": \"https://open.spotify.com/artist/6lcwlkAjBPSKnFBZjjZFJs\"\n",
      "                            },\n",
      "                            \"href\": \"https://api.spotify.com/v1/artists/6lcwlkAjBPSKnFBZjjZFJs\",\n",
      "                            \"id\": \"6lcwlkAjBPSKnFBZjjZFJs\",\n",
      "                            \"name\": \"(Sandy) Alex G\",\n",
      "                            \"type\": \"artist\",\n",
      "                            \"uri\": \"spotify:artist:6lcwlkAjBPSKnFBZjjZFJs\"\n",
      "                        }\n",
      "                    ],\n",
      "                    \"available_markets\": [\n",
      "                        \"AD\",\n",
      "                        \"AE\",\n",
      "                        \"AR\",\n",
      "                        \"AT\",\n",
      "                        \"AU\",\n",
      "                        \"BE\",\n",
      "                        \"BG\",\n",
      "                        \"BH\",\n",
      "                        \"BO\",\n",
      "                        \"BR\",\n",
      "                        \"CA\",\n",
      "                        \"CH\",\n",
      "                        \"CL\",\n",
      "                        \"CO\",\n",
      "                        \"CR\",\n",
      "                        \"CY\",\n",
      "                        \"CZ\",\n",
      "                        \"DE\",\n",
      "                        \"DK\",\n",
      "                        \"DO\",\n",
      "                        \"DZ\",\n",
      "                        \"EC\",\n",
      "                        \"EE\",\n",
      "                        \"EG\",\n",
      "                        \"ES\",\n",
      "                        \"FI\",\n",
      "                        \"FR\",\n",
      "                        \"GB\",\n",
      "                        \"GR\",\n",
      "                        \"GT\",\n",
      "                        \"HK\",\n",
      "                        \"HN\",\n",
      "                        \"HU\",\n",
      "                        \"ID\",\n",
      "                        \"IE\",\n",
      "                        \"IL\",\n",
      "                        \"IN\",\n",
      "                        \"IS\",\n",
      "                        \"IT\",\n",
      "                        \"JO\",\n",
      "                        \"JP\",\n",
      "                        \"KW\",\n",
      "                        \"LB\",\n",
      "                        \"LI\",\n",
      "                        \"LT\",\n",
      "                        \"LU\",\n",
      "                        \"LV\",\n",
      "                        \"MA\",\n",
      "                        \"MC\",\n",
      "                        \"MT\",\n",
      "                        \"MX\",\n",
      "                        \"MY\",\n",
      "                        \"NI\",\n",
      "                        \"NL\",\n",
      "                        \"NO\",\n",
      "                        \"NZ\",\n",
      "                        \"OM\",\n",
      "                        \"PA\",\n",
      "                        \"PE\",\n",
      "                        \"PH\",\n",
      "                        \"PL\",\n",
      "                        \"PS\",\n",
      "                        \"PT\",\n",
      "                        \"PY\",\n",
      "                        \"QA\",\n",
      "                        \"RO\",\n",
      "                        \"SA\",\n",
      "                        \"SE\",\n",
      "                        \"SG\",\n",
      "                        \"SK\",\n",
      "                        \"SV\",\n",
      "                        \"TH\",\n",
      "                        \"TN\",\n",
      "                        \"TR\",\n",
      "                        \"TW\",\n",
      "                        \"US\",\n",
      "                        \"UY\",\n",
      "                        \"VN\",\n",
      "                        \"ZA\"\n",
      "                    ],\n",
      "                    \"external_urls\": {\n",
      "                        \"spotify\": \"https://open.spotify.com/album/2kCDZ3gCr5hXFgbFsPMcxP\"\n",
      "                    },\n",
      "                    \"href\": \"https://api.spotify.com/v1/albums/2kCDZ3gCr5hXFgbFsPMcxP\",\n",
      "                    \"id\": \"2kCDZ3gCr5hXFgbFsPMcxP\",\n",
      "                    \"images\": [\n",
      "                        {\n",
      "                            \"height\": 640,\n",
      "                            \"url\": \"https://i.scdn.co/image/ab67616d0000b273be5fb0d9169e28ac819cee1d\",\n",
      "                            \"width\": 640\n",
      "                        },\n",
      "                        {\n",
      "                            \"height\": 300,\n",
      "                            \"url\": \"https://i.scdn.co/image/ab67616d00001e02be5fb0d9169e28ac819cee1d\",\n",
      "                            \"width\": 300\n",
      "                        },\n",
      "                        {\n",
      "                            \"height\": 64,\n",
      "                            \"url\": \"https://i.scdn.co/image/ab67616d00004851be5fb0d9169e28ac819cee1d\",\n",
      "                            \"width\": 64\n",
      "                        }\n",
      "                    ],\n",
      "                    \"name\": \"House of Sugar\",\n",
      "                    \"release_date\": \"2019-09-13\",\n",
      "                    \"release_date_precision\": \"day\",\n",
      "                    \"total_tracks\": 13,\n",
      "                    \"type\": \"album\",\n",
      "                    \"uri\": \"spotify:album:2kCDZ3gCr5hXFgbFsPMcxP\"\n",
      "                },\n",
      "                \"artists\": [\n",
      "                    {\n",
      "                        \"external_urls\": {\n",
      "                            \"spotify\": \"https://open.spotify.com/artist/6lcwlkAjBPSKnFBZjjZFJs\"\n",
      "                        },\n",
      "                        \"href\": \"https://api.spotify.com/v1/artists/6lcwlkAjBPSKnFBZjjZFJs\",\n",
      "                        \"id\": \"6lcwlkAjBPSKnFBZjjZFJs\",\n",
      "                        \"name\": \"(Sandy) Alex G\",\n",
      "                        \"type\": \"artist\",\n",
      "                        \"uri\": \"spotify:artist:6lcwlkAjBPSKnFBZjjZFJs\"\n",
      "                    }\n",
      "                ],\n",
      "                \"available_markets\": [\n",
      "                    \"AD\",\n",
      "                    \"AE\",\n",
      "                    \"AR\",\n",
      "                    \"AT\",\n",
      "                    \"AU\",\n",
      "                    \"BE\",\n",
      "                    \"BG\",\n",
      "                    \"BH\",\n",
      "                    \"BO\",\n",
      "                    \"BR\",\n",
      "                    \"CA\",\n",
      "                    \"CH\",\n",
      "                    \"CL\",\n",
      "                    \"CO\",\n",
      "                    \"CR\",\n",
      "                    \"CY\",\n",
      "                    \"CZ\",\n",
      "                    \"DE\",\n",
      "                    \"DK\",\n",
      "                    \"DO\",\n",
      "                    \"DZ\",\n",
      "                    \"EC\",\n",
      "                    \"EE\",\n",
      "                    \"EG\",\n",
      "                    \"ES\",\n",
      "                    \"FI\",\n",
      "                    \"FR\",\n",
      "                    \"GB\",\n",
      "                    \"GR\",\n",
      "                    \"GT\",\n",
      "                    \"HK\",\n",
      "                    \"HN\",\n",
      "                    \"HU\",\n",
      "                    \"ID\",\n",
      "                    \"IE\",\n",
      "                    \"IL\",\n",
      "                    \"IN\",\n",
      "                    \"IS\",\n",
      "                    \"IT\",\n",
      "                    \"JO\",\n",
      "                    \"JP\",\n",
      "                    \"KW\",\n",
      "                    \"LB\",\n",
      "                    \"LI\",\n",
      "                    \"LT\",\n",
      "                    \"LU\",\n",
      "                    \"LV\",\n",
      "                    \"MA\",\n",
      "                    \"MC\",\n",
      "                    \"MT\",\n",
      "                    \"MX\",\n",
      "                    \"MY\",\n",
      "                    \"NI\",\n",
      "                    \"NL\",\n",
      "                    \"NO\",\n",
      "                    \"NZ\",\n",
      "                    \"OM\",\n",
      "                    \"PA\",\n",
      "                    \"PE\",\n",
      "                    \"PH\",\n",
      "                    \"PL\",\n",
      "                    \"PS\",\n",
      "                    \"PT\",\n",
      "                    \"PY\",\n",
      "                    \"QA\",\n",
      "                    \"RO\",\n",
      "                    \"SA\",\n",
      "                    \"SE\",\n",
      "                    \"SG\",\n",
      "                    \"SK\",\n",
      "                    \"SV\",\n",
      "                    \"TH\",\n",
      "                    \"TN\",\n",
      "                    \"TR\",\n",
      "                    \"TW\",\n",
      "                    \"US\",\n",
      "                    \"UY\",\n",
      "                    \"VN\",\n",
      "                    \"ZA\"\n",
      "                ],\n",
      "                \"disc_number\": 1,\n",
      "                \"duration_ms\": 256866,\n",
      "                \"explicit\": false,\n",
      "                \"external_ids\": {\n",
      "                    \"isrc\": \"GBCEL1900158\"\n",
      "                },\n",
      "                \"external_urls\": {\n",
      "                    \"spotify\": \"https://open.spotify.com/track/36hTYlFbEsH2SOu24KJNtH\"\n",
      "                },\n",
      "                \"href\": \"https://api.spotify.com/v1/tracks/36hTYlFbEsH2SOu24KJNtH\",\n",
      "                \"id\": \"36hTYlFbEsH2SOu24KJNtH\",\n",
      "                \"is_local\": false,\n",
      "                \"name\": \"Walk Away\",\n",
      "                \"popularity\": 50,\n",
      "                \"preview_url\": \"https://p.scdn.co/mp3-preview/bd8d570496d27516ca67313f27e706f3cb11abc1?cid=cf4404fee2774e0da9efde8b60101fac\",\n",
      "                \"track_number\": 1,\n",
      "                \"type\": \"track\",\n",
      "                \"uri\": \"spotify:track:36hTYlFbEsH2SOu24KJNtH\"\n",
      "            }\n",
      "        ],\n",
      "        \"limit\": 10,\n",
      "        \"next\": null,\n",
      "        \"offset\": 0,\n",
      "        \"previous\": null,\n",
      "        \"total\": 1\n",
      "    }\n",
      "}\n"
     ]
    }
   ],
   "source": [
    "results = sp.search(q='Walk Away' + ' - '+ '(Sandy) Alex G')\n",
    "print(json.dumps(results, sort_keys=True, indent=4))\n",
    "name = results['tracks']['items'][0]\n",
    "#print(json.dumps(name, sort_keys=True, indent=4))\n",
    "tab = json_normalize(name)"
   ]
  },
  {
   "cell_type": "code",
   "execution_count": 70,
   "metadata": {
    "scrolled": true
   },
   "outputs": [],
   "source": [
    "data_subset = data.iloc[0:len(data)]"
   ]
  },
  {
   "cell_type": "code",
   "execution_count": 71,
   "metadata": {},
   "outputs": [
    {
     "data": {
      "text/html": [
       "<div>\n",
       "<style scoped>\n",
       "    .dataframe tbody tr th:only-of-type {\n",
       "        vertical-align: middle;\n",
       "    }\n",
       "\n",
       "    .dataframe tbody tr th {\n",
       "        vertical-align: top;\n",
       "    }\n",
       "\n",
       "    .dataframe thead th {\n",
       "        text-align: right;\n",
       "    }\n",
       "</style>\n",
       "<table border=\"1\" class=\"dataframe\">\n",
       "  <thead>\n",
       "    <tr style=\"text-align: right;\">\n",
       "      <th></th>\n",
       "      <th>artistName</th>\n",
       "      <th>endTime</th>\n",
       "      <th>msPlayed</th>\n",
       "      <th>trackName</th>\n",
       "    </tr>\n",
       "  </thead>\n",
       "  <tbody>\n",
       "    <tr>\n",
       "      <th>8580</th>\n",
       "      <td>!!!</td>\n",
       "      <td>2019-10-25 17:36</td>\n",
       "      <td>243626</td>\n",
       "      <td>One Girl / One Boy</td>\n",
       "    </tr>\n",
       "    <tr>\n",
       "      <th>9188</th>\n",
       "      <td>$ilkMoney</td>\n",
       "      <td>2019-11-05 22:13</td>\n",
       "      <td>117995</td>\n",
       "      <td>Naga</td>\n",
       "    </tr>\n",
       "    <tr>\n",
       "      <th>5880</th>\n",
       "      <td>(Sandy) Alex G</td>\n",
       "      <td>2019-09-17 13:24</td>\n",
       "      <td>0</td>\n",
       "      <td>Walk Away</td>\n",
       "    </tr>\n",
       "    <tr>\n",
       "      <th>329</th>\n",
       "      <td>(Sandy) Alex G</td>\n",
       "      <td>2019-06-15 16:13</td>\n",
       "      <td>190218</td>\n",
       "      <td>Gretel</td>\n",
       "    </tr>\n",
       "    <tr>\n",
       "      <th>214</th>\n",
       "      <td>(Sandy) Alex G</td>\n",
       "      <td>2019-06-13 16:21</td>\n",
       "      <td>140630</td>\n",
       "      <td>Gretel</td>\n",
       "    </tr>\n",
       "    <tr>\n",
       "      <th>439</th>\n",
       "      <td>(Sandy) Alex G</td>\n",
       "      <td>2019-06-19 17:14</td>\n",
       "      <td>0</td>\n",
       "      <td>Gretel</td>\n",
       "    </tr>\n",
       "    <tr>\n",
       "      <th>5881</th>\n",
       "      <td>(Sandy) Alex G</td>\n",
       "      <td>2019-09-17 13:51</td>\n",
       "      <td>37610</td>\n",
       "      <td>Walk Away</td>\n",
       "    </tr>\n",
       "    <tr>\n",
       "      <th>5878</th>\n",
       "      <td>(Sandy) Alex G</td>\n",
       "      <td>2019-09-17 13:23</td>\n",
       "      <td>0</td>\n",
       "      <td>Walk Away</td>\n",
       "    </tr>\n",
       "    <tr>\n",
       "      <th>415</th>\n",
       "      <td>(Sandy) Alex G</td>\n",
       "      <td>2019-06-19 16:45</td>\n",
       "      <td>190218</td>\n",
       "      <td>Gretel</td>\n",
       "    </tr>\n",
       "    <tr>\n",
       "      <th>49</th>\n",
       "      <td>(Sandy) Alex G</td>\n",
       "      <td>2019-06-10 04:06</td>\n",
       "      <td>8680</td>\n",
       "      <td>Gretel</td>\n",
       "    </tr>\n",
       "    <tr>\n",
       "      <th>800</th>\n",
       "      <td>(Sandy) Alex G</td>\n",
       "      <td>2019-06-28 18:11</td>\n",
       "      <td>655</td>\n",
       "      <td>Gretel</td>\n",
       "    </tr>\n",
       "    <tr>\n",
       "      <th>573</th>\n",
       "      <td>(Sandy) Alex G</td>\n",
       "      <td>2019-06-21 23:14</td>\n",
       "      <td>39891</td>\n",
       "      <td>Gretel</td>\n",
       "    </tr>\n",
       "    <tr>\n",
       "      <th>2415</th>\n",
       "      <td>*NSYNC</td>\n",
       "      <td>2019-07-23 00:41</td>\n",
       "      <td>42004</td>\n",
       "      <td>Bye Bye Bye</td>\n",
       "    </tr>\n",
       "    <tr>\n",
       "      <th>2413</th>\n",
       "      <td>*NSYNC</td>\n",
       "      <td>2019-07-23 00:37</td>\n",
       "      <td>9682</td>\n",
       "      <td>Bye Bye Bye</td>\n",
       "    </tr>\n",
       "    <tr>\n",
       "      <th>5311</th>\n",
       "      <td>0171</td>\n",
       "      <td>2019-02-21 01:56</td>\n",
       "      <td>239456</td>\n",
       "      <td>1000 Words</td>\n",
       "    </tr>\n",
       "    <tr>\n",
       "      <th>7986</th>\n",
       "      <td>0171</td>\n",
       "      <td>2019-10-17 02:43</td>\n",
       "      <td>239455</td>\n",
       "      <td>1000 Words</td>\n",
       "    </tr>\n",
       "    <tr>\n",
       "      <th>5001</th>\n",
       "      <td>0171</td>\n",
       "      <td>2019-02-14 23:52</td>\n",
       "      <td>239456</td>\n",
       "      <td>1000 Words</td>\n",
       "    </tr>\n",
       "    <tr>\n",
       "      <th>4998</th>\n",
       "      <td>0171</td>\n",
       "      <td>2019-02-14 23:06</td>\n",
       "      <td>240292</td>\n",
       "      <td>1000 Words</td>\n",
       "    </tr>\n",
       "    <tr>\n",
       "      <th>4969</th>\n",
       "      <td>0171</td>\n",
       "      <td>2019-02-14 01:53</td>\n",
       "      <td>239455</td>\n",
       "      <td>1000 Words</td>\n",
       "    </tr>\n",
       "    <tr>\n",
       "      <th>5339</th>\n",
       "      <td>0171</td>\n",
       "      <td>2019-02-21 03:23</td>\n",
       "      <td>239456</td>\n",
       "      <td>1000 Words</td>\n",
       "    </tr>\n",
       "    <tr>\n",
       "      <th>5365</th>\n",
       "      <td>0171</td>\n",
       "      <td>2019-02-21 05:07</td>\n",
       "      <td>239456</td>\n",
       "      <td>1000 Words</td>\n",
       "    </tr>\n",
       "    <tr>\n",
       "      <th>6133</th>\n",
       "      <td>0171</td>\n",
       "      <td>2019-03-15 18:12</td>\n",
       "      <td>239455</td>\n",
       "      <td>1000 Words</td>\n",
       "    </tr>\n",
       "    <tr>\n",
       "      <th>9009</th>\n",
       "      <td>0171</td>\n",
       "      <td>2019-11-03 19:31</td>\n",
       "      <td>239455</td>\n",
       "      <td>1000 Words</td>\n",
       "    </tr>\n",
       "    <tr>\n",
       "      <th>5753</th>\n",
       "      <td>0171</td>\n",
       "      <td>2019-02-25 23:22</td>\n",
       "      <td>239455</td>\n",
       "      <td>1000 Words</td>\n",
       "    </tr>\n",
       "    <tr>\n",
       "      <th>5443</th>\n",
       "      <td>0171</td>\n",
       "      <td>2019-02-21 10:16</td>\n",
       "      <td>239456</td>\n",
       "      <td>1000 Words</td>\n",
       "    </tr>\n",
       "    <tr>\n",
       "      <th>5469</th>\n",
       "      <td>0171</td>\n",
       "      <td>2019-02-21 11:59</td>\n",
       "      <td>239456</td>\n",
       "      <td>1000 Words</td>\n",
       "    </tr>\n",
       "    <tr>\n",
       "      <th>5633</th>\n",
       "      <td>0171</td>\n",
       "      <td>2019-02-23 02:03</td>\n",
       "      <td>239455</td>\n",
       "      <td>1000 Words</td>\n",
       "    </tr>\n",
       "    <tr>\n",
       "      <th>5492</th>\n",
       "      <td>0171</td>\n",
       "      <td>2019-02-21 23:53</td>\n",
       "      <td>239455</td>\n",
       "      <td>1000 Words</td>\n",
       "    </tr>\n",
       "    <tr>\n",
       "      <th>5966</th>\n",
       "      <td>0171</td>\n",
       "      <td>2019-03-06 16:55</td>\n",
       "      <td>239455</td>\n",
       "      <td>1000 Words</td>\n",
       "    </tr>\n",
       "    <tr>\n",
       "      <th>5391</th>\n",
       "      <td>0171</td>\n",
       "      <td>2019-02-21 06:50</td>\n",
       "      <td>239456</td>\n",
       "      <td>1000 Words</td>\n",
       "    </tr>\n",
       "    <tr>\n",
       "      <th>...</th>\n",
       "      <td>...</td>\n",
       "      <td>...</td>\n",
       "      <td>...</td>\n",
       "      <td>...</td>\n",
       "    </tr>\n",
       "    <tr>\n",
       "      <th>4242</th>\n",
       "      <td>trentemøller</td>\n",
       "      <td>2019-01-28 20:29</td>\n",
       "      <td>311054</td>\n",
       "      <td>While The Cold Winter Waiting</td>\n",
       "    </tr>\n",
       "    <tr>\n",
       "      <th>5835</th>\n",
       "      <td>trentemøller</td>\n",
       "      <td>2019-09-16 17:11</td>\n",
       "      <td>311054</td>\n",
       "      <td>While The Cold Winter Waiting</td>\n",
       "    </tr>\n",
       "    <tr>\n",
       "      <th>5843</th>\n",
       "      <td>trentemøller</td>\n",
       "      <td>2019-09-16 17:48</td>\n",
       "      <td>450562</td>\n",
       "      <td>Take Me Into Your Skin</td>\n",
       "    </tr>\n",
       "    <tr>\n",
       "      <th>6928</th>\n",
       "      <td>trentemøller</td>\n",
       "      <td>2019-10-04 20:57</td>\n",
       "      <td>309265</td>\n",
       "      <td>Blue September</td>\n",
       "    </tr>\n",
       "    <tr>\n",
       "      <th>4233</th>\n",
       "      <td>trentemøller</td>\n",
       "      <td>2019-01-28 19:46</td>\n",
       "      <td>450562</td>\n",
       "      <td>Take Me Into Your Skin</td>\n",
       "    </tr>\n",
       "    <tr>\n",
       "      <th>1509</th>\n",
       "      <td>w00ds</td>\n",
       "      <td>2018-12-10 19:12</td>\n",
       "      <td>143777</td>\n",
       "      <td>Electric Soul</td>\n",
       "    </tr>\n",
       "    <tr>\n",
       "      <th>6359</th>\n",
       "      <td>weird inside</td>\n",
       "      <td>2019-09-23 17:58</td>\n",
       "      <td>173846</td>\n",
       "      <td>just ask</td>\n",
       "    </tr>\n",
       "    <tr>\n",
       "      <th>7803</th>\n",
       "      <td>weird inside</td>\n",
       "      <td>2019-10-14 06:03</td>\n",
       "      <td>173328</td>\n",
       "      <td>just ask</td>\n",
       "    </tr>\n",
       "    <tr>\n",
       "      <th>6325</th>\n",
       "      <td>weird inside</td>\n",
       "      <td>2019-09-23 16:24</td>\n",
       "      <td>173846</td>\n",
       "      <td>just ask</td>\n",
       "    </tr>\n",
       "    <tr>\n",
       "      <th>8857</th>\n",
       "      <td>weird inside</td>\n",
       "      <td>2019-10-31 18:00</td>\n",
       "      <td>173846</td>\n",
       "      <td>just ask</td>\n",
       "    </tr>\n",
       "    <tr>\n",
       "      <th>5986</th>\n",
       "      <td>weird inside</td>\n",
       "      <td>2019-09-19 18:19</td>\n",
       "      <td>173846</td>\n",
       "      <td>just ask</td>\n",
       "    </tr>\n",
       "    <tr>\n",
       "      <th>1092</th>\n",
       "      <td>weird inside</td>\n",
       "      <td>2019-07-03 17:27</td>\n",
       "      <td>173846</td>\n",
       "      <td>just ask</td>\n",
       "    </tr>\n",
       "    <tr>\n",
       "      <th>7756</th>\n",
       "      <td>weird inside</td>\n",
       "      <td>2019-10-14 04:13</td>\n",
       "      <td>1670</td>\n",
       "      <td>just ask</td>\n",
       "    </tr>\n",
       "    <tr>\n",
       "      <th>6369</th>\n",
       "      <td>weird inside</td>\n",
       "      <td>2019-09-23 18:07</td>\n",
       "      <td>2218</td>\n",
       "      <td>just ask</td>\n",
       "    </tr>\n",
       "    <tr>\n",
       "      <th>8827</th>\n",
       "      <td>weird inside</td>\n",
       "      <td>2019-10-31 15:11</td>\n",
       "      <td>173846</td>\n",
       "      <td>just ask</td>\n",
       "    </tr>\n",
       "    <tr>\n",
       "      <th>8892</th>\n",
       "      <td>weird inside</td>\n",
       "      <td>2019-10-31 19:46</td>\n",
       "      <td>173846</td>\n",
       "      <td>just ask</td>\n",
       "    </tr>\n",
       "    <tr>\n",
       "      <th>2555</th>\n",
       "      <td>weird inside</td>\n",
       "      <td>2019-07-24 18:49</td>\n",
       "      <td>173846</td>\n",
       "      <td>just ask</td>\n",
       "    </tr>\n",
       "    <tr>\n",
       "      <th>7059</th>\n",
       "      <td>weird inside</td>\n",
       "      <td>2019-10-07 14:40</td>\n",
       "      <td>173846</td>\n",
       "      <td>just ask</td>\n",
       "    </tr>\n",
       "    <tr>\n",
       "      <th>8343</th>\n",
       "      <td>yeule</td>\n",
       "      <td>2019-10-23 19:53</td>\n",
       "      <td>260685</td>\n",
       "      <td>Poison Arrow</td>\n",
       "    </tr>\n",
       "    <tr>\n",
       "      <th>6196</th>\n",
       "      <td>yeule</td>\n",
       "      <td>2019-09-21 14:22</td>\n",
       "      <td>870</td>\n",
       "      <td>Pocky Boy</td>\n",
       "    </tr>\n",
       "    <tr>\n",
       "      <th>8768</th>\n",
       "      <td>yeule</td>\n",
       "      <td>2019-10-29 18:55</td>\n",
       "      <td>241388</td>\n",
       "      <td>Pocky Boy</td>\n",
       "    </tr>\n",
       "    <tr>\n",
       "      <th>2442</th>\n",
       "      <td>zack villere</td>\n",
       "      <td>2018-12-23 07:59</td>\n",
       "      <td>191984</td>\n",
       "      <td>Bloo</td>\n",
       "    </tr>\n",
       "    <tr>\n",
       "      <th>9877</th>\n",
       "      <td>Ólafur Arnalds</td>\n",
       "      <td>2019-11-19 17:00</td>\n",
       "      <td>194319</td>\n",
       "      <td>brot (lisboa) - live</td>\n",
       "    </tr>\n",
       "    <tr>\n",
       "      <th>6771</th>\n",
       "      <td>ØDYSSEE</td>\n",
       "      <td>2019-10-01 17:42</td>\n",
       "      <td>147002</td>\n",
       "      <td>Common'</td>\n",
       "    </tr>\n",
       "    <tr>\n",
       "      <th>6790</th>\n",
       "      <td>ØDYSSEE</td>\n",
       "      <td>2019-10-01 18:40</td>\n",
       "      <td>73248</td>\n",
       "      <td>Fallin' in Love</td>\n",
       "    </tr>\n",
       "    <tr>\n",
       "      <th>6785</th>\n",
       "      <td>ØDYSSEE</td>\n",
       "      <td>2019-10-01 18:29</td>\n",
       "      <td>120740</td>\n",
       "      <td>Let Me Sink</td>\n",
       "    </tr>\n",
       "    <tr>\n",
       "      <th>6778</th>\n",
       "      <td>ØDYSSEE</td>\n",
       "      <td>2019-10-01 18:10</td>\n",
       "      <td>147002</td>\n",
       "      <td>Common'</td>\n",
       "    </tr>\n",
       "    <tr>\n",
       "      <th>2778</th>\n",
       "      <td>ØDYSSEE</td>\n",
       "      <td>2019-07-29 18:02</td>\n",
       "      <td>179469</td>\n",
       "      <td>Midnight Romance</td>\n",
       "    </tr>\n",
       "    <tr>\n",
       "      <th>7038</th>\n",
       "      <td>박혜진 park hye jin</td>\n",
       "      <td>2019-04-03 13:42</td>\n",
       "      <td>176729</td>\n",
       "      <td>ABC</td>\n",
       "    </tr>\n",
       "    <tr>\n",
       "      <th>7196</th>\n",
       "      <td>박혜진 park hye jin</td>\n",
       "      <td>2019-04-05 11:39</td>\n",
       "      <td>242000</td>\n",
       "      <td>ABC</td>\n",
       "    </tr>\n",
       "  </tbody>\n",
       "</table>\n",
       "<p>20001 rows × 4 columns</p>\n",
       "</div>"
      ],
      "text/plain": [
       "            artistName           endTime  msPlayed  \\\n",
       "8580               !!!  2019-10-25 17:36    243626   \n",
       "9188         $ilkMoney  2019-11-05 22:13    117995   \n",
       "5880    (Sandy) Alex G  2019-09-17 13:24         0   \n",
       "329     (Sandy) Alex G  2019-06-15 16:13    190218   \n",
       "214     (Sandy) Alex G  2019-06-13 16:21    140630   \n",
       "439     (Sandy) Alex G  2019-06-19 17:14         0   \n",
       "5881    (Sandy) Alex G  2019-09-17 13:51     37610   \n",
       "5878    (Sandy) Alex G  2019-09-17 13:23         0   \n",
       "415     (Sandy) Alex G  2019-06-19 16:45    190218   \n",
       "49      (Sandy) Alex G  2019-06-10 04:06      8680   \n",
       "800     (Sandy) Alex G  2019-06-28 18:11       655   \n",
       "573     (Sandy) Alex G  2019-06-21 23:14     39891   \n",
       "2415            *NSYNC  2019-07-23 00:41     42004   \n",
       "2413            *NSYNC  2019-07-23 00:37      9682   \n",
       "5311              0171  2019-02-21 01:56    239456   \n",
       "7986              0171  2019-10-17 02:43    239455   \n",
       "5001              0171  2019-02-14 23:52    239456   \n",
       "4998              0171  2019-02-14 23:06    240292   \n",
       "4969              0171  2019-02-14 01:53    239455   \n",
       "5339              0171  2019-02-21 03:23    239456   \n",
       "5365              0171  2019-02-21 05:07    239456   \n",
       "6133              0171  2019-03-15 18:12    239455   \n",
       "9009              0171  2019-11-03 19:31    239455   \n",
       "5753              0171  2019-02-25 23:22    239455   \n",
       "5443              0171  2019-02-21 10:16    239456   \n",
       "5469              0171  2019-02-21 11:59    239456   \n",
       "5633              0171  2019-02-23 02:03    239455   \n",
       "5492              0171  2019-02-21 23:53    239455   \n",
       "5966              0171  2019-03-06 16:55    239455   \n",
       "5391              0171  2019-02-21 06:50    239456   \n",
       "...                ...               ...       ...   \n",
       "4242      trentemøller  2019-01-28 20:29    311054   \n",
       "5835      trentemøller  2019-09-16 17:11    311054   \n",
       "5843      trentemøller  2019-09-16 17:48    450562   \n",
       "6928      trentemøller  2019-10-04 20:57    309265   \n",
       "4233      trentemøller  2019-01-28 19:46    450562   \n",
       "1509             w00ds  2018-12-10 19:12    143777   \n",
       "6359      weird inside  2019-09-23 17:58    173846   \n",
       "7803      weird inside  2019-10-14 06:03    173328   \n",
       "6325      weird inside  2019-09-23 16:24    173846   \n",
       "8857      weird inside  2019-10-31 18:00    173846   \n",
       "5986      weird inside  2019-09-19 18:19    173846   \n",
       "1092      weird inside  2019-07-03 17:27    173846   \n",
       "7756      weird inside  2019-10-14 04:13      1670   \n",
       "6369      weird inside  2019-09-23 18:07      2218   \n",
       "8827      weird inside  2019-10-31 15:11    173846   \n",
       "8892      weird inside  2019-10-31 19:46    173846   \n",
       "2555      weird inside  2019-07-24 18:49    173846   \n",
       "7059      weird inside  2019-10-07 14:40    173846   \n",
       "8343             yeule  2019-10-23 19:53    260685   \n",
       "6196             yeule  2019-09-21 14:22       870   \n",
       "8768             yeule  2019-10-29 18:55    241388   \n",
       "2442      zack villere  2018-12-23 07:59    191984   \n",
       "9877    Ólafur Arnalds  2019-11-19 17:00    194319   \n",
       "6771           ØDYSSEE  2019-10-01 17:42    147002   \n",
       "6790           ØDYSSEE  2019-10-01 18:40     73248   \n",
       "6785           ØDYSSEE  2019-10-01 18:29    120740   \n",
       "6778           ØDYSSEE  2019-10-01 18:10    147002   \n",
       "2778           ØDYSSEE  2019-07-29 18:02    179469   \n",
       "7038  박혜진 park hye jin  2019-04-03 13:42    176729   \n",
       "7196  박혜진 park hye jin  2019-04-05 11:39    242000   \n",
       "\n",
       "                          trackName  \n",
       "8580             One Girl / One Boy  \n",
       "9188                           Naga  \n",
       "5880                      Walk Away  \n",
       "329                          Gretel  \n",
       "214                          Gretel  \n",
       "439                          Gretel  \n",
       "5881                      Walk Away  \n",
       "5878                      Walk Away  \n",
       "415                          Gretel  \n",
       "49                           Gretel  \n",
       "800                          Gretel  \n",
       "573                          Gretel  \n",
       "2415                    Bye Bye Bye  \n",
       "2413                    Bye Bye Bye  \n",
       "5311                     1000 Words  \n",
       "7986                     1000 Words  \n",
       "5001                     1000 Words  \n",
       "4998                     1000 Words  \n",
       "4969                     1000 Words  \n",
       "5339                     1000 Words  \n",
       "5365                     1000 Words  \n",
       "6133                     1000 Words  \n",
       "9009                     1000 Words  \n",
       "5753                     1000 Words  \n",
       "5443                     1000 Words  \n",
       "5469                     1000 Words  \n",
       "5633                     1000 Words  \n",
       "5492                     1000 Words  \n",
       "5966                     1000 Words  \n",
       "5391                     1000 Words  \n",
       "...                             ...  \n",
       "4242  While The Cold Winter Waiting  \n",
       "5835  While The Cold Winter Waiting  \n",
       "5843         Take Me Into Your Skin  \n",
       "6928                 Blue September  \n",
       "4233         Take Me Into Your Skin  \n",
       "1509                  Electric Soul  \n",
       "6359                       just ask  \n",
       "7803                       just ask  \n",
       "6325                       just ask  \n",
       "8857                       just ask  \n",
       "5986                       just ask  \n",
       "1092                       just ask  \n",
       "7756                       just ask  \n",
       "6369                       just ask  \n",
       "8827                       just ask  \n",
       "8892                       just ask  \n",
       "2555                       just ask  \n",
       "7059                       just ask  \n",
       "8343                   Poison Arrow  \n",
       "6196                      Pocky Boy  \n",
       "8768                      Pocky Boy  \n",
       "2442                           Bloo  \n",
       "9877           brot (lisboa) - live  \n",
       "6771                        Common'  \n",
       "6790                Fallin' in Love  \n",
       "6785                    Let Me Sink  \n",
       "6778                        Common'  \n",
       "2778               Midnight Romance  \n",
       "7038                            ABC  \n",
       "7196                            ABC  \n",
       "\n",
       "[20001 rows x 4 columns]"
      ]
     },
     "metadata": {},
     "output_type": "display_data"
    }
   ],
   "source": [
    "display(data_subset)"
   ]
  },
  {
   "cell_type": "code",
   "execution_count": 72,
   "metadata": {},
   "outputs": [
    {
     "name": "stderr",
     "output_type": "stream",
     "text": [
      "/anaconda3/envs/py36/lib/python3.6/site-packages/ipykernel_launcher.py:1: SettingWithCopyWarning: \n",
      "A value is trying to be set on a copy of a slice from a DataFrame\n",
      "\n",
      "See the caveats in the documentation: http://pandas.pydata.org/pandas-docs/stable/indexing.html#indexing-view-versus-copy\n",
      "  \"\"\"Entry point for launching an IPython kernel.\n"
     ]
    },
    {
     "data": {
      "text/plain": [
       "'alternative dance'"
      ]
     },
     "metadata": {},
     "output_type": "display_data"
    },
    {
     "data": {
      "text/plain": [
       "'underground hip hop'"
      ]
     },
     "metadata": {},
     "output_type": "display_data"
    },
    {
     "data": {
      "text/plain": [
       "'alternative rock'"
      ]
     },
     "metadata": {},
     "output_type": "display_data"
    },
    {
     "data": {
      "text/plain": [
       "'alternative rock'"
      ]
     },
     "metadata": {},
     "output_type": "display_data"
    },
    {
     "data": {
      "text/plain": [
       "'alternative rock'"
      ]
     },
     "metadata": {},
     "output_type": "display_data"
    },
    {
     "data": {
      "text/plain": [
       "'alternative rock'"
      ]
     },
     "metadata": {},
     "output_type": "display_data"
    },
    {
     "data": {
      "text/plain": [
       "'alternative rock'"
      ]
     },
     "metadata": {},
     "output_type": "display_data"
    },
    {
     "data": {
      "text/plain": [
       "'alternative rock'"
      ]
     },
     "metadata": {},
     "output_type": "display_data"
    },
    {
     "data": {
      "text/plain": [
       "'alternative rock'"
      ]
     },
     "metadata": {},
     "output_type": "display_data"
    },
    {
     "data": {
      "text/plain": [
       "'alternative rock'"
      ]
     },
     "metadata": {},
     "output_type": "display_data"
    },
    {
     "data": {
      "text/plain": [
       "'alternative rock'"
      ]
     },
     "metadata": {},
     "output_type": "display_data"
    },
    {
     "data": {
      "text/plain": [
       "'alternative rock'"
      ]
     },
     "metadata": {},
     "output_type": "display_data"
    },
    {
     "data": {
      "text/plain": [
       "'boy band'"
      ]
     },
     "metadata": {},
     "output_type": "display_data"
    },
    {
     "data": {
      "text/plain": [
       "'boy band'"
      ]
     },
     "metadata": {},
     "output_type": "display_data"
    },
    {
     "data": {
      "text/plain": [
       "'new jersey rap'"
      ]
     },
     "metadata": {},
     "output_type": "display_data"
    },
    {
     "data": {
      "text/plain": [
       "'new jersey rap'"
      ]
     },
     "metadata": {},
     "output_type": "display_data"
    },
    {
     "data": {
      "text/plain": [
       "'new jersey rap'"
      ]
     },
     "metadata": {},
     "output_type": "display_data"
    },
    {
     "data": {
      "text/plain": [
       "'new jersey rap'"
      ]
     },
     "metadata": {},
     "output_type": "display_data"
    },
    {
     "data": {
      "text/plain": [
       "'nepali pop'"
      ]
     },
     "metadata": {},
     "output_type": "display_data"
    },
    {
     "data": {
      "text/plain": [
       "'nepali pop'"
      ]
     },
     "metadata": {},
     "output_type": "display_data"
    },
    {
     "data": {
      "text/plain": [
       "'new french touch'"
      ]
     },
     "metadata": {},
     "output_type": "display_data"
    },
    {
     "data": {
      "text/plain": [
       "'new french touch'"
      ]
     },
     "metadata": {},
     "output_type": "display_data"
    },
    {
     "data": {
      "text/plain": [
       "'new french touch'"
      ]
     },
     "metadata": {},
     "output_type": "display_data"
    },
    {
     "data": {
      "text/plain": [
       "'new french touch'"
      ]
     },
     "metadata": {},
     "output_type": "display_data"
    },
    {
     "data": {
      "text/plain": [
       "'new french touch'"
      ]
     },
     "metadata": {},
     "output_type": "display_data"
    },
    {
     "data": {
      "text/plain": [
       "'new french touch'"
      ]
     },
     "metadata": {},
     "output_type": "display_data"
    },
    {
     "data": {
      "text/plain": [
       "'new french touch'"
      ]
     },
     "metadata": {},
     "output_type": "display_data"
    },
    {
     "data": {
      "text/plain": [
       "'new french touch'"
      ]
     },
     "metadata": {},
     "output_type": "display_data"
    },
    {
     "data": {
      "text/plain": [
       "'new french touch'"
      ]
     },
     "metadata": {},
     "output_type": "display_data"
    },
    {
     "data": {
      "text/plain": [
       "'new french touch'"
      ]
     },
     "metadata": {},
     "output_type": "display_data"
    },
    {
     "data": {
      "text/plain": [
       "'new french touch'"
      ]
     },
     "metadata": {},
     "output_type": "display_data"
    },
    {
     "data": {
      "text/plain": [
       "'new french touch'"
      ]
     },
     "metadata": {},
     "output_type": "display_data"
    },
    {
     "data": {
      "text/plain": [
       "'new french touch'"
      ]
     },
     "metadata": {},
     "output_type": "display_data"
    },
    {
     "data": {
      "text/plain": [
       "'new french touch'"
      ]
     },
     "metadata": {},
     "output_type": "display_data"
    },
    {
     "data": {
      "text/plain": [
       "'new french touch'"
      ]
     },
     "metadata": {},
     "output_type": "display_data"
    },
    {
     "data": {
      "text/plain": [
       "'new french touch'"
      ]
     },
     "metadata": {},
     "output_type": "display_data"
    },
    {
     "data": {
      "text/plain": [
       "'new french touch'"
      ]
     },
     "metadata": {},
     "output_type": "display_data"
    },
    {
     "data": {
      "text/plain": [
       "'atl hip hop'"
      ]
     },
     "metadata": {},
     "output_type": "display_data"
    },
    {
     "data": {
      "text/plain": [
       "'atl hip hop'"
      ]
     },
     "metadata": {},
     "output_type": "display_data"
    },
    {
     "data": {
      "text/plain": [
       "'atl hip hop'"
      ]
     },
     "metadata": {},
     "output_type": "display_data"
    },
    {
     "data": {
      "text/plain": [
       "'atl hip hop'"
      ]
     },
     "metadata": {},
     "output_type": "display_data"
    },
    {
     "data": {
      "text/plain": [
       "'atl hip hop'"
      ]
     },
     "metadata": {},
     "output_type": "display_data"
    },
    {
     "data": {
      "text/plain": [
       "'atl hip hop'"
      ]
     },
     "metadata": {},
     "output_type": "display_data"
    },
    {
     "data": {
      "text/plain": [
       "'atl hip hop'"
      ]
     },
     "metadata": {},
     "output_type": "display_data"
    },
    {
     "data": {
      "text/plain": [
       "'atl hip hop'"
      ]
     },
     "metadata": {},
     "output_type": "display_data"
    },
    {
     "data": {
      "text/plain": [
       "'atl hip hop'"
      ]
     },
     "metadata": {},
     "output_type": "display_data"
    },
    {
     "data": {
      "text/plain": [
       "'atl hip hop'"
      ]
     },
     "metadata": {},
     "output_type": "display_data"
    },
    {
     "data": {
      "text/plain": [
       "'atl hip hop'"
      ]
     },
     "metadata": {},
     "output_type": "display_data"
    },
    {
     "data": {
      "text/plain": [
       "'atl hip hop'"
      ]
     },
     "metadata": {},
     "output_type": "display_data"
    },
    {
     "data": {
      "text/plain": [
       "'atl hip hop'"
      ]
     },
     "metadata": {},
     "output_type": "display_data"
    },
    {
     "data": {
      "text/plain": [
       "'atl hip hop'"
      ]
     },
     "metadata": {},
     "output_type": "display_data"
    },
    {
     "data": {
      "text/plain": [
       "'atl hip hop'"
      ]
     },
     "metadata": {},
     "output_type": "display_data"
    },
    {
     "data": {
      "text/plain": [
       "'atl hip hop'"
      ]
     },
     "metadata": {},
     "output_type": "display_data"
    },
    {
     "data": {
      "text/plain": [
       "'atl hip hop'"
      ]
     },
     "metadata": {},
     "output_type": "display_data"
    },
    {
     "data": {
      "text/plain": [
       "'atl hip hop'"
      ]
     },
     "metadata": {},
     "output_type": "display_data"
    },
    {
     "data": {
      "text/plain": [
       "'atl hip hop'"
      ]
     },
     "metadata": {},
     "output_type": "display_data"
    },
    {
     "data": {
      "text/plain": [
       "'atl hip hop'"
      ]
     },
     "metadata": {},
     "output_type": "display_data"
    },
    {
     "data": {
      "text/plain": [
       "'g funk'"
      ]
     },
     "metadata": {},
     "output_type": "display_data"
    },
    {
     "data": {
      "text/plain": [
       "'g funk'"
      ]
     },
     "metadata": {},
     "output_type": "display_data"
    },
    {
     "data": {
      "text/plain": [
       "'g funk'"
      ]
     },
     "metadata": {},
     "output_type": "display_data"
    },
    {
     "data": {
      "text/plain": [
       "'g funk'"
      ]
     },
     "metadata": {},
     "output_type": "display_data"
    },
    {
     "data": {
      "text/plain": [
       "'g funk'"
      ]
     },
     "metadata": {},
     "output_type": "display_data"
    },
    {
     "data": {
      "text/plain": [
       "'g funk'"
      ]
     },
     "metadata": {},
     "output_type": "display_data"
    },
    {
     "data": {
      "text/plain": [
       "'g funk'"
      ]
     },
     "metadata": {},
     "output_type": "display_data"
    },
    {
     "data": {
      "text/plain": [
       "'alternative metal'"
      ]
     },
     "metadata": {},
     "output_type": "display_data"
    },
    {
     "data": {
      "text/plain": [
       "'east coast hip hop'"
      ]
     },
     "metadata": {},
     "output_type": "display_data"
    },
    {
     "data": {
      "text/plain": [
       "'east coast hip hop'"
      ]
     },
     "metadata": {},
     "output_type": "display_data"
    },
    {
     "data": {
      "text/plain": [
       "'east coast hip hop'"
      ]
     },
     "metadata": {},
     "output_type": "display_data"
    },
    {
     "data": {
      "text/plain": [
       "'alternative r&b'"
      ]
     },
     "metadata": {},
     "output_type": "display_data"
    },
    {
     "data": {
      "text/plain": [
       "'alternative r&b'"
      ]
     },
     "metadata": {},
     "output_type": "display_data"
    },
    {
     "data": {
      "text/plain": [
       "'alternative r&b'"
      ]
     },
     "metadata": {},
     "output_type": "display_data"
    },
    {
     "data": {
      "text/plain": [
       "'alternative r&b'"
      ]
     },
     "metadata": {},
     "output_type": "display_data"
    },
    {
     "data": {
      "text/plain": [
       "'alternative r&b'"
      ]
     },
     "metadata": {},
     "output_type": "display_data"
    },
    {
     "data": {
      "text/plain": [
       "'alternative r&b'"
      ]
     },
     "metadata": {},
     "output_type": "display_data"
    },
    {
     "data": {
      "text/plain": [
       "'alternative r&b'"
      ]
     },
     "metadata": {},
     "output_type": "display_data"
    },
    {
     "data": {
      "text/plain": [
       "'alternative r&b'"
      ]
     },
     "metadata": {},
     "output_type": "display_data"
    },
    {
     "data": {
      "text/plain": [
       "'alternative r&b'"
      ]
     },
     "metadata": {},
     "output_type": "display_data"
    },
    {
     "data": {
      "text/plain": [
       "'alternative r&b'"
      ]
     },
     "metadata": {},
     "output_type": "display_data"
    },
    {
     "data": {
      "text/plain": [
       "'alternative r&b'"
      ]
     },
     "metadata": {},
     "output_type": "display_data"
    },
    {
     "data": {
      "text/plain": [
       "'pop'"
      ]
     },
     "metadata": {},
     "output_type": "display_data"
    },
    {
     "data": {
      "text/plain": [
       "'pop'"
      ]
     },
     "metadata": {},
     "output_type": "display_data"
    },
    {
     "data": {
      "text/plain": [
       "'pop'"
      ]
     },
     "metadata": {},
     "output_type": "display_data"
    },
    {
     "data": {
      "text/plain": [
       "'pop'"
      ]
     },
     "metadata": {},
     "output_type": "display_data"
    },
    {
     "data": {
      "text/plain": [
       "'pop'"
      ]
     },
     "metadata": {},
     "output_type": "display_data"
    },
    {
     "data": {
      "text/plain": [
       "'pop'"
      ]
     },
     "metadata": {},
     "output_type": "display_data"
    },
    {
     "data": {
      "text/plain": [
       "'pop'"
      ]
     },
     "metadata": {},
     "output_type": "display_data"
    },
    {
     "data": {
      "text/plain": [
       "'pop'"
      ]
     },
     "metadata": {},
     "output_type": "display_data"
    },
    {
     "data": {
      "text/plain": [
       "'boy band'"
      ]
     },
     "metadata": {},
     "output_type": "display_data"
    },
    {
     "data": {
      "text/plain": [
       "'boy band'"
      ]
     },
     "metadata": {},
     "output_type": "display_data"
    },
    {
     "data": {
      "text/plain": [
       "'boy band'"
      ]
     },
     "metadata": {},
     "output_type": "display_data"
    },
    {
     "data": {
      "text/plain": [
       "'boy band'"
      ]
     },
     "metadata": {},
     "output_type": "display_data"
    },
    {
     "data": {
      "text/plain": [
       "'alternative hip hop'"
      ]
     },
     "metadata": {},
     "output_type": "display_data"
    },
    {
     "data": {
      "text/plain": [
       "'electropop'"
      ]
     },
     "metadata": {},
     "output_type": "display_data"
    },
    {
     "data": {
      "text/plain": [
       "'electropop'"
      ]
     },
     "metadata": {},
     "output_type": "display_data"
    },
    {
     "data": {
      "text/plain": [
       "'alternative hip hop'"
      ]
     },
     "metadata": {},
     "output_type": "display_data"
    },
    {
     "data": {
      "text/plain": [
       "'east coast hip hop'"
      ]
     },
     "metadata": {},
     "output_type": "display_data"
    },
    {
     "data": {
      "text/plain": [
       "'east coast hip hop'"
      ]
     },
     "metadata": {},
     "output_type": "display_data"
    },
    {
     "data": {
      "text/plain": [
       "'east coast hip hop'"
      ]
     },
     "metadata": {},
     "output_type": "display_data"
    },
    {
     "data": {
      "text/plain": [
       "'east coast hip hop'"
      ]
     },
     "metadata": {},
     "output_type": "display_data"
    },
    {
     "data": {
      "text/plain": [
       "'uk alternative pop'"
      ]
     },
     "metadata": {},
     "output_type": "display_data"
    },
    {
     "data": {
      "text/plain": [
       "'desi pop'"
      ]
     },
     "metadata": {},
     "output_type": "display_data"
    },
    {
     "data": {
      "text/plain": [
       "'europop'"
      ]
     },
     "metadata": {},
     "output_type": "display_data"
    },
    {
     "data": {
      "text/plain": [
       "'modern rock'"
      ]
     },
     "metadata": {},
     "output_type": "display_data"
    },
    {
     "data": {
      "text/plain": [
       "'london indie'"
      ]
     },
     "metadata": {},
     "output_type": "display_data"
    },
    {
     "data": {
      "text/plain": [
       "'london indie'"
      ]
     },
     "metadata": {},
     "output_type": "display_data"
    },
    {
     "data": {
      "text/plain": [
       "'london indie'"
      ]
     },
     "metadata": {},
     "output_type": "display_data"
    },
    {
     "data": {
      "text/plain": [
       "'london indie'"
      ]
     },
     "metadata": {},
     "output_type": "display_data"
    },
    {
     "data": {
      "text/plain": [
       "'london indie'"
      ]
     },
     "metadata": {},
     "output_type": "display_data"
    },
    {
     "data": {
      "text/plain": [
       "'london indie'"
      ]
     },
     "metadata": {},
     "output_type": "display_data"
    },
    {
     "data": {
      "text/plain": [
       "'london indie'"
      ]
     },
     "metadata": {},
     "output_type": "display_data"
    },
    {
     "data": {
      "text/plain": [
       "'london indie'"
      ]
     },
     "metadata": {},
     "output_type": "display_data"
    },
    {
     "data": {
      "text/plain": [
       "'london indie'"
      ]
     },
     "metadata": {},
     "output_type": "display_data"
    },
    {
     "data": {
      "text/plain": [
       "'london indie'"
      ]
     },
     "metadata": {},
     "output_type": "display_data"
    },
    {
     "data": {
      "text/plain": [
       "'london indie'"
      ]
     },
     "metadata": {},
     "output_type": "display_data"
    },
    {
     "data": {
      "text/plain": [
       "'london indie'"
      ]
     },
     "metadata": {},
     "output_type": "display_data"
    },
    {
     "data": {
      "text/plain": [
       "'london indie'"
      ]
     },
     "metadata": {},
     "output_type": "display_data"
    },
    {
     "data": {
      "text/plain": [
       "'london indie'"
      ]
     },
     "metadata": {},
     "output_type": "display_data"
    },
    {
     "data": {
      "text/plain": [
       "'london indie'"
      ]
     },
     "metadata": {},
     "output_type": "display_data"
    },
    {
     "data": {
      "text/plain": [
       "'indietronica'"
      ]
     },
     "metadata": {},
     "output_type": "display_data"
    },
    {
     "data": {
      "text/plain": [
       "'indietronica'"
      ]
     },
     "metadata": {},
     "output_type": "display_data"
    },
    {
     "data": {
      "text/plain": [
       "'indietronica'"
      ]
     },
     "metadata": {},
     "output_type": "display_data"
    },
    {
     "data": {
      "text/plain": [
       "'english indie rock'"
      ]
     },
     "metadata": {},
     "output_type": "display_data"
    },
    {
     "data": {
      "text/plain": [
       "'english indie rock'"
      ]
     },
     "metadata": {},
     "output_type": "display_data"
    },
    {
     "data": {
      "text/plain": [
       "'english indie rock'"
      ]
     },
     "metadata": {},
     "output_type": "display_data"
    },
    {
     "data": {
      "text/plain": [
       "'english indie rock'"
      ]
     },
     "metadata": {},
     "output_type": "display_data"
    },
    {
     "data": {
      "text/plain": [
       "'english indie rock'"
      ]
     },
     "metadata": {},
     "output_type": "display_data"
    },
    {
     "data": {
      "text/plain": [
       "'english indie rock'"
      ]
     },
     "metadata": {},
     "output_type": "display_data"
    },
    {
     "data": {
      "text/plain": [
       "'english indie rock'"
      ]
     },
     "metadata": {},
     "output_type": "display_data"
    },
    {
     "data": {
      "text/plain": [
       "'english indie rock'"
      ]
     },
     "metadata": {},
     "output_type": "display_data"
    },
    {
     "data": {
      "text/plain": [
       "'english indie rock'"
      ]
     },
     "metadata": {},
     "output_type": "display_data"
    },
    {
     "data": {
      "text/plain": [
       "'english indie rock'"
      ]
     },
     "metadata": {},
     "output_type": "display_data"
    },
    {
     "data": {
      "text/plain": [
       "'english indie rock'"
      ]
     },
     "metadata": {},
     "output_type": "display_data"
    },
    {
     "data": {
      "text/plain": [
       "'pop'"
      ]
     },
     "metadata": {},
     "output_type": "display_data"
    },
    {
     "data": {
      "text/plain": [
       "'pop'"
      ]
     },
     "metadata": {},
     "output_type": "display_data"
    },
    {
     "data": {
      "text/plain": [
       "'pop'"
      ]
     },
     "metadata": {},
     "output_type": "display_data"
    },
    {
     "data": {
      "text/plain": [
       "'pop'"
      ]
     },
     "metadata": {},
     "output_type": "display_data"
    },
    {
     "data": {
      "text/plain": [
       "'pop'"
      ]
     },
     "metadata": {},
     "output_type": "display_data"
    },
    {
     "data": {
      "text/plain": [
       "'pop'"
      ]
     },
     "metadata": {},
     "output_type": "display_data"
    },
    {
     "data": {
      "text/plain": [
       "'pop'"
      ]
     },
     "metadata": {},
     "output_type": "display_data"
    },
    {
     "data": {
      "text/plain": [
       "'pop'"
      ]
     },
     "metadata": {},
     "output_type": "display_data"
    },
    {
     "data": {
      "text/plain": [
       "'pop'"
      ]
     },
     "metadata": {},
     "output_type": "display_data"
    },
    {
     "data": {
      "text/plain": [
       "'pop'"
      ]
     },
     "metadata": {},
     "output_type": "display_data"
    },
    {
     "data": {
      "text/plain": [
       "'pop'"
      ]
     },
     "metadata": {},
     "output_type": "display_data"
    },
    {
     "data": {
      "text/plain": [
       "'pop'"
      ]
     },
     "metadata": {},
     "output_type": "display_data"
    },
    {
     "data": {
      "text/plain": [
       "'pop'"
      ]
     },
     "metadata": {},
     "output_type": "display_data"
    },
    {
     "data": {
      "text/plain": [
       "'pop'"
      ]
     },
     "metadata": {},
     "output_type": "display_data"
    },
    {
     "data": {
      "text/plain": [
       "'pop'"
      ]
     },
     "metadata": {},
     "output_type": "display_data"
    },
    {
     "data": {
      "text/plain": [
       "'pop'"
      ]
     },
     "metadata": {},
     "output_type": "display_data"
    },
    {
     "data": {
      "text/plain": [
       "'pop'"
      ]
     },
     "metadata": {},
     "output_type": "display_data"
    },
    {
     "data": {
      "text/plain": [
       "'dance pop'"
      ]
     },
     "metadata": {},
     "output_type": "display_data"
    },
    {
     "data": {
      "text/plain": [
       "'focus'"
      ]
     },
     "metadata": {},
     "output_type": "display_data"
    },
    {
     "data": {
      "text/plain": [
       "'chillstep'"
      ]
     },
     "metadata": {},
     "output_type": "display_data"
    },
    {
     "data": {
      "text/plain": [
       "'alternative r&b'"
      ]
     },
     "metadata": {},
     "output_type": "display_data"
    },
    {
     "data": {
      "text/plain": [
       "'alternative r&b'"
      ]
     },
     "metadata": {},
     "output_type": "display_data"
    },
    {
     "data": {
      "text/plain": [
       "'alternative r&b'"
      ]
     },
     "metadata": {},
     "output_type": "display_data"
    },
    {
     "data": {
      "text/plain": [
       "'alternative r&b'"
      ]
     },
     "metadata": {},
     "output_type": "display_data"
    },
    {
     "data": {
      "text/plain": [
       "'alternative r&b'"
      ]
     },
     "metadata": {},
     "output_type": "display_data"
    },
    {
     "data": {
      "text/plain": [
       "'alternative r&b'"
      ]
     },
     "metadata": {},
     "output_type": "display_data"
    },
    {
     "data": {
      "text/plain": [
       "'alternative r&b'"
      ]
     },
     "metadata": {},
     "output_type": "display_data"
    },
    {
     "data": {
      "text/plain": [
       "'alternative r&b'"
      ]
     },
     "metadata": {},
     "output_type": "display_data"
    },
    {
     "data": {
      "text/plain": [
       "'alternative r&b'"
      ]
     },
     "metadata": {},
     "output_type": "display_data"
    },
    {
     "data": {
      "text/plain": [
       "'alternative r&b'"
      ]
     },
     "metadata": {},
     "output_type": "display_data"
    },
    {
     "data": {
      "text/plain": [
       "'alternative r&b'"
      ]
     },
     "metadata": {},
     "output_type": "display_data"
    },
    {
     "data": {
      "text/plain": [
       "'alternative r&b'"
      ]
     },
     "metadata": {},
     "output_type": "display_data"
    },
    {
     "data": {
      "text/plain": [
       "'alternative r&b'"
      ]
     },
     "metadata": {},
     "output_type": "display_data"
    },
    {
     "data": {
      "text/plain": [
       "'alternative r&b'"
      ]
     },
     "metadata": {},
     "output_type": "display_data"
    },
    {
     "data": {
      "text/plain": [
       "'alternative r&b'"
      ]
     },
     "metadata": {},
     "output_type": "display_data"
    },
    {
     "data": {
      "text/plain": [
       "'alternative hip hop'"
      ]
     },
     "metadata": {},
     "output_type": "display_data"
    },
    {
     "data": {
      "text/plain": [
       "'alternative hip hop'"
      ]
     },
     "metadata": {},
     "output_type": "display_data"
    },
    {
     "data": {
      "text/plain": [
       "'desi hip hop'"
      ]
     },
     "metadata": {},
     "output_type": "display_data"
    },
    {
     "data": {
      "text/plain": [
       "'desi hip hop'"
      ]
     },
     "metadata": {},
     "output_type": "display_data"
    },
    {
     "data": {
      "text/plain": [
       "'desi hip hop'"
      ]
     },
     "metadata": {},
     "output_type": "display_data"
    },
    {
     "data": {
      "text/plain": [
       "'desi hip hop'"
      ]
     },
     "metadata": {},
     "output_type": "display_data"
    },
    {
     "data": {
      "text/plain": [
       "'indie psych-pop'"
      ]
     },
     "metadata": {},
     "output_type": "display_data"
    },
    {
     "data": {
      "text/plain": [
       "'indie psych-pop'"
      ]
     },
     "metadata": {},
     "output_type": "display_data"
    },
    {
     "ename": "IndexError",
     "evalue": "list index out of range",
     "output_type": "error",
     "traceback": [
      "\u001b[0;31m---------------------------------------------------------------------------\u001b[0m",
      "\u001b[0;31mIndexError\u001b[0m                                Traceback (most recent call last)",
      "\u001b[0;32m<ipython-input-72-cc554459a924>\u001b[0m in \u001b[0;36m<module>\u001b[0;34m\u001b[0m\n\u001b[1;32m      5\u001b[0m     \u001b[0msearchQuery\u001b[0m \u001b[0;34m=\u001b[0m \u001b[0mlisten\u001b[0m\u001b[0;34m[\u001b[0m\u001b[0;34m'artistName'\u001b[0m\u001b[0;34m]\u001b[0m\u001b[0;34m;\u001b[0m\u001b[0;34m\u001b[0m\u001b[0;34m\u001b[0m\u001b[0m\n\u001b[1;32m      6\u001b[0m     \u001b[0msearchResult\u001b[0m \u001b[0;34m=\u001b[0m \u001b[0msp\u001b[0m\u001b[0;34m.\u001b[0m\u001b[0msearch\u001b[0m\u001b[0;34m(\u001b[0m\u001b[0msearchQuery\u001b[0m\u001b[0;34m,\u001b[0m \u001b[0mlimit\u001b[0m\u001b[0;34m=\u001b[0m\u001b[0;36m1\u001b[0m\u001b[0;34m,\u001b[0m \u001b[0mtype\u001b[0m\u001b[0;34m=\u001b[0m\u001b[0;34m'artist'\u001b[0m\u001b[0;34m)\u001b[0m\u001b[0;34m\u001b[0m\u001b[0;34m\u001b[0m\u001b[0m\n\u001b[0;32m----> 7\u001b[0;31m     \u001b[0martist\u001b[0m \u001b[0;34m=\u001b[0m \u001b[0msearchResult\u001b[0m\u001b[0;34m[\u001b[0m\u001b[0;34m'artists'\u001b[0m\u001b[0;34m]\u001b[0m\u001b[0;34m[\u001b[0m\u001b[0;34m'items'\u001b[0m\u001b[0;34m]\u001b[0m\u001b[0;34m[\u001b[0m\u001b[0;36m0\u001b[0m\u001b[0;34m]\u001b[0m\u001b[0;34m\u001b[0m\u001b[0;34m\u001b[0m\u001b[0m\n\u001b[0m\u001b[1;32m      8\u001b[0m     \u001b[0;31m#display(artist)\u001b[0m\u001b[0;34m\u001b[0m\u001b[0;34m\u001b[0m\u001b[0;34m\u001b[0m\u001b[0m\n\u001b[1;32m      9\u001b[0m     \u001b[0;32mif\u001b[0m \u001b[0mlen\u001b[0m\u001b[0;34m(\u001b[0m\u001b[0martist\u001b[0m\u001b[0;34m[\u001b[0m\u001b[0;34m'genres'\u001b[0m\u001b[0;34m]\u001b[0m\u001b[0;34m)\u001b[0m \u001b[0;34m>\u001b[0m \u001b[0;36m0\u001b[0m\u001b[0;34m:\u001b[0m\u001b[0;34m\u001b[0m\u001b[0;34m\u001b[0m\u001b[0m\n",
      "\u001b[0;31mIndexError\u001b[0m: list index out of range"
     ]
    }
   ],
   "source": [
    "data_subset.loc[\"genres\"] = \"\"\n",
    "genre_list = [];\n",
    "for ii in range(0, len(data_subset)):\n",
    "    listen = data_subset.iloc[ii]\n",
    "    searchQuery = listen['artistName'];\n",
    "    searchResult = sp.search(searchQuery, limit=1, type='artist')\n",
    "    artist = searchResult['artists']['items'][0]\n",
    "    #display(artist)\n",
    "    if len(artist['genres']) > 0:   \n",
    "        display(artist['genres'][0])\n",
    "        genre_list.append(artist['genres'][0])\n",
    "        #data_subset.iloc[ii,5] = artist['genres'][0]\n",
    "    else:\n",
    "        genre_list.append('null')\n",
    "        pass\n",
    "        #data_subset.iloc[ii]['genres'] = 'none'"
   ]
  },
  {
   "cell_type": "code",
   "execution_count": 20,
   "metadata": {},
   "outputs": [
    {
     "name": "stdout",
     "output_type": "stream",
     "text": [
      "{\n",
      "    \"external_urls\": {\n",
      "        \"spotify\": \"https://open.spotify.com/artist/6lcwlkAjBPSKnFBZjjZFJs\"\n",
      "    },\n",
      "    \"followers\": {\n",
      "        \"href\": null,\n",
      "        \"total\": 97411\n",
      "    },\n",
      "    \"genres\": [\n",
      "        \"alternative rock\",\n",
      "        \"art pop\",\n",
      "        \"chamber pop\",\n",
      "        \"freak folk\",\n",
      "        \"garage psych\",\n",
      "        \"indie folk\",\n",
      "        \"indie garage rock\",\n",
      "        \"indie pop\",\n",
      "        \"indie rock\",\n",
      "        \"lo-fi\",\n",
      "        \"noise pop\",\n",
      "        \"philly indie\"\n",
      "    ],\n",
      "    \"href\": \"https://api.spotify.com/v1/artists/6lcwlkAjBPSKnFBZjjZFJs\",\n",
      "    \"id\": \"6lcwlkAjBPSKnFBZjjZFJs\",\n",
      "    \"images\": [\n",
      "        {\n",
      "            \"height\": 640,\n",
      "            \"url\": \"https://i.scdn.co/image/82e1658be6688ee69d8d1c2bb9be33670e5e1a6d\",\n",
      "            \"width\": 640\n",
      "        },\n",
      "        {\n",
      "            \"height\": 320,\n",
      "            \"url\": \"https://i.scdn.co/image/1770d75e30b61af34ceab8ce2041bf565c236ed1\",\n",
      "            \"width\": 320\n",
      "        },\n",
      "        {\n",
      "            \"height\": 160,\n",
      "            \"url\": \"https://i.scdn.co/image/5409a7d83c3386ec0b6372ad1d776dd6fba0784b\",\n",
      "            \"width\": 160\n",
      "        }\n",
      "    ],\n",
      "    \"name\": \"(Sandy) Alex G\",\n",
      "    \"popularity\": 63,\n",
      "    \"type\": \"artist\",\n",
      "    \"uri\": \"spotify:artist:6lcwlkAjBPSKnFBZjjZFJs\"\n",
      "}\n"
     ]
    }
   ],
   "source": [
    "print(json.dumps(artist, sort_keys=True, indent=4))"
   ]
  },
  {
   "cell_type": "code",
   "execution_count": 69,
   "metadata": {},
   "outputs": [
    {
     "data": {
      "text/html": [
       "<div>\n",
       "<style scoped>\n",
       "    .dataframe tbody tr th:only-of-type {\n",
       "        vertical-align: middle;\n",
       "    }\n",
       "\n",
       "    .dataframe tbody tr th {\n",
       "        vertical-align: top;\n",
       "    }\n",
       "\n",
       "    .dataframe thead th {\n",
       "        text-align: right;\n",
       "    }\n",
       "</style>\n",
       "<table border=\"1\" class=\"dataframe\">\n",
       "  <thead>\n",
       "    <tr style=\"text-align: right;\">\n",
       "      <th></th>\n",
       "      <th>artistName</th>\n",
       "      <th>endTime</th>\n",
       "      <th>msPlayed</th>\n",
       "      <th>trackName</th>\n",
       "      <th>genres</th>\n",
       "    </tr>\n",
       "  </thead>\n",
       "  <tbody>\n",
       "    <tr>\n",
       "      <th>8580</th>\n",
       "      <td>!!!</td>\n",
       "      <td>2019-10-25 17:36</td>\n",
       "      <td>243626</td>\n",
       "      <td>One Girl / One Boy</td>\n",
       "      <td>alternative dance</td>\n",
       "    </tr>\n",
       "    <tr>\n",
       "      <th>9188</th>\n",
       "      <td>$ilkMoney</td>\n",
       "      <td>2019-11-05 22:13</td>\n",
       "      <td>117995</td>\n",
       "      <td>Naga</td>\n",
       "      <td>underground hip hop</td>\n",
       "    </tr>\n",
       "    <tr>\n",
       "      <th>5880</th>\n",
       "      <td>(Sandy) Alex G</td>\n",
       "      <td>2019-09-17 13:24</td>\n",
       "      <td>0</td>\n",
       "      <td>Walk Away</td>\n",
       "      <td>alternative rock</td>\n",
       "    </tr>\n",
       "    <tr>\n",
       "      <th>329</th>\n",
       "      <td>(Sandy) Alex G</td>\n",
       "      <td>2019-06-15 16:13</td>\n",
       "      <td>190218</td>\n",
       "      <td>Gretel</td>\n",
       "      <td>alternative rock</td>\n",
       "    </tr>\n",
       "    <tr>\n",
       "      <th>214</th>\n",
       "      <td>(Sandy) Alex G</td>\n",
       "      <td>2019-06-13 16:21</td>\n",
       "      <td>140630</td>\n",
       "      <td>Gretel</td>\n",
       "      <td>alternative rock</td>\n",
       "    </tr>\n",
       "    <tr>\n",
       "      <th>439</th>\n",
       "      <td>(Sandy) Alex G</td>\n",
       "      <td>2019-06-19 17:14</td>\n",
       "      <td>0</td>\n",
       "      <td>Gretel</td>\n",
       "      <td>alternative rock</td>\n",
       "    </tr>\n",
       "    <tr>\n",
       "      <th>5881</th>\n",
       "      <td>(Sandy) Alex G</td>\n",
       "      <td>2019-09-17 13:51</td>\n",
       "      <td>37610</td>\n",
       "      <td>Walk Away</td>\n",
       "      <td>alternative rock</td>\n",
       "    </tr>\n",
       "    <tr>\n",
       "      <th>5878</th>\n",
       "      <td>(Sandy) Alex G</td>\n",
       "      <td>2019-09-17 13:23</td>\n",
       "      <td>0</td>\n",
       "      <td>Walk Away</td>\n",
       "      <td>alternative rock</td>\n",
       "    </tr>\n",
       "    <tr>\n",
       "      <th>415</th>\n",
       "      <td>(Sandy) Alex G</td>\n",
       "      <td>2019-06-19 16:45</td>\n",
       "      <td>190218</td>\n",
       "      <td>Gretel</td>\n",
       "      <td>alternative rock</td>\n",
       "    </tr>\n",
       "    <tr>\n",
       "      <th>49</th>\n",
       "      <td>(Sandy) Alex G</td>\n",
       "      <td>2019-06-10 04:06</td>\n",
       "      <td>8680</td>\n",
       "      <td>Gretel</td>\n",
       "      <td>alternative rock</td>\n",
       "    </tr>\n",
       "    <tr>\n",
       "      <th>800</th>\n",
       "      <td>(Sandy) Alex G</td>\n",
       "      <td>2019-06-28 18:11</td>\n",
       "      <td>655</td>\n",
       "      <td>Gretel</td>\n",
       "      <td>alternative rock</td>\n",
       "    </tr>\n",
       "    <tr>\n",
       "      <th>573</th>\n",
       "      <td>(Sandy) Alex G</td>\n",
       "      <td>2019-06-21 23:14</td>\n",
       "      <td>39891</td>\n",
       "      <td>Gretel</td>\n",
       "      <td>alternative rock</td>\n",
       "    </tr>\n",
       "    <tr>\n",
       "      <th>2415</th>\n",
       "      <td>*NSYNC</td>\n",
       "      <td>2019-07-23 00:41</td>\n",
       "      <td>42004</td>\n",
       "      <td>Bye Bye Bye</td>\n",
       "      <td>boy band</td>\n",
       "    </tr>\n",
       "    <tr>\n",
       "      <th>2413</th>\n",
       "      <td>*NSYNC</td>\n",
       "      <td>2019-07-23 00:37</td>\n",
       "      <td>9682</td>\n",
       "      <td>Bye Bye Bye</td>\n",
       "      <td>boy band</td>\n",
       "    </tr>\n",
       "    <tr>\n",
       "      <th>5311</th>\n",
       "      <td>0171</td>\n",
       "      <td>2019-02-21 01:56</td>\n",
       "      <td>239456</td>\n",
       "      <td>1000 Words</td>\n",
       "      <td>null</td>\n",
       "    </tr>\n",
       "    <tr>\n",
       "      <th>7986</th>\n",
       "      <td>0171</td>\n",
       "      <td>2019-10-17 02:43</td>\n",
       "      <td>239455</td>\n",
       "      <td>1000 Words</td>\n",
       "      <td>null</td>\n",
       "    </tr>\n",
       "    <tr>\n",
       "      <th>5001</th>\n",
       "      <td>0171</td>\n",
       "      <td>2019-02-14 23:52</td>\n",
       "      <td>239456</td>\n",
       "      <td>1000 Words</td>\n",
       "      <td>null</td>\n",
       "    </tr>\n",
       "    <tr>\n",
       "      <th>4998</th>\n",
       "      <td>0171</td>\n",
       "      <td>2019-02-14 23:06</td>\n",
       "      <td>240292</td>\n",
       "      <td>1000 Words</td>\n",
       "      <td>null</td>\n",
       "    </tr>\n",
       "    <tr>\n",
       "      <th>4969</th>\n",
       "      <td>0171</td>\n",
       "      <td>2019-02-14 01:53</td>\n",
       "      <td>239455</td>\n",
       "      <td>1000 Words</td>\n",
       "      <td>null</td>\n",
       "    </tr>\n",
       "    <tr>\n",
       "      <th>5339</th>\n",
       "      <td>0171</td>\n",
       "      <td>2019-02-21 03:23</td>\n",
       "      <td>239456</td>\n",
       "      <td>1000 Words</td>\n",
       "      <td>null</td>\n",
       "    </tr>\n",
       "    <tr>\n",
       "      <th>5365</th>\n",
       "      <td>0171</td>\n",
       "      <td>2019-02-21 05:07</td>\n",
       "      <td>239456</td>\n",
       "      <td>1000 Words</td>\n",
       "      <td>null</td>\n",
       "    </tr>\n",
       "    <tr>\n",
       "      <th>6133</th>\n",
       "      <td>0171</td>\n",
       "      <td>2019-03-15 18:12</td>\n",
       "      <td>239455</td>\n",
       "      <td>1000 Words</td>\n",
       "      <td>null</td>\n",
       "    </tr>\n",
       "    <tr>\n",
       "      <th>9009</th>\n",
       "      <td>0171</td>\n",
       "      <td>2019-11-03 19:31</td>\n",
       "      <td>239455</td>\n",
       "      <td>1000 Words</td>\n",
       "      <td>null</td>\n",
       "    </tr>\n",
       "    <tr>\n",
       "      <th>5753</th>\n",
       "      <td>0171</td>\n",
       "      <td>2019-02-25 23:22</td>\n",
       "      <td>239455</td>\n",
       "      <td>1000 Words</td>\n",
       "      <td>null</td>\n",
       "    </tr>\n",
       "    <tr>\n",
       "      <th>5443</th>\n",
       "      <td>0171</td>\n",
       "      <td>2019-02-21 10:16</td>\n",
       "      <td>239456</td>\n",
       "      <td>1000 Words</td>\n",
       "      <td>null</td>\n",
       "    </tr>\n",
       "    <tr>\n",
       "      <th>5469</th>\n",
       "      <td>0171</td>\n",
       "      <td>2019-02-21 11:59</td>\n",
       "      <td>239456</td>\n",
       "      <td>1000 Words</td>\n",
       "      <td>null</td>\n",
       "    </tr>\n",
       "    <tr>\n",
       "      <th>5633</th>\n",
       "      <td>0171</td>\n",
       "      <td>2019-02-23 02:03</td>\n",
       "      <td>239455</td>\n",
       "      <td>1000 Words</td>\n",
       "      <td>null</td>\n",
       "    </tr>\n",
       "    <tr>\n",
       "      <th>5492</th>\n",
       "      <td>0171</td>\n",
       "      <td>2019-02-21 23:53</td>\n",
       "      <td>239455</td>\n",
       "      <td>1000 Words</td>\n",
       "      <td>null</td>\n",
       "    </tr>\n",
       "    <tr>\n",
       "      <th>5966</th>\n",
       "      <td>0171</td>\n",
       "      <td>2019-03-06 16:55</td>\n",
       "      <td>239455</td>\n",
       "      <td>1000 Words</td>\n",
       "      <td>null</td>\n",
       "    </tr>\n",
       "    <tr>\n",
       "      <th>5391</th>\n",
       "      <td>0171</td>\n",
       "      <td>2019-02-21 06:50</td>\n",
       "      <td>239456</td>\n",
       "      <td>1000 Words</td>\n",
       "      <td>null</td>\n",
       "    </tr>\n",
       "    <tr>\n",
       "      <th>...</th>\n",
       "      <td>...</td>\n",
       "      <td>...</td>\n",
       "      <td>...</td>\n",
       "      <td>...</td>\n",
       "      <td>...</td>\n",
       "    </tr>\n",
       "    <tr>\n",
       "      <th>53</th>\n",
       "      <td>ARTHUR</td>\n",
       "      <td>2018-11-21 17:00</td>\n",
       "      <td>141946</td>\n",
       "      <td>I'm Too Good</td>\n",
       "      <td>pop</td>\n",
       "    </tr>\n",
       "    <tr>\n",
       "      <th>1024</th>\n",
       "      <td>ARTHUR</td>\n",
       "      <td>2018-12-06 01:08</td>\n",
       "      <td>148235</td>\n",
       "      <td>I'm Too Good</td>\n",
       "      <td>pop</td>\n",
       "    </tr>\n",
       "    <tr>\n",
       "      <th>1014</th>\n",
       "      <td>ARTHUR</td>\n",
       "      <td>2018-12-06 00:34</td>\n",
       "      <td>148236</td>\n",
       "      <td>I'm Too Good</td>\n",
       "      <td>pop</td>\n",
       "    </tr>\n",
       "    <tr>\n",
       "      <th>805</th>\n",
       "      <td>ARTHUR</td>\n",
       "      <td>2018-12-02 17:38</td>\n",
       "      <td>67593</td>\n",
       "      <td>I'm Too Good</td>\n",
       "      <td>pop</td>\n",
       "    </tr>\n",
       "    <tr>\n",
       "      <th>4793</th>\n",
       "      <td>ARTHUR</td>\n",
       "      <td>2019-02-09 23:54</td>\n",
       "      <td>148363</td>\n",
       "      <td>I'm Too Good</td>\n",
       "      <td>pop</td>\n",
       "    </tr>\n",
       "    <tr>\n",
       "      <th>2414</th>\n",
       "      <td>Aaron Carter</td>\n",
       "      <td>2019-07-23 00:38</td>\n",
       "      <td>68754</td>\n",
       "      <td>I Want Candy</td>\n",
       "      <td>dance pop</td>\n",
       "    </tr>\n",
       "    <tr>\n",
       "      <th>2456</th>\n",
       "      <td>Aaron Lansing</td>\n",
       "      <td>2019-07-23 19:27</td>\n",
       "      <td>111803</td>\n",
       "      <td>Faded Dreams</td>\n",
       "      <td>focus</td>\n",
       "    </tr>\n",
       "    <tr>\n",
       "      <th>1560</th>\n",
       "      <td>Aaron Static</td>\n",
       "      <td>2019-07-11 17:47</td>\n",
       "      <td>276025</td>\n",
       "      <td>I'll Know</td>\n",
       "      <td>chillstep</td>\n",
       "    </tr>\n",
       "    <tr>\n",
       "      <th>4614</th>\n",
       "      <td>Aaron Taylor</td>\n",
       "      <td>2019-02-04 15:54</td>\n",
       "      <td>53188</td>\n",
       "      <td>Jaded</td>\n",
       "      <td>alternative r&amp;b</td>\n",
       "    </tr>\n",
       "    <tr>\n",
       "      <th>2807</th>\n",
       "      <td>Aaron Taylor</td>\n",
       "      <td>2018-12-28 04:01</td>\n",
       "      <td>220000</td>\n",
       "      <td>I Think I Love You Again</td>\n",
       "      <td>alternative r&amp;b</td>\n",
       "    </tr>\n",
       "    <tr>\n",
       "      <th>2806</th>\n",
       "      <td>Aaron Taylor</td>\n",
       "      <td>2018-12-28 03:58</td>\n",
       "      <td>186181</td>\n",
       "      <td>Spaceship</td>\n",
       "      <td>alternative r&amp;b</td>\n",
       "    </tr>\n",
       "    <tr>\n",
       "      <th>1650</th>\n",
       "      <td>Aaron Taylor</td>\n",
       "      <td>2018-12-13 20:46</td>\n",
       "      <td>0</td>\n",
       "      <td>I Think I Love You Again</td>\n",
       "      <td>alternative r&amp;b</td>\n",
       "    </tr>\n",
       "    <tr>\n",
       "      <th>2352</th>\n",
       "      <td>Aaron Taylor</td>\n",
       "      <td>2018-12-22 22:40</td>\n",
       "      <td>10205</td>\n",
       "      <td>I Think I Love You Again</td>\n",
       "      <td>alternative r&amp;b</td>\n",
       "    </tr>\n",
       "    <tr>\n",
       "      <th>1446</th>\n",
       "      <td>Aaron Taylor</td>\n",
       "      <td>2018-12-10 14:09</td>\n",
       "      <td>186181</td>\n",
       "      <td>Spaceship</td>\n",
       "      <td>alternative r&amp;b</td>\n",
       "    </tr>\n",
       "    <tr>\n",
       "      <th>2954</th>\n",
       "      <td>Aaron Taylor</td>\n",
       "      <td>2018-12-30 14:01</td>\n",
       "      <td>186181</td>\n",
       "      <td>Spaceship</td>\n",
       "      <td>alternative r&amp;b</td>\n",
       "    </tr>\n",
       "    <tr>\n",
       "      <th>1207</th>\n",
       "      <td>Aaron Taylor</td>\n",
       "      <td>2018-12-06 22:35</td>\n",
       "      <td>186181</td>\n",
       "      <td>Spaceship</td>\n",
       "      <td>alternative r&amp;b</td>\n",
       "    </tr>\n",
       "    <tr>\n",
       "      <th>1130</th>\n",
       "      <td>Aaron Taylor</td>\n",
       "      <td>2018-12-06 17:29</td>\n",
       "      <td>220000</td>\n",
       "      <td>I Think I Love You Again</td>\n",
       "      <td>alternative r&amp;b</td>\n",
       "    </tr>\n",
       "    <tr>\n",
       "      <th>1169</th>\n",
       "      <td>Aaron Taylor</td>\n",
       "      <td>2018-12-06 20:24</td>\n",
       "      <td>186181</td>\n",
       "      <td>Spaceship</td>\n",
       "      <td>alternative r&amp;b</td>\n",
       "    </tr>\n",
       "    <tr>\n",
       "      <th>9124</th>\n",
       "      <td>Aaron Taylor</td>\n",
       "      <td>2019-05-08 16:23</td>\n",
       "      <td>186181</td>\n",
       "      <td>Spaceship</td>\n",
       "      <td>alternative r&amp;b</td>\n",
       "    </tr>\n",
       "    <tr>\n",
       "      <th>2545</th>\n",
       "      <td>Aaron Taylor</td>\n",
       "      <td>2018-12-24 01:37</td>\n",
       "      <td>186181</td>\n",
       "      <td>Spaceship</td>\n",
       "      <td>alternative r&amp;b</td>\n",
       "    </tr>\n",
       "    <tr>\n",
       "      <th>1119</th>\n",
       "      <td>Aaron Taylor</td>\n",
       "      <td>2018-12-06 16:15</td>\n",
       "      <td>679</td>\n",
       "      <td>Spaceship</td>\n",
       "      <td>alternative r&amp;b</td>\n",
       "    </tr>\n",
       "    <tr>\n",
       "      <th>1236</th>\n",
       "      <td>Aaron Taylor</td>\n",
       "      <td>2018-12-07 00:24</td>\n",
       "      <td>15551</td>\n",
       "      <td>I Think I Love You Again</td>\n",
       "      <td>alternative r&amp;b</td>\n",
       "    </tr>\n",
       "    <tr>\n",
       "      <th>1188</th>\n",
       "      <td>Aaron Taylor</td>\n",
       "      <td>2018-12-06 21:19</td>\n",
       "      <td>220000</td>\n",
       "      <td>I Think I Love You Again</td>\n",
       "      <td>alternative r&amp;b</td>\n",
       "    </tr>\n",
       "    <tr>\n",
       "      <th>320</th>\n",
       "      <td>Ab-Soul</td>\n",
       "      <td>2018-11-26 15:03</td>\n",
       "      <td>272306</td>\n",
       "      <td>Bloody Waters (with Anderson .Paak &amp; James Blake)</td>\n",
       "      <td>alternative hip hop</td>\n",
       "    </tr>\n",
       "    <tr>\n",
       "      <th>628</th>\n",
       "      <td>Ab-Soul</td>\n",
       "      <td>2018-11-29 20:16</td>\n",
       "      <td>272306</td>\n",
       "      <td>Bloody Waters (with Anderson .Paak &amp; James Blake)</td>\n",
       "      <td>alternative hip hop</td>\n",
       "    </tr>\n",
       "    <tr>\n",
       "      <th>9021</th>\n",
       "      <td>Abhi The Nomad</td>\n",
       "      <td>2019-11-03 21:39</td>\n",
       "      <td>1523</td>\n",
       "      <td>Sex n' Drugs</td>\n",
       "      <td>desi hip hop</td>\n",
       "    </tr>\n",
       "    <tr>\n",
       "      <th>9019</th>\n",
       "      <td>Abhi The Nomad</td>\n",
       "      <td>2019-11-03 20:28</td>\n",
       "      <td>214811</td>\n",
       "      <td>Sex n' Drugs</td>\n",
       "      <td>desi hip hop</td>\n",
       "    </tr>\n",
       "    <tr>\n",
       "      <th>8350</th>\n",
       "      <td>Abhi The Nomad</td>\n",
       "      <td>2019-10-24 01:33</td>\n",
       "      <td>217777</td>\n",
       "      <td>Sex n' Drugs</td>\n",
       "      <td>desi hip hop</td>\n",
       "    </tr>\n",
       "    <tr>\n",
       "      <th>1459</th>\n",
       "      <td>Abhi The Nomad</td>\n",
       "      <td>2019-07-09 16:10</td>\n",
       "      <td>236740</td>\n",
       "      <td>Mindset</td>\n",
       "      <td>desi hip hop</td>\n",
       "    </tr>\n",
       "    <tr>\n",
       "      <th>6359</th>\n",
       "      <td>Abjects</td>\n",
       "      <td>2019-03-20 12:01</td>\n",
       "      <td>207317</td>\n",
       "      <td>Never Give Up</td>\n",
       "      <td>null</td>\n",
       "    </tr>\n",
       "  </tbody>\n",
       "</table>\n",
       "<p>200 rows × 5 columns</p>\n",
       "</div>"
      ],
      "text/plain": [
       "          artistName           endTime  msPlayed  \\\n",
       "8580             !!!  2019-10-25 17:36    243626   \n",
       "9188       $ilkMoney  2019-11-05 22:13    117995   \n",
       "5880  (Sandy) Alex G  2019-09-17 13:24         0   \n",
       "329   (Sandy) Alex G  2019-06-15 16:13    190218   \n",
       "214   (Sandy) Alex G  2019-06-13 16:21    140630   \n",
       "439   (Sandy) Alex G  2019-06-19 17:14         0   \n",
       "5881  (Sandy) Alex G  2019-09-17 13:51     37610   \n",
       "5878  (Sandy) Alex G  2019-09-17 13:23         0   \n",
       "415   (Sandy) Alex G  2019-06-19 16:45    190218   \n",
       "49    (Sandy) Alex G  2019-06-10 04:06      8680   \n",
       "800   (Sandy) Alex G  2019-06-28 18:11       655   \n",
       "573   (Sandy) Alex G  2019-06-21 23:14     39891   \n",
       "2415          *NSYNC  2019-07-23 00:41     42004   \n",
       "2413          *NSYNC  2019-07-23 00:37      9682   \n",
       "5311            0171  2019-02-21 01:56    239456   \n",
       "7986            0171  2019-10-17 02:43    239455   \n",
       "5001            0171  2019-02-14 23:52    239456   \n",
       "4998            0171  2019-02-14 23:06    240292   \n",
       "4969            0171  2019-02-14 01:53    239455   \n",
       "5339            0171  2019-02-21 03:23    239456   \n",
       "5365            0171  2019-02-21 05:07    239456   \n",
       "6133            0171  2019-03-15 18:12    239455   \n",
       "9009            0171  2019-11-03 19:31    239455   \n",
       "5753            0171  2019-02-25 23:22    239455   \n",
       "5443            0171  2019-02-21 10:16    239456   \n",
       "5469            0171  2019-02-21 11:59    239456   \n",
       "5633            0171  2019-02-23 02:03    239455   \n",
       "5492            0171  2019-02-21 23:53    239455   \n",
       "5966            0171  2019-03-06 16:55    239455   \n",
       "5391            0171  2019-02-21 06:50    239456   \n",
       "...              ...               ...       ...   \n",
       "53            ARTHUR  2018-11-21 17:00    141946   \n",
       "1024          ARTHUR  2018-12-06 01:08    148235   \n",
       "1014          ARTHUR  2018-12-06 00:34    148236   \n",
       "805           ARTHUR  2018-12-02 17:38     67593   \n",
       "4793          ARTHUR  2019-02-09 23:54    148363   \n",
       "2414    Aaron Carter  2019-07-23 00:38     68754   \n",
       "2456   Aaron Lansing  2019-07-23 19:27    111803   \n",
       "1560    Aaron Static  2019-07-11 17:47    276025   \n",
       "4614    Aaron Taylor  2019-02-04 15:54     53188   \n",
       "2807    Aaron Taylor  2018-12-28 04:01    220000   \n",
       "2806    Aaron Taylor  2018-12-28 03:58    186181   \n",
       "1650    Aaron Taylor  2018-12-13 20:46         0   \n",
       "2352    Aaron Taylor  2018-12-22 22:40     10205   \n",
       "1446    Aaron Taylor  2018-12-10 14:09    186181   \n",
       "2954    Aaron Taylor  2018-12-30 14:01    186181   \n",
       "1207    Aaron Taylor  2018-12-06 22:35    186181   \n",
       "1130    Aaron Taylor  2018-12-06 17:29    220000   \n",
       "1169    Aaron Taylor  2018-12-06 20:24    186181   \n",
       "9124    Aaron Taylor  2019-05-08 16:23    186181   \n",
       "2545    Aaron Taylor  2018-12-24 01:37    186181   \n",
       "1119    Aaron Taylor  2018-12-06 16:15       679   \n",
       "1236    Aaron Taylor  2018-12-07 00:24     15551   \n",
       "1188    Aaron Taylor  2018-12-06 21:19    220000   \n",
       "320          Ab-Soul  2018-11-26 15:03    272306   \n",
       "628          Ab-Soul  2018-11-29 20:16    272306   \n",
       "9021  Abhi The Nomad  2019-11-03 21:39      1523   \n",
       "9019  Abhi The Nomad  2019-11-03 20:28    214811   \n",
       "8350  Abhi The Nomad  2019-10-24 01:33    217777   \n",
       "1459  Abhi The Nomad  2019-07-09 16:10    236740   \n",
       "6359         Abjects  2019-03-20 12:01    207317   \n",
       "\n",
       "                                              trackName               genres  \n",
       "8580                                 One Girl / One Boy    alternative dance  \n",
       "9188                                               Naga  underground hip hop  \n",
       "5880                                          Walk Away     alternative rock  \n",
       "329                                              Gretel     alternative rock  \n",
       "214                                              Gretel     alternative rock  \n",
       "439                                              Gretel     alternative rock  \n",
       "5881                                          Walk Away     alternative rock  \n",
       "5878                                          Walk Away     alternative rock  \n",
       "415                                              Gretel     alternative rock  \n",
       "49                                               Gretel     alternative rock  \n",
       "800                                              Gretel     alternative rock  \n",
       "573                                              Gretel     alternative rock  \n",
       "2415                                        Bye Bye Bye             boy band  \n",
       "2413                                        Bye Bye Bye             boy band  \n",
       "5311                                         1000 Words                 null  \n",
       "7986                                         1000 Words                 null  \n",
       "5001                                         1000 Words                 null  \n",
       "4998                                         1000 Words                 null  \n",
       "4969                                         1000 Words                 null  \n",
       "5339                                         1000 Words                 null  \n",
       "5365                                         1000 Words                 null  \n",
       "6133                                         1000 Words                 null  \n",
       "9009                                         1000 Words                 null  \n",
       "5753                                         1000 Words                 null  \n",
       "5443                                         1000 Words                 null  \n",
       "5469                                         1000 Words                 null  \n",
       "5633                                         1000 Words                 null  \n",
       "5492                                         1000 Words                 null  \n",
       "5966                                         1000 Words                 null  \n",
       "5391                                         1000 Words                 null  \n",
       "...                                                 ...                  ...  \n",
       "53                                         I'm Too Good                  pop  \n",
       "1024                                       I'm Too Good                  pop  \n",
       "1014                                       I'm Too Good                  pop  \n",
       "805                                        I'm Too Good                  pop  \n",
       "4793                                       I'm Too Good                  pop  \n",
       "2414                                       I Want Candy            dance pop  \n",
       "2456                                       Faded Dreams                focus  \n",
       "1560                                          I'll Know            chillstep  \n",
       "4614                                              Jaded      alternative r&b  \n",
       "2807                           I Think I Love You Again      alternative r&b  \n",
       "2806                                          Spaceship      alternative r&b  \n",
       "1650                           I Think I Love You Again      alternative r&b  \n",
       "2352                           I Think I Love You Again      alternative r&b  \n",
       "1446                                          Spaceship      alternative r&b  \n",
       "2954                                          Spaceship      alternative r&b  \n",
       "1207                                          Spaceship      alternative r&b  \n",
       "1130                           I Think I Love You Again      alternative r&b  \n",
       "1169                                          Spaceship      alternative r&b  \n",
       "9124                                          Spaceship      alternative r&b  \n",
       "2545                                          Spaceship      alternative r&b  \n",
       "1119                                          Spaceship      alternative r&b  \n",
       "1236                           I Think I Love You Again      alternative r&b  \n",
       "1188                           I Think I Love You Again      alternative r&b  \n",
       "320   Bloody Waters (with Anderson .Paak & James Blake)  alternative hip hop  \n",
       "628   Bloody Waters (with Anderson .Paak & James Blake)  alternative hip hop  \n",
       "9021                                       Sex n' Drugs         desi hip hop  \n",
       "9019                                       Sex n' Drugs         desi hip hop  \n",
       "8350                                       Sex n' Drugs         desi hip hop  \n",
       "1459                                            Mindset         desi hip hop  \n",
       "6359                                      Never Give Up                 null  \n",
       "\n",
       "[200 rows x 5 columns]"
      ]
     },
     "metadata": {},
     "output_type": "display_data"
    },
    {
     "name": "stderr",
     "output_type": "stream",
     "text": [
      "/anaconda3/envs/py36/lib/python3.6/site-packages/pandas/core/indexing.py:362: SettingWithCopyWarning: \n",
      "A value is trying to be set on a copy of a slice from a DataFrame.\n",
      "Try using .loc[row_indexer,col_indexer] = value instead\n",
      "\n",
      "See the caveats in the documentation: http://pandas.pydata.org/pandas-docs/stable/indexing.html#indexing-view-versus-copy\n",
      "  self.obj[key] = _infer_fill_value(value)\n"
     ]
    }
   ],
   "source": [
    "display(data_subset)\n",
    "data_subset.loc[:, 'genre'] = genre_list;"
   ]
  },
  {
   "cell_type": "code",
   "execution_count": 73,
   "metadata": {},
   "outputs": [
    {
     "data": {
      "text/html": [
       "<div>\n",
       "<style scoped>\n",
       "    .dataframe tbody tr th:only-of-type {\n",
       "        vertical-align: middle;\n",
       "    }\n",
       "\n",
       "    .dataframe tbody tr th {\n",
       "        vertical-align: top;\n",
       "    }\n",
       "\n",
       "    .dataframe thead th {\n",
       "        text-align: right;\n",
       "    }\n",
       "</style>\n",
       "<table border=\"1\" class=\"dataframe\">\n",
       "  <thead>\n",
       "    <tr style=\"text-align: right;\">\n",
       "      <th></th>\n",
       "      <th>artistName</th>\n",
       "      <th>endTime</th>\n",
       "      <th>msPlayed</th>\n",
       "      <th>trackName</th>\n",
       "    </tr>\n",
       "  </thead>\n",
       "  <tbody>\n",
       "    <tr>\n",
       "      <th>8580</th>\n",
       "      <td>!!!</td>\n",
       "      <td>2019-10-25 17:36</td>\n",
       "      <td>243626</td>\n",
       "      <td>One Girl / One Boy</td>\n",
       "    </tr>\n",
       "    <tr>\n",
       "      <th>9188</th>\n",
       "      <td>$ilkMoney</td>\n",
       "      <td>2019-11-05 22:13</td>\n",
       "      <td>117995</td>\n",
       "      <td>Naga</td>\n",
       "    </tr>\n",
       "    <tr>\n",
       "      <th>5880</th>\n",
       "      <td>(Sandy) Alex G</td>\n",
       "      <td>2019-09-17 13:24</td>\n",
       "      <td>0</td>\n",
       "      <td>Walk Away</td>\n",
       "    </tr>\n",
       "    <tr>\n",
       "      <th>329</th>\n",
       "      <td>(Sandy) Alex G</td>\n",
       "      <td>2019-06-15 16:13</td>\n",
       "      <td>190218</td>\n",
       "      <td>Gretel</td>\n",
       "    </tr>\n",
       "    <tr>\n",
       "      <th>214</th>\n",
       "      <td>(Sandy) Alex G</td>\n",
       "      <td>2019-06-13 16:21</td>\n",
       "      <td>140630</td>\n",
       "      <td>Gretel</td>\n",
       "    </tr>\n",
       "    <tr>\n",
       "      <th>439</th>\n",
       "      <td>(Sandy) Alex G</td>\n",
       "      <td>2019-06-19 17:14</td>\n",
       "      <td>0</td>\n",
       "      <td>Gretel</td>\n",
       "    </tr>\n",
       "    <tr>\n",
       "      <th>5881</th>\n",
       "      <td>(Sandy) Alex G</td>\n",
       "      <td>2019-09-17 13:51</td>\n",
       "      <td>37610</td>\n",
       "      <td>Walk Away</td>\n",
       "    </tr>\n",
       "    <tr>\n",
       "      <th>5878</th>\n",
       "      <td>(Sandy) Alex G</td>\n",
       "      <td>2019-09-17 13:23</td>\n",
       "      <td>0</td>\n",
       "      <td>Walk Away</td>\n",
       "    </tr>\n",
       "    <tr>\n",
       "      <th>415</th>\n",
       "      <td>(Sandy) Alex G</td>\n",
       "      <td>2019-06-19 16:45</td>\n",
       "      <td>190218</td>\n",
       "      <td>Gretel</td>\n",
       "    </tr>\n",
       "    <tr>\n",
       "      <th>49</th>\n",
       "      <td>(Sandy) Alex G</td>\n",
       "      <td>2019-06-10 04:06</td>\n",
       "      <td>8680</td>\n",
       "      <td>Gretel</td>\n",
       "    </tr>\n",
       "    <tr>\n",
       "      <th>800</th>\n",
       "      <td>(Sandy) Alex G</td>\n",
       "      <td>2019-06-28 18:11</td>\n",
       "      <td>655</td>\n",
       "      <td>Gretel</td>\n",
       "    </tr>\n",
       "    <tr>\n",
       "      <th>573</th>\n",
       "      <td>(Sandy) Alex G</td>\n",
       "      <td>2019-06-21 23:14</td>\n",
       "      <td>39891</td>\n",
       "      <td>Gretel</td>\n",
       "    </tr>\n",
       "    <tr>\n",
       "      <th>2415</th>\n",
       "      <td>*NSYNC</td>\n",
       "      <td>2019-07-23 00:41</td>\n",
       "      <td>42004</td>\n",
       "      <td>Bye Bye Bye</td>\n",
       "    </tr>\n",
       "    <tr>\n",
       "      <th>2413</th>\n",
       "      <td>*NSYNC</td>\n",
       "      <td>2019-07-23 00:37</td>\n",
       "      <td>9682</td>\n",
       "      <td>Bye Bye Bye</td>\n",
       "    </tr>\n",
       "    <tr>\n",
       "      <th>5311</th>\n",
       "      <td>0171</td>\n",
       "      <td>2019-02-21 01:56</td>\n",
       "      <td>239456</td>\n",
       "      <td>1000 Words</td>\n",
       "    </tr>\n",
       "    <tr>\n",
       "      <th>7986</th>\n",
       "      <td>0171</td>\n",
       "      <td>2019-10-17 02:43</td>\n",
       "      <td>239455</td>\n",
       "      <td>1000 Words</td>\n",
       "    </tr>\n",
       "    <tr>\n",
       "      <th>5001</th>\n",
       "      <td>0171</td>\n",
       "      <td>2019-02-14 23:52</td>\n",
       "      <td>239456</td>\n",
       "      <td>1000 Words</td>\n",
       "    </tr>\n",
       "    <tr>\n",
       "      <th>4998</th>\n",
       "      <td>0171</td>\n",
       "      <td>2019-02-14 23:06</td>\n",
       "      <td>240292</td>\n",
       "      <td>1000 Words</td>\n",
       "    </tr>\n",
       "    <tr>\n",
       "      <th>4969</th>\n",
       "      <td>0171</td>\n",
       "      <td>2019-02-14 01:53</td>\n",
       "      <td>239455</td>\n",
       "      <td>1000 Words</td>\n",
       "    </tr>\n",
       "    <tr>\n",
       "      <th>5339</th>\n",
       "      <td>0171</td>\n",
       "      <td>2019-02-21 03:23</td>\n",
       "      <td>239456</td>\n",
       "      <td>1000 Words</td>\n",
       "    </tr>\n",
       "    <tr>\n",
       "      <th>5365</th>\n",
       "      <td>0171</td>\n",
       "      <td>2019-02-21 05:07</td>\n",
       "      <td>239456</td>\n",
       "      <td>1000 Words</td>\n",
       "    </tr>\n",
       "    <tr>\n",
       "      <th>6133</th>\n",
       "      <td>0171</td>\n",
       "      <td>2019-03-15 18:12</td>\n",
       "      <td>239455</td>\n",
       "      <td>1000 Words</td>\n",
       "    </tr>\n",
       "    <tr>\n",
       "      <th>9009</th>\n",
       "      <td>0171</td>\n",
       "      <td>2019-11-03 19:31</td>\n",
       "      <td>239455</td>\n",
       "      <td>1000 Words</td>\n",
       "    </tr>\n",
       "    <tr>\n",
       "      <th>5753</th>\n",
       "      <td>0171</td>\n",
       "      <td>2019-02-25 23:22</td>\n",
       "      <td>239455</td>\n",
       "      <td>1000 Words</td>\n",
       "    </tr>\n",
       "    <tr>\n",
       "      <th>5443</th>\n",
       "      <td>0171</td>\n",
       "      <td>2019-02-21 10:16</td>\n",
       "      <td>239456</td>\n",
       "      <td>1000 Words</td>\n",
       "    </tr>\n",
       "    <tr>\n",
       "      <th>5469</th>\n",
       "      <td>0171</td>\n",
       "      <td>2019-02-21 11:59</td>\n",
       "      <td>239456</td>\n",
       "      <td>1000 Words</td>\n",
       "    </tr>\n",
       "    <tr>\n",
       "      <th>5633</th>\n",
       "      <td>0171</td>\n",
       "      <td>2019-02-23 02:03</td>\n",
       "      <td>239455</td>\n",
       "      <td>1000 Words</td>\n",
       "    </tr>\n",
       "    <tr>\n",
       "      <th>5492</th>\n",
       "      <td>0171</td>\n",
       "      <td>2019-02-21 23:53</td>\n",
       "      <td>239455</td>\n",
       "      <td>1000 Words</td>\n",
       "    </tr>\n",
       "    <tr>\n",
       "      <th>5966</th>\n",
       "      <td>0171</td>\n",
       "      <td>2019-03-06 16:55</td>\n",
       "      <td>239455</td>\n",
       "      <td>1000 Words</td>\n",
       "    </tr>\n",
       "    <tr>\n",
       "      <th>5391</th>\n",
       "      <td>0171</td>\n",
       "      <td>2019-02-21 06:50</td>\n",
       "      <td>239456</td>\n",
       "      <td>1000 Words</td>\n",
       "    </tr>\n",
       "    <tr>\n",
       "      <th>...</th>\n",
       "      <td>...</td>\n",
       "      <td>...</td>\n",
       "      <td>...</td>\n",
       "      <td>...</td>\n",
       "    </tr>\n",
       "    <tr>\n",
       "      <th>5835</th>\n",
       "      <td>trentemøller</td>\n",
       "      <td>2019-09-16 17:11</td>\n",
       "      <td>311054</td>\n",
       "      <td>While The Cold Winter Waiting</td>\n",
       "    </tr>\n",
       "    <tr>\n",
       "      <th>5843</th>\n",
       "      <td>trentemøller</td>\n",
       "      <td>2019-09-16 17:48</td>\n",
       "      <td>450562</td>\n",
       "      <td>Take Me Into Your Skin</td>\n",
       "    </tr>\n",
       "    <tr>\n",
       "      <th>6928</th>\n",
       "      <td>trentemøller</td>\n",
       "      <td>2019-10-04 20:57</td>\n",
       "      <td>309265</td>\n",
       "      <td>Blue September</td>\n",
       "    </tr>\n",
       "    <tr>\n",
       "      <th>4233</th>\n",
       "      <td>trentemøller</td>\n",
       "      <td>2019-01-28 19:46</td>\n",
       "      <td>450562</td>\n",
       "      <td>Take Me Into Your Skin</td>\n",
       "    </tr>\n",
       "    <tr>\n",
       "      <th>1509</th>\n",
       "      <td>w00ds</td>\n",
       "      <td>2018-12-10 19:12</td>\n",
       "      <td>143777</td>\n",
       "      <td>Electric Soul</td>\n",
       "    </tr>\n",
       "    <tr>\n",
       "      <th>6359</th>\n",
       "      <td>weird inside</td>\n",
       "      <td>2019-09-23 17:58</td>\n",
       "      <td>173846</td>\n",
       "      <td>just ask</td>\n",
       "    </tr>\n",
       "    <tr>\n",
       "      <th>7803</th>\n",
       "      <td>weird inside</td>\n",
       "      <td>2019-10-14 06:03</td>\n",
       "      <td>173328</td>\n",
       "      <td>just ask</td>\n",
       "    </tr>\n",
       "    <tr>\n",
       "      <th>6325</th>\n",
       "      <td>weird inside</td>\n",
       "      <td>2019-09-23 16:24</td>\n",
       "      <td>173846</td>\n",
       "      <td>just ask</td>\n",
       "    </tr>\n",
       "    <tr>\n",
       "      <th>8857</th>\n",
       "      <td>weird inside</td>\n",
       "      <td>2019-10-31 18:00</td>\n",
       "      <td>173846</td>\n",
       "      <td>just ask</td>\n",
       "    </tr>\n",
       "    <tr>\n",
       "      <th>5986</th>\n",
       "      <td>weird inside</td>\n",
       "      <td>2019-09-19 18:19</td>\n",
       "      <td>173846</td>\n",
       "      <td>just ask</td>\n",
       "    </tr>\n",
       "    <tr>\n",
       "      <th>1092</th>\n",
       "      <td>weird inside</td>\n",
       "      <td>2019-07-03 17:27</td>\n",
       "      <td>173846</td>\n",
       "      <td>just ask</td>\n",
       "    </tr>\n",
       "    <tr>\n",
       "      <th>7756</th>\n",
       "      <td>weird inside</td>\n",
       "      <td>2019-10-14 04:13</td>\n",
       "      <td>1670</td>\n",
       "      <td>just ask</td>\n",
       "    </tr>\n",
       "    <tr>\n",
       "      <th>6369</th>\n",
       "      <td>weird inside</td>\n",
       "      <td>2019-09-23 18:07</td>\n",
       "      <td>2218</td>\n",
       "      <td>just ask</td>\n",
       "    </tr>\n",
       "    <tr>\n",
       "      <th>8827</th>\n",
       "      <td>weird inside</td>\n",
       "      <td>2019-10-31 15:11</td>\n",
       "      <td>173846</td>\n",
       "      <td>just ask</td>\n",
       "    </tr>\n",
       "    <tr>\n",
       "      <th>8892</th>\n",
       "      <td>weird inside</td>\n",
       "      <td>2019-10-31 19:46</td>\n",
       "      <td>173846</td>\n",
       "      <td>just ask</td>\n",
       "    </tr>\n",
       "    <tr>\n",
       "      <th>2555</th>\n",
       "      <td>weird inside</td>\n",
       "      <td>2019-07-24 18:49</td>\n",
       "      <td>173846</td>\n",
       "      <td>just ask</td>\n",
       "    </tr>\n",
       "    <tr>\n",
       "      <th>7059</th>\n",
       "      <td>weird inside</td>\n",
       "      <td>2019-10-07 14:40</td>\n",
       "      <td>173846</td>\n",
       "      <td>just ask</td>\n",
       "    </tr>\n",
       "    <tr>\n",
       "      <th>8343</th>\n",
       "      <td>yeule</td>\n",
       "      <td>2019-10-23 19:53</td>\n",
       "      <td>260685</td>\n",
       "      <td>Poison Arrow</td>\n",
       "    </tr>\n",
       "    <tr>\n",
       "      <th>6196</th>\n",
       "      <td>yeule</td>\n",
       "      <td>2019-09-21 14:22</td>\n",
       "      <td>870</td>\n",
       "      <td>Pocky Boy</td>\n",
       "    </tr>\n",
       "    <tr>\n",
       "      <th>8768</th>\n",
       "      <td>yeule</td>\n",
       "      <td>2019-10-29 18:55</td>\n",
       "      <td>241388</td>\n",
       "      <td>Pocky Boy</td>\n",
       "    </tr>\n",
       "    <tr>\n",
       "      <th>2442</th>\n",
       "      <td>zack villere</td>\n",
       "      <td>2018-12-23 07:59</td>\n",
       "      <td>191984</td>\n",
       "      <td>Bloo</td>\n",
       "    </tr>\n",
       "    <tr>\n",
       "      <th>9877</th>\n",
       "      <td>Ólafur Arnalds</td>\n",
       "      <td>2019-11-19 17:00</td>\n",
       "      <td>194319</td>\n",
       "      <td>brot (lisboa) - live</td>\n",
       "    </tr>\n",
       "    <tr>\n",
       "      <th>6771</th>\n",
       "      <td>ØDYSSEE</td>\n",
       "      <td>2019-10-01 17:42</td>\n",
       "      <td>147002</td>\n",
       "      <td>Common'</td>\n",
       "    </tr>\n",
       "    <tr>\n",
       "      <th>6790</th>\n",
       "      <td>ØDYSSEE</td>\n",
       "      <td>2019-10-01 18:40</td>\n",
       "      <td>73248</td>\n",
       "      <td>Fallin' in Love</td>\n",
       "    </tr>\n",
       "    <tr>\n",
       "      <th>6785</th>\n",
       "      <td>ØDYSSEE</td>\n",
       "      <td>2019-10-01 18:29</td>\n",
       "      <td>120740</td>\n",
       "      <td>Let Me Sink</td>\n",
       "    </tr>\n",
       "    <tr>\n",
       "      <th>6778</th>\n",
       "      <td>ØDYSSEE</td>\n",
       "      <td>2019-10-01 18:10</td>\n",
       "      <td>147002</td>\n",
       "      <td>Common'</td>\n",
       "    </tr>\n",
       "    <tr>\n",
       "      <th>2778</th>\n",
       "      <td>ØDYSSEE</td>\n",
       "      <td>2019-07-29 18:02</td>\n",
       "      <td>179469</td>\n",
       "      <td>Midnight Romance</td>\n",
       "    </tr>\n",
       "    <tr>\n",
       "      <th>7038</th>\n",
       "      <td>박혜진 park hye jin</td>\n",
       "      <td>2019-04-03 13:42</td>\n",
       "      <td>176729</td>\n",
       "      <td>ABC</td>\n",
       "    </tr>\n",
       "    <tr>\n",
       "      <th>7196</th>\n",
       "      <td>박혜진 park hye jin</td>\n",
       "      <td>2019-04-05 11:39</td>\n",
       "      <td>242000</td>\n",
       "      <td>ABC</td>\n",
       "    </tr>\n",
       "    <tr>\n",
       "      <th>genres</th>\n",
       "      <td></td>\n",
       "      <td></td>\n",
       "      <td></td>\n",
       "      <td></td>\n",
       "    </tr>\n",
       "  </tbody>\n",
       "</table>\n",
       "<p>20002 rows × 4 columns</p>\n",
       "</div>"
      ],
      "text/plain": [
       "              artistName           endTime msPlayed  \\\n",
       "8580                 !!!  2019-10-25 17:36   243626   \n",
       "9188           $ilkMoney  2019-11-05 22:13   117995   \n",
       "5880      (Sandy) Alex G  2019-09-17 13:24        0   \n",
       "329       (Sandy) Alex G  2019-06-15 16:13   190218   \n",
       "214       (Sandy) Alex G  2019-06-13 16:21   140630   \n",
       "439       (Sandy) Alex G  2019-06-19 17:14        0   \n",
       "5881      (Sandy) Alex G  2019-09-17 13:51    37610   \n",
       "5878      (Sandy) Alex G  2019-09-17 13:23        0   \n",
       "415       (Sandy) Alex G  2019-06-19 16:45   190218   \n",
       "49        (Sandy) Alex G  2019-06-10 04:06     8680   \n",
       "800       (Sandy) Alex G  2019-06-28 18:11      655   \n",
       "573       (Sandy) Alex G  2019-06-21 23:14    39891   \n",
       "2415              *NSYNC  2019-07-23 00:41    42004   \n",
       "2413              *NSYNC  2019-07-23 00:37     9682   \n",
       "5311                0171  2019-02-21 01:56   239456   \n",
       "7986                0171  2019-10-17 02:43   239455   \n",
       "5001                0171  2019-02-14 23:52   239456   \n",
       "4998                0171  2019-02-14 23:06   240292   \n",
       "4969                0171  2019-02-14 01:53   239455   \n",
       "5339                0171  2019-02-21 03:23   239456   \n",
       "5365                0171  2019-02-21 05:07   239456   \n",
       "6133                0171  2019-03-15 18:12   239455   \n",
       "9009                0171  2019-11-03 19:31   239455   \n",
       "5753                0171  2019-02-25 23:22   239455   \n",
       "5443                0171  2019-02-21 10:16   239456   \n",
       "5469                0171  2019-02-21 11:59   239456   \n",
       "5633                0171  2019-02-23 02:03   239455   \n",
       "5492                0171  2019-02-21 23:53   239455   \n",
       "5966                0171  2019-03-06 16:55   239455   \n",
       "5391                0171  2019-02-21 06:50   239456   \n",
       "...                  ...               ...      ...   \n",
       "5835        trentemøller  2019-09-16 17:11   311054   \n",
       "5843        trentemøller  2019-09-16 17:48   450562   \n",
       "6928        trentemøller  2019-10-04 20:57   309265   \n",
       "4233        trentemøller  2019-01-28 19:46   450562   \n",
       "1509               w00ds  2018-12-10 19:12   143777   \n",
       "6359        weird inside  2019-09-23 17:58   173846   \n",
       "7803        weird inside  2019-10-14 06:03   173328   \n",
       "6325        weird inside  2019-09-23 16:24   173846   \n",
       "8857        weird inside  2019-10-31 18:00   173846   \n",
       "5986        weird inside  2019-09-19 18:19   173846   \n",
       "1092        weird inside  2019-07-03 17:27   173846   \n",
       "7756        weird inside  2019-10-14 04:13     1670   \n",
       "6369        weird inside  2019-09-23 18:07     2218   \n",
       "8827        weird inside  2019-10-31 15:11   173846   \n",
       "8892        weird inside  2019-10-31 19:46   173846   \n",
       "2555        weird inside  2019-07-24 18:49   173846   \n",
       "7059        weird inside  2019-10-07 14:40   173846   \n",
       "8343               yeule  2019-10-23 19:53   260685   \n",
       "6196               yeule  2019-09-21 14:22      870   \n",
       "8768               yeule  2019-10-29 18:55   241388   \n",
       "2442        zack villere  2018-12-23 07:59   191984   \n",
       "9877      Ólafur Arnalds  2019-11-19 17:00   194319   \n",
       "6771             ØDYSSEE  2019-10-01 17:42   147002   \n",
       "6790             ØDYSSEE  2019-10-01 18:40    73248   \n",
       "6785             ØDYSSEE  2019-10-01 18:29   120740   \n",
       "6778             ØDYSSEE  2019-10-01 18:10   147002   \n",
       "2778             ØDYSSEE  2019-07-29 18:02   179469   \n",
       "7038    박혜진 park hye jin  2019-04-03 13:42   176729   \n",
       "7196    박혜진 park hye jin  2019-04-05 11:39   242000   \n",
       "genres                                                \n",
       "\n",
       "                            trackName  \n",
       "8580               One Girl / One Boy  \n",
       "9188                             Naga  \n",
       "5880                        Walk Away  \n",
       "329                            Gretel  \n",
       "214                            Gretel  \n",
       "439                            Gretel  \n",
       "5881                        Walk Away  \n",
       "5878                        Walk Away  \n",
       "415                            Gretel  \n",
       "49                             Gretel  \n",
       "800                            Gretel  \n",
       "573                            Gretel  \n",
       "2415                      Bye Bye Bye  \n",
       "2413                      Bye Bye Bye  \n",
       "5311                       1000 Words  \n",
       "7986                       1000 Words  \n",
       "5001                       1000 Words  \n",
       "4998                       1000 Words  \n",
       "4969                       1000 Words  \n",
       "5339                       1000 Words  \n",
       "5365                       1000 Words  \n",
       "6133                       1000 Words  \n",
       "9009                       1000 Words  \n",
       "5753                       1000 Words  \n",
       "5443                       1000 Words  \n",
       "5469                       1000 Words  \n",
       "5633                       1000 Words  \n",
       "5492                       1000 Words  \n",
       "5966                       1000 Words  \n",
       "5391                       1000 Words  \n",
       "...                               ...  \n",
       "5835    While The Cold Winter Waiting  \n",
       "5843           Take Me Into Your Skin  \n",
       "6928                   Blue September  \n",
       "4233           Take Me Into Your Skin  \n",
       "1509                    Electric Soul  \n",
       "6359                         just ask  \n",
       "7803                         just ask  \n",
       "6325                         just ask  \n",
       "8857                         just ask  \n",
       "5986                         just ask  \n",
       "1092                         just ask  \n",
       "7756                         just ask  \n",
       "6369                         just ask  \n",
       "8827                         just ask  \n",
       "8892                         just ask  \n",
       "2555                         just ask  \n",
       "7059                         just ask  \n",
       "8343                     Poison Arrow  \n",
       "6196                        Pocky Boy  \n",
       "8768                        Pocky Boy  \n",
       "2442                             Bloo  \n",
       "9877             brot (lisboa) - live  \n",
       "6771                          Common'  \n",
       "6790                  Fallin' in Love  \n",
       "6785                      Let Me Sink  \n",
       "6778                          Common'  \n",
       "2778                 Midnight Romance  \n",
       "7038                              ABC  \n",
       "7196                              ABC  \n",
       "genres                                 \n",
       "\n",
       "[20002 rows x 4 columns]"
      ]
     },
     "metadata": {},
     "output_type": "display_data"
    }
   ],
   "source": [
    "display(data_subset)"
   ]
  },
  {
   "cell_type": "code",
   "execution_count": null,
   "metadata": {},
   "outputs": [],
   "source": []
  }
 ],
 "metadata": {
  "kernelspec": {
   "display_name": "Python 3",
   "language": "python",
   "name": "python3"
  },
  "language_info": {
   "codemirror_mode": {
    "name": "ipython",
    "version": 3
   },
   "file_extension": ".py",
   "mimetype": "text/x-python",
   "name": "python",
   "nbconvert_exporter": "python",
   "pygments_lexer": "ipython3",
   "version": "3.6.7"
  }
 },
 "nbformat": 4,
 "nbformat_minor": 2
}
